{
 "cells": [
  {
   "cell_type": "markdown",
   "metadata": {},
   "source": [
    "# Prediction of Loan Quality"
   ]
  },
  {
   "cell_type": "markdown",
   "metadata": {},
   "source": [
    "### Import Libraries"
   ]
  },
  {
   "cell_type": "markdown",
   "metadata": {},
   "source": [
    "First, we will list out and inport relevant libraries for this data science project."
   ]
  },
  {
   "cell_type": "code",
   "execution_count": 1,
   "metadata": {},
   "outputs": [
    {
     "name": "stderr",
     "output_type": "stream",
     "text": [
      "c:\\Users\\PC\\anaconda3\\envs\\python_work\\Lib\\site-packages\\tqdm\\auto.py:21: TqdmWarning: IProgress not found. Please update jupyter and ipywidgets. See https://ipywidgets.readthedocs.io/en/stable/user_install.html\n",
      "  from .autonotebook import tqdm as notebook_tqdm\n"
     ]
    }
   ],
   "source": [
    "# For reading data and preprocessing\n",
    "import pandas as pd\n",
    "import numpy as np\n",
    "from sklearn.preprocessing import LabelEncoder\n",
    "from sklearn.model_selection import KFold\n",
    "# interactive visualization\n",
    "import plotly.express as px\n",
    "import matplotlib as plt\n",
    "# For Clustering\n",
    "from kmodes.kprototypes import KPrototypes\n",
    "from sklearn.preprocessing import PowerTransformer\n",
    "# For Exploratory Data Analysis / Descriptive Data Analytics\n",
    "import sweetviz as sv\n",
    "import dtale\n",
    "# For evaluation Clustering\n",
    "import lightgbm as lgb\n",
    "from sklearn.model_selection import cross_val_score\n",
    "import shap\n",
    "# For Machine Learning Classification\n",
    "from sklearn.model_selection import train_test_split\n",
    "# Accuracy Metrics\n",
    "import joblib"
   ]
  },
  {
   "cell_type": "markdown",
   "metadata": {},
   "source": [
    "### Import Data"
   ]
  },
  {
   "cell_type": "markdown",
   "metadata": {},
   "source": [
    "next I will import data, for this project I will use only loan and underwriting data to see the loan risk. and to see if underwriting variables have correlation with how likely the loan been approved."
   ]
  },
  {
   "cell_type": "code",
   "execution_count": 2,
   "metadata": {},
   "outputs": [
    {
     "name": "stderr",
     "output_type": "stream",
     "text": [
      "Columns (9,11,12,13,14,15,16,17,18,19,20,21,22,23,25,26,27,28,29,31,32,33,36,37) have mixed types. Specify dtype option on import or set low_memory=False.\n"
     ]
    }
   ],
   "source": [
    "# import loan data\n",
    "loan_data = pd.read_csv(\"C:/Users/PC/Downloads/DS Assessment/data/data/loan.csv\")\n",
    "# import underwriting data\n",
    "underwriting_data = pd.read_csv(\"C:/Users/PC/Downloads/DS Assessment/data/data/clarity_underwriting_variables.csv\")"
   ]
  },
  {
   "cell_type": "markdown",
   "metadata": {},
   "source": [
    "### Descriptive Data Analysis"
   ]
  },
  {
   "cell_type": "markdown",
   "metadata": {},
   "source": [
    "using 2 profiling packages, dtale and sweetviz see the relationship between variables"
   ]
  },
  {
   "cell_type": "code",
   "execution_count": 3,
   "metadata": {},
   "outputs": [
    {
     "name": "stderr",
     "output_type": "stream",
     "text": [
      "Done! Use 'show' commands to display/save.   |██████████| [100%]   00:00 -> (00:00 left)\n"
     ]
    },
    {
     "name": "stdout",
     "output_type": "stream",
     "text": [
      "Report loan_data.html was generated! NOTEBOOK/COLAB USERS: the web browser MAY not pop up, regardless, the report IS saved in your notebook/colab files.\n"
     ]
    }
   ],
   "source": [
    "\n",
    "# Create a report\n",
    "report = sv.analyze(loan_data)\n",
    "\n",
    "# Display the report\n",
    "report.show_html('loan_data.html')  # Save report to HTML file"
   ]
  },
  {
   "cell_type": "markdown",
   "metadata": {},
   "source": [
    "using sweet viz to visualize profiling for the loan data, we can see that this variables have some correlation with approved loan status:\n",
    "\n",
    "nPaidOff                            0.27\n",
    "\n",
    "loanAmount                          0.11\n",
    "\n",
    "originallyScheduledPaymentAmount    0.10\n",
    "\n",
    "leadCost                            0.09\n",
    "\n",
    "apr                                 0.05"
   ]
  },
  {
   "cell_type": "markdown",
   "metadata": {},
   "source": [
    "### Data Cleaning"
   ]
  },
  {
   "cell_type": "markdown",
   "metadata": {},
   "source": [
    "after that, we will clean the data by only takes the one have Clear Fraud ID. this is because we will map it with clearfraudscore from underwriting variables data. so I will be left with loan application that have clearfraudscore value."
   ]
  },
  {
   "cell_type": "code",
   "execution_count": 4,
   "metadata": {},
   "outputs": [],
   "source": [
    "# Separate data based on 'hasCF' values\n",
    "hasCF_0 = loan_data[loan_data['hasCF'] == 0]\n",
    "hasCF_1 = loan_data[loan_data['hasCF'] == 1]"
   ]
  },
  {
   "cell_type": "code",
   "execution_count": 5,
   "metadata": {},
   "outputs": [],
   "source": [
    "# \n",
    "# Add clearfraudscore to loan dataset using clearfraudid from both loan dataset and clarity fraud variables dataset.\n",
    "# \n",
    "\n",
    "# standardized the column name, so that to merge datasets become easier\n",
    "loan_data_hasCF_1 = hasCF_1.rename(columns={'clarityFraudId': 'underwritingid'})\n",
    "selected_columns = ['clearfraudscore','underwritingid'] \n",
    "\n",
    "# Selecting specific columns from underwriting_data\n",
    "selected_underwriting = underwriting_data[selected_columns]\n",
    "\n",
    "# Merge loan_data with selected columns from underwriting_data based on 'underwritingId' column\n",
    "merged_loan_data = loan_data_hasCF_1.merge(selected_underwriting, on='underwritingid', how='inner')\n",
    "merged_loan_data = merged_loan_data.drop(columns='hasCF')"
   ]
  },
  {
   "cell_type": "code",
   "execution_count": 6,
   "metadata": {},
   "outputs": [
    {
     "name": "stderr",
     "output_type": "stream",
     "text": [
      "Done! Use 'show' commands to display/save.   |██████████| [100%]   00:00 -> (00:00 left)\n"
     ]
    },
    {
     "name": "stdout",
     "output_type": "stream",
     "text": [
      "Report merged_loan_data.html was generated! NOTEBOOK/COLAB USERS: the web browser MAY not pop up, regardless, the report IS saved in your notebook/colab files.\n"
     ]
    }
   ],
   "source": [
    "sv.analyze(merged_loan_data).show_html(\"merged_loan_data.html\")"
   ]
  },
  {
   "cell_type": "markdown",
   "metadata": {},
   "source": [
    "we now have profiling for merged_loan data where I have merge loan data with underwriting data using clarityFraudId column and underwriting_id from both dataset respectively to get clearfraudscore."
   ]
  },
  {
   "cell_type": "markdown",
   "metadata": {},
   "source": [
    "#### Exploratory Data Analysis"
   ]
  },
  {
   "cell_type": "markdown",
   "metadata": {},
   "source": [
    "Let's see how the data looks like for every states in US."
   ]
  },
  {
   "cell_type": "code",
   "execution_count": 7,
   "metadata": {},
   "outputs": [
    {
     "data": {
      "application/vnd.plotly.v1+json": {
       "config": {
        "plotlyServerURL": "https://plot.ly"
       },
       "data": [
        {
         "coloraxis": "coloraxis",
         "geo": "geo",
         "hovertemplate": "locations=%{location}<br>Application Count=%{z}<extra></extra>",
         "locationmode": "USA-states",
         "locations": [
          "OH",
          "IL",
          "TX",
          "MO",
          "WI",
          "MI",
          "TN",
          "NC",
          "FL",
          "IN",
          "SC",
          "CA",
          "NV",
          "PA",
          "VA",
          "NJ",
          "UT",
          "AL",
          "MS",
          "CO",
          "LA",
          "AZ",
          "NM",
          "KY",
          "SD",
          "MN",
          "GA",
          "OK",
          "WY",
          "CT",
          "WA",
          "KS",
          "IA",
          "DE",
          "ID",
          "RI",
          "NE",
          "HI",
          "AK",
          "ND",
          "NY",
          "MD",
          "OH-TEST",
          "TX-TEST"
         ],
         "name": "",
         "type": "choropleth",
         "z": [
          90496,
          66710,
          49729,
          49249,
          40349,
          34635,
          32991,
          26962,
          25896,
          25781,
          23925,
          22691,
          11477,
          9723,
          9197,
          7641,
          6742,
          4327,
          3786,
          3615,
          3431,
          3355,
          3231,
          2911,
          2212,
          2078,
          1763,
          1758,
          1715,
          1468,
          1384,
          1227,
          1043,
          880,
          722,
          689,
          635,
          621,
          290,
          207,
          3,
          3,
          1,
          1
         ]
        }
       ],
       "layout": {
        "coloraxis": {
         "colorbar": {
          "title": {
           "text": "Loan Count"
          }
         },
         "colorscale": [
          [
           0,
           "rgb(255,255,217)"
          ],
          [
           0.125,
           "rgb(237,248,177)"
          ],
          [
           0.25,
           "rgb(199,233,180)"
          ],
          [
           0.375,
           "rgb(127,205,187)"
          ],
          [
           0.5,
           "rgb(65,182,196)"
          ],
          [
           0.625,
           "rgb(29,145,192)"
          ],
          [
           0.75,
           "rgb(34,94,168)"
          ],
          [
           0.875,
           "rgb(37,52,148)"
          ],
          [
           1,
           "rgb(8,29,88)"
          ]
         ]
        },
        "geo": {
         "bgcolor": "rgba(0,0,0,0)",
         "center": {},
         "domain": {
          "x": [
           0,
           1
          ],
          "y": [
           0,
           1
          ]
         },
         "lakecolor": "rgba(0,0,0,0)",
         "scope": "usa"
        },
        "legend": {
         "tracegroupgap": 0
        },
        "template": {
         "data": {
          "bar": [
           {
            "error_x": {
             "color": "#2a3f5f"
            },
            "error_y": {
             "color": "#2a3f5f"
            },
            "marker": {
             "line": {
              "color": "#E5ECF6",
              "width": 0.5
             },
             "pattern": {
              "fillmode": "overlay",
              "size": 10,
              "solidity": 0.2
             }
            },
            "type": "bar"
           }
          ],
          "barpolar": [
           {
            "marker": {
             "line": {
              "color": "#E5ECF6",
              "width": 0.5
             },
             "pattern": {
              "fillmode": "overlay",
              "size": 10,
              "solidity": 0.2
             }
            },
            "type": "barpolar"
           }
          ],
          "carpet": [
           {
            "aaxis": {
             "endlinecolor": "#2a3f5f",
             "gridcolor": "white",
             "linecolor": "white",
             "minorgridcolor": "white",
             "startlinecolor": "#2a3f5f"
            },
            "baxis": {
             "endlinecolor": "#2a3f5f",
             "gridcolor": "white",
             "linecolor": "white",
             "minorgridcolor": "white",
             "startlinecolor": "#2a3f5f"
            },
            "type": "carpet"
           }
          ],
          "choropleth": [
           {
            "colorbar": {
             "outlinewidth": 0,
             "ticks": ""
            },
            "type": "choropleth"
           }
          ],
          "contour": [
           {
            "colorbar": {
             "outlinewidth": 0,
             "ticks": ""
            },
            "colorscale": [
             [
              0,
              "#0d0887"
             ],
             [
              0.1111111111111111,
              "#46039f"
             ],
             [
              0.2222222222222222,
              "#7201a8"
             ],
             [
              0.3333333333333333,
              "#9c179e"
             ],
             [
              0.4444444444444444,
              "#bd3786"
             ],
             [
              0.5555555555555556,
              "#d8576b"
             ],
             [
              0.6666666666666666,
              "#ed7953"
             ],
             [
              0.7777777777777778,
              "#fb9f3a"
             ],
             [
              0.8888888888888888,
              "#fdca26"
             ],
             [
              1,
              "#f0f921"
             ]
            ],
            "type": "contour"
           }
          ],
          "contourcarpet": [
           {
            "colorbar": {
             "outlinewidth": 0,
             "ticks": ""
            },
            "type": "contourcarpet"
           }
          ],
          "heatmap": [
           {
            "colorbar": {
             "outlinewidth": 0,
             "ticks": ""
            },
            "colorscale": [
             [
              0,
              "#0d0887"
             ],
             [
              0.1111111111111111,
              "#46039f"
             ],
             [
              0.2222222222222222,
              "#7201a8"
             ],
             [
              0.3333333333333333,
              "#9c179e"
             ],
             [
              0.4444444444444444,
              "#bd3786"
             ],
             [
              0.5555555555555556,
              "#d8576b"
             ],
             [
              0.6666666666666666,
              "#ed7953"
             ],
             [
              0.7777777777777778,
              "#fb9f3a"
             ],
             [
              0.8888888888888888,
              "#fdca26"
             ],
             [
              1,
              "#f0f921"
             ]
            ],
            "type": "heatmap"
           }
          ],
          "heatmapgl": [
           {
            "colorbar": {
             "outlinewidth": 0,
             "ticks": ""
            },
            "colorscale": [
             [
              0,
              "#0d0887"
             ],
             [
              0.1111111111111111,
              "#46039f"
             ],
             [
              0.2222222222222222,
              "#7201a8"
             ],
             [
              0.3333333333333333,
              "#9c179e"
             ],
             [
              0.4444444444444444,
              "#bd3786"
             ],
             [
              0.5555555555555556,
              "#d8576b"
             ],
             [
              0.6666666666666666,
              "#ed7953"
             ],
             [
              0.7777777777777778,
              "#fb9f3a"
             ],
             [
              0.8888888888888888,
              "#fdca26"
             ],
             [
              1,
              "#f0f921"
             ]
            ],
            "type": "heatmapgl"
           }
          ],
          "histogram": [
           {
            "marker": {
             "pattern": {
              "fillmode": "overlay",
              "size": 10,
              "solidity": 0.2
             }
            },
            "type": "histogram"
           }
          ],
          "histogram2d": [
           {
            "colorbar": {
             "outlinewidth": 0,
             "ticks": ""
            },
            "colorscale": [
             [
              0,
              "#0d0887"
             ],
             [
              0.1111111111111111,
              "#46039f"
             ],
             [
              0.2222222222222222,
              "#7201a8"
             ],
             [
              0.3333333333333333,
              "#9c179e"
             ],
             [
              0.4444444444444444,
              "#bd3786"
             ],
             [
              0.5555555555555556,
              "#d8576b"
             ],
             [
              0.6666666666666666,
              "#ed7953"
             ],
             [
              0.7777777777777778,
              "#fb9f3a"
             ],
             [
              0.8888888888888888,
              "#fdca26"
             ],
             [
              1,
              "#f0f921"
             ]
            ],
            "type": "histogram2d"
           }
          ],
          "histogram2dcontour": [
           {
            "colorbar": {
             "outlinewidth": 0,
             "ticks": ""
            },
            "colorscale": [
             [
              0,
              "#0d0887"
             ],
             [
              0.1111111111111111,
              "#46039f"
             ],
             [
              0.2222222222222222,
              "#7201a8"
             ],
             [
              0.3333333333333333,
              "#9c179e"
             ],
             [
              0.4444444444444444,
              "#bd3786"
             ],
             [
              0.5555555555555556,
              "#d8576b"
             ],
             [
              0.6666666666666666,
              "#ed7953"
             ],
             [
              0.7777777777777778,
              "#fb9f3a"
             ],
             [
              0.8888888888888888,
              "#fdca26"
             ],
             [
              1,
              "#f0f921"
             ]
            ],
            "type": "histogram2dcontour"
           }
          ],
          "mesh3d": [
           {
            "colorbar": {
             "outlinewidth": 0,
             "ticks": ""
            },
            "type": "mesh3d"
           }
          ],
          "parcoords": [
           {
            "line": {
             "colorbar": {
              "outlinewidth": 0,
              "ticks": ""
             }
            },
            "type": "parcoords"
           }
          ],
          "pie": [
           {
            "automargin": true,
            "type": "pie"
           }
          ],
          "scatter": [
           {
            "fillpattern": {
             "fillmode": "overlay",
             "size": 10,
             "solidity": 0.2
            },
            "type": "scatter"
           }
          ],
          "scatter3d": [
           {
            "line": {
             "colorbar": {
              "outlinewidth": 0,
              "ticks": ""
             }
            },
            "marker": {
             "colorbar": {
              "outlinewidth": 0,
              "ticks": ""
             }
            },
            "type": "scatter3d"
           }
          ],
          "scattercarpet": [
           {
            "marker": {
             "colorbar": {
              "outlinewidth": 0,
              "ticks": ""
             }
            },
            "type": "scattercarpet"
           }
          ],
          "scattergeo": [
           {
            "marker": {
             "colorbar": {
              "outlinewidth": 0,
              "ticks": ""
             }
            },
            "type": "scattergeo"
           }
          ],
          "scattergl": [
           {
            "marker": {
             "colorbar": {
              "outlinewidth": 0,
              "ticks": ""
             }
            },
            "type": "scattergl"
           }
          ],
          "scattermapbox": [
           {
            "marker": {
             "colorbar": {
              "outlinewidth": 0,
              "ticks": ""
             }
            },
            "type": "scattermapbox"
           }
          ],
          "scatterpolar": [
           {
            "marker": {
             "colorbar": {
              "outlinewidth": 0,
              "ticks": ""
             }
            },
            "type": "scatterpolar"
           }
          ],
          "scatterpolargl": [
           {
            "marker": {
             "colorbar": {
              "outlinewidth": 0,
              "ticks": ""
             }
            },
            "type": "scatterpolargl"
           }
          ],
          "scatterternary": [
           {
            "marker": {
             "colorbar": {
              "outlinewidth": 0,
              "ticks": ""
             }
            },
            "type": "scatterternary"
           }
          ],
          "surface": [
           {
            "colorbar": {
             "outlinewidth": 0,
             "ticks": ""
            },
            "colorscale": [
             [
              0,
              "#0d0887"
             ],
             [
              0.1111111111111111,
              "#46039f"
             ],
             [
              0.2222222222222222,
              "#7201a8"
             ],
             [
              0.3333333333333333,
              "#9c179e"
             ],
             [
              0.4444444444444444,
              "#bd3786"
             ],
             [
              0.5555555555555556,
              "#d8576b"
             ],
             [
              0.6666666666666666,
              "#ed7953"
             ],
             [
              0.7777777777777778,
              "#fb9f3a"
             ],
             [
              0.8888888888888888,
              "#fdca26"
             ],
             [
              1,
              "#f0f921"
             ]
            ],
            "type": "surface"
           }
          ],
          "table": [
           {
            "cells": {
             "fill": {
              "color": "#EBF0F8"
             },
             "line": {
              "color": "white"
             }
            },
            "header": {
             "fill": {
              "color": "#C8D4E3"
             },
             "line": {
              "color": "white"
             }
            },
            "type": "table"
           }
          ]
         },
         "layout": {
          "annotationdefaults": {
           "arrowcolor": "#2a3f5f",
           "arrowhead": 0,
           "arrowwidth": 1
          },
          "autotypenumbers": "strict",
          "coloraxis": {
           "colorbar": {
            "outlinewidth": 0,
            "ticks": ""
           }
          },
          "colorscale": {
           "diverging": [
            [
             0,
             "#8e0152"
            ],
            [
             0.1,
             "#c51b7d"
            ],
            [
             0.2,
             "#de77ae"
            ],
            [
             0.3,
             "#f1b6da"
            ],
            [
             0.4,
             "#fde0ef"
            ],
            [
             0.5,
             "#f7f7f7"
            ],
            [
             0.6,
             "#e6f5d0"
            ],
            [
             0.7,
             "#b8e186"
            ],
            [
             0.8,
             "#7fbc41"
            ],
            [
             0.9,
             "#4d9221"
            ],
            [
             1,
             "#276419"
            ]
           ],
           "sequential": [
            [
             0,
             "#0d0887"
            ],
            [
             0.1111111111111111,
             "#46039f"
            ],
            [
             0.2222222222222222,
             "#7201a8"
            ],
            [
             0.3333333333333333,
             "#9c179e"
            ],
            [
             0.4444444444444444,
             "#bd3786"
            ],
            [
             0.5555555555555556,
             "#d8576b"
            ],
            [
             0.6666666666666666,
             "#ed7953"
            ],
            [
             0.7777777777777778,
             "#fb9f3a"
            ],
            [
             0.8888888888888888,
             "#fdca26"
            ],
            [
             1,
             "#f0f921"
            ]
           ],
           "sequentialminus": [
            [
             0,
             "#0d0887"
            ],
            [
             0.1111111111111111,
             "#46039f"
            ],
            [
             0.2222222222222222,
             "#7201a8"
            ],
            [
             0.3333333333333333,
             "#9c179e"
            ],
            [
             0.4444444444444444,
             "#bd3786"
            ],
            [
             0.5555555555555556,
             "#d8576b"
            ],
            [
             0.6666666666666666,
             "#ed7953"
            ],
            [
             0.7777777777777778,
             "#fb9f3a"
            ],
            [
             0.8888888888888888,
             "#fdca26"
            ],
            [
             1,
             "#f0f921"
            ]
           ]
          },
          "colorway": [
           "#636efa",
           "#EF553B",
           "#00cc96",
           "#ab63fa",
           "#FFA15A",
           "#19d3f3",
           "#FF6692",
           "#B6E880",
           "#FF97FF",
           "#FECB52"
          ],
          "font": {
           "color": "#2a3f5f"
          },
          "geo": {
           "bgcolor": "white",
           "lakecolor": "white",
           "landcolor": "#E5ECF6",
           "showlakes": true,
           "showland": true,
           "subunitcolor": "white"
          },
          "hoverlabel": {
           "align": "left"
          },
          "hovermode": "closest",
          "mapbox": {
           "style": "light"
          },
          "paper_bgcolor": "white",
          "plot_bgcolor": "#E5ECF6",
          "polar": {
           "angularaxis": {
            "gridcolor": "white",
            "linecolor": "white",
            "ticks": ""
           },
           "bgcolor": "#E5ECF6",
           "radialaxis": {
            "gridcolor": "white",
            "linecolor": "white",
            "ticks": ""
           }
          },
          "scene": {
           "xaxis": {
            "backgroundcolor": "#E5ECF6",
            "gridcolor": "white",
            "gridwidth": 2,
            "linecolor": "white",
            "showbackground": true,
            "ticks": "",
            "zerolinecolor": "white"
           },
           "yaxis": {
            "backgroundcolor": "#E5ECF6",
            "gridcolor": "white",
            "gridwidth": 2,
            "linecolor": "white",
            "showbackground": true,
            "ticks": "",
            "zerolinecolor": "white"
           },
           "zaxis": {
            "backgroundcolor": "#E5ECF6",
            "gridcolor": "white",
            "gridwidth": 2,
            "linecolor": "white",
            "showbackground": true,
            "ticks": "",
            "zerolinecolor": "white"
           }
          },
          "shapedefaults": {
           "line": {
            "color": "#2a3f5f"
           }
          },
          "ternary": {
           "aaxis": {
            "gridcolor": "white",
            "linecolor": "white",
            "ticks": ""
           },
           "baxis": {
            "gridcolor": "white",
            "linecolor": "white",
            "ticks": ""
           },
           "bgcolor": "#E5ECF6",
           "caxis": {
            "gridcolor": "white",
            "linecolor": "white",
            "ticks": ""
           }
          },
          "title": {
           "x": 0.05
          },
          "xaxis": {
           "automargin": true,
           "gridcolor": "white",
           "linecolor": "white",
           "ticks": "",
           "title": {
            "standoff": 15
           },
           "zerolinecolor": "white",
           "zerolinewidth": 2
          },
          "yaxis": {
           "automargin": true,
           "gridcolor": "white",
           "linecolor": "white",
           "ticks": "",
           "title": {
            "standoff": 15
           },
           "zerolinecolor": "white",
           "zerolinewidth": 2
          }
         }
        },
        "title": {
         "text": "Loan Application Count by States"
        }
       }
      }
     },
     "metadata": {},
     "output_type": "display_data"
    }
   ],
   "source": [
    "# Create a pivot table to count Loan by State\n",
    "loan_application_counts = loan_data['state'].value_counts().reset_index()\n",
    "loan_application_counts.columns = ['State', 'Application Count']\n",
    "\n",
    "# Create an interactive heatmap using Plotly Express\n",
    "fig = px.choropleth(locations=loan_application_counts['State'], locationmode='USA-states', \n",
    "                    color=loan_application_counts['Application Count'], \n",
    "                    scope=\"usa\", \n",
    "                    title='Loan Application Count by States',\n",
    "                    labels={'color': 'Application Count'},\n",
    "                    color_continuous_scale='YlGnBu')\n",
    "\n",
    "fig.update_layout(coloraxis_colorbar=dict(title='Loan Count'),\n",
    "                  geo=dict(bgcolor='rgba(0,0,0,0)',\n",
    "                           lakecolor='rgba(0,0,0,0)'))\n",
    "\n",
    "# Display the interactive heatmap\n",
    "fig.show()"
   ]
  },
  {
   "cell_type": "markdown",
   "metadata": {},
   "source": [
    "We get to see that most of the loan application is people from OHIO with 90.496k people. Meanwhile the least loan application is from MARYLAND and NEW YORK with both at 3 loan application. Looks like the bank customer based is mostly at OHIO. Let's see the demographic for approved loan."
   ]
  },
  {
   "cell_type": "code",
   "execution_count": 8,
   "metadata": {},
   "outputs": [
    {
     "data": {
      "text/html": [
       "<div>\n",
       "<style scoped>\n",
       "    .dataframe tbody tr th:only-of-type {\n",
       "        vertical-align: middle;\n",
       "    }\n",
       "\n",
       "    .dataframe tbody tr th {\n",
       "        vertical-align: top;\n",
       "    }\n",
       "\n",
       "    .dataframe thead th {\n",
       "        text-align: right;\n",
       "    }\n",
       "</style>\n",
       "<table border=\"1\" class=\"dataframe\">\n",
       "  <thead>\n",
       "    <tr style=\"text-align: right;\">\n",
       "      <th></th>\n",
       "      <th>loanId</th>\n",
       "      <th>anon_ssn</th>\n",
       "      <th>payFrequency</th>\n",
       "      <th>apr</th>\n",
       "      <th>applicationDate</th>\n",
       "      <th>originated</th>\n",
       "      <th>originatedDate</th>\n",
       "      <th>nPaidOff</th>\n",
       "      <th>approved</th>\n",
       "      <th>isFunded</th>\n",
       "      <th>loanStatus</th>\n",
       "      <th>loanAmount</th>\n",
       "      <th>originallyScheduledPaymentAmount</th>\n",
       "      <th>state</th>\n",
       "      <th>leadType</th>\n",
       "      <th>leadCost</th>\n",
       "      <th>fpStatus</th>\n",
       "      <th>underwritingid</th>\n",
       "      <th>clearfraudscore</th>\n",
       "    </tr>\n",
       "  </thead>\n",
       "  <tbody>\n",
       "    <tr>\n",
       "      <th>0</th>\n",
       "      <td>LL-I-06644937</td>\n",
       "      <td>464f5d9ae4fa09ece4048d949191865c</td>\n",
       "      <td>B</td>\n",
       "      <td>199.0</td>\n",
       "      <td>2016-01-19T22:07:36.778000</td>\n",
       "      <td>True</td>\n",
       "      <td>2016-01-20T15:49:18.846000</td>\n",
       "      <td>0.0</td>\n",
       "      <td>True</td>\n",
       "      <td>1</td>\n",
       "      <td>Paid Off Loan</td>\n",
       "      <td>3000.0</td>\n",
       "      <td>6395.19</td>\n",
       "      <td>CA</td>\n",
       "      <td>prescreen</td>\n",
       "      <td>0</td>\n",
       "      <td>Checked</td>\n",
       "      <td>569eb3a3e4b096699f685d64</td>\n",
       "      <td>879.0</td>\n",
       "    </tr>\n",
       "    <tr>\n",
       "      <th>1</th>\n",
       "      <td>LL-I-17826953</td>\n",
       "      <td>7529d29c9d943cc55bc71a85d9c6b7a3</td>\n",
       "      <td>W</td>\n",
       "      <td>645.0</td>\n",
       "      <td>2017-03-01T15:55:41.823000</td>\n",
       "      <td>True</td>\n",
       "      <td>2017-03-01T16:15:13.016000</td>\n",
       "      <td>0.0</td>\n",
       "      <td>True</td>\n",
       "      <td>1</td>\n",
       "      <td>New Loan</td>\n",
       "      <td>400.0</td>\n",
       "      <td>1364.87</td>\n",
       "      <td>NJ</td>\n",
       "      <td>lead</td>\n",
       "      <td>40</td>\n",
       "      <td>Checked</td>\n",
       "      <td>58b6eef8e4b0b6fca82fd426</td>\n",
       "      <td>658.0</td>\n",
       "    </tr>\n",
       "    <tr>\n",
       "      <th>2</th>\n",
       "      <td>LL-I-16519347</td>\n",
       "      <td>bc9fa73468acf18cb968a3a6a3c4697c</td>\n",
       "      <td>S</td>\n",
       "      <td>490.0</td>\n",
       "      <td>2017-01-31T17:48:17.381000</td>\n",
       "      <td>True</td>\n",
       "      <td>2017-01-31T18:00:14.520000</td>\n",
       "      <td>2.0</td>\n",
       "      <td>True</td>\n",
       "      <td>1</td>\n",
       "      <td>Paid Off Loan</td>\n",
       "      <td>1250.0</td>\n",
       "      <td>3313.78</td>\n",
       "      <td>MO</td>\n",
       "      <td>organic</td>\n",
       "      <td>0</td>\n",
       "      <td>Checked</td>\n",
       "      <td>58450a15e4b0bb9d6d7344c7</td>\n",
       "      <td>835.0</td>\n",
       "    </tr>\n",
       "    <tr>\n",
       "      <th>3</th>\n",
       "      <td>LL-I-17491287</td>\n",
       "      <td>bc9fa73468acf18cb968a3a6a3c4697c</td>\n",
       "      <td>S</td>\n",
       "      <td>490.0</td>\n",
       "      <td>2017-02-21T17:20:23.671000</td>\n",
       "      <td>True</td>\n",
       "      <td>2017-02-21T17:45:11.088000</td>\n",
       "      <td>3.0</td>\n",
       "      <td>True</td>\n",
       "      <td>1</td>\n",
       "      <td>Paid Off Loan</td>\n",
       "      <td>1250.0</td>\n",
       "      <td>3112.16</td>\n",
       "      <td>MO</td>\n",
       "      <td>organic</td>\n",
       "      <td>0</td>\n",
       "      <td>Checked</td>\n",
       "      <td>58450a15e4b0bb9d6d7344c7</td>\n",
       "      <td>835.0</td>\n",
       "    </tr>\n",
       "    <tr>\n",
       "      <th>4</th>\n",
       "      <td>LL-I-15679301</td>\n",
       "      <td>bc9fa73468acf18cb968a3a6a3c4697c</td>\n",
       "      <td>S</td>\n",
       "      <td>490.0</td>\n",
       "      <td>2017-01-18T01:16:24.941000</td>\n",
       "      <td>True</td>\n",
       "      <td>2017-01-18T01:30:16.712000</td>\n",
       "      <td>1.0</td>\n",
       "      <td>True</td>\n",
       "      <td>1</td>\n",
       "      <td>Paid Off Loan</td>\n",
       "      <td>500.0</td>\n",
       "      <td>1292.09</td>\n",
       "      <td>MO</td>\n",
       "      <td>organic</td>\n",
       "      <td>0</td>\n",
       "      <td>Checked</td>\n",
       "      <td>58450a15e4b0bb9d6d7344c7</td>\n",
       "      <td>835.0</td>\n",
       "    </tr>\n",
       "  </tbody>\n",
       "</table>\n",
       "</div>"
      ],
      "text/plain": [
       "          loanId                          anon_ssn payFrequency    apr  \\\n",
       "0  LL-I-06644937  464f5d9ae4fa09ece4048d949191865c            B  199.0   \n",
       "1  LL-I-17826953  7529d29c9d943cc55bc71a85d9c6b7a3            W  645.0   \n",
       "2  LL-I-16519347  bc9fa73468acf18cb968a3a6a3c4697c            S  490.0   \n",
       "3  LL-I-17491287  bc9fa73468acf18cb968a3a6a3c4697c            S  490.0   \n",
       "4  LL-I-15679301  bc9fa73468acf18cb968a3a6a3c4697c            S  490.0   \n",
       "\n",
       "              applicationDate  originated              originatedDate  \\\n",
       "0  2016-01-19T22:07:36.778000        True  2016-01-20T15:49:18.846000   \n",
       "1  2017-03-01T15:55:41.823000        True  2017-03-01T16:15:13.016000   \n",
       "2  2017-01-31T17:48:17.381000        True  2017-01-31T18:00:14.520000   \n",
       "3  2017-02-21T17:20:23.671000        True  2017-02-21T17:45:11.088000   \n",
       "4  2017-01-18T01:16:24.941000        True  2017-01-18T01:30:16.712000   \n",
       "\n",
       "   nPaidOff  approved  isFunded     loanStatus  loanAmount  \\\n",
       "0       0.0      True         1  Paid Off Loan      3000.0   \n",
       "1       0.0      True         1       New Loan       400.0   \n",
       "2       2.0      True         1  Paid Off Loan      1250.0   \n",
       "3       3.0      True         1  Paid Off Loan      1250.0   \n",
       "4       1.0      True         1  Paid Off Loan       500.0   \n",
       "\n",
       "   originallyScheduledPaymentAmount state   leadType  leadCost fpStatus  \\\n",
       "0                           6395.19    CA  prescreen         0  Checked   \n",
       "1                           1364.87    NJ       lead        40  Checked   \n",
       "2                           3313.78    MO    organic         0  Checked   \n",
       "3                           3112.16    MO    organic         0  Checked   \n",
       "4                           1292.09    MO    organic         0  Checked   \n",
       "\n",
       "             underwritingid  clearfraudscore  \n",
       "0  569eb3a3e4b096699f685d64            879.0  \n",
       "1  58b6eef8e4b0b6fca82fd426            658.0  \n",
       "2  58450a15e4b0bb9d6d7344c7            835.0  \n",
       "3  58450a15e4b0bb9d6d7344c7            835.0  \n",
       "4  58450a15e4b0bb9d6d7344c7            835.0  "
      ]
     },
     "execution_count": 8,
     "metadata": {},
     "output_type": "execute_result"
    }
   ],
   "source": [
    "approved_loan = merged_loan_data[merged_loan_data['approved']== True]\n",
    "approved_loan = approved_loan.dropna(subset=['clearfraudscore'])\n",
    "approved_loan.head(5)"
   ]
  },
  {
   "cell_type": "code",
   "execution_count": 9,
   "metadata": {},
   "outputs": [
    {
     "data": {
      "application/vnd.plotly.v1+json": {
       "config": {
        "plotlyServerURL": "https://plot.ly"
       },
       "data": [
        {
         "coloraxis": "coloraxis",
         "geo": "geo",
         "hovertemplate": "locations=%{location}<br>Approved Count=%{z}<extra></extra>",
         "locationmode": "USA-states",
         "locations": [
          "OH",
          "IL",
          "TX",
          "WI",
          "MO",
          "FL",
          "MI",
          "IN",
          "CA",
          "VA",
          "NC",
          "TN",
          "PA",
          "NJ",
          "SC",
          "AZ",
          "NV",
          "CO",
          "MN",
          "KY",
          "AL",
          "NM",
          "LA",
          "CT",
          "UT",
          "WA",
          "MS",
          "GA",
          "OK",
          "KS",
          "IA",
          "SD",
          "DE",
          "WY",
          "NE",
          "ID",
          "HI",
          "RI",
          "AK",
          "ND"
         ],
         "name": "",
         "type": "choropleth",
         "z": [
          5002,
          4562,
          2188,
          1831,
          1792,
          1640,
          1508,
          1498,
          1451,
          1297,
          1217,
          1180,
          1071,
          996,
          644,
          529,
          504,
          446,
          275,
          265,
          233,
          207,
          200,
          191,
          188,
          184,
          178,
          137,
          118,
          115,
          102,
          83,
          68,
          66,
          60,
          46,
          44,
          44,
          27,
          18
         ]
        }
       ],
       "layout": {
        "coloraxis": {
         "colorbar": {
          "title": {
           "text": "Approved Count"
          }
         },
         "colorscale": [
          [
           0,
           "rgb(255,255,217)"
          ],
          [
           0.125,
           "rgb(237,248,177)"
          ],
          [
           0.25,
           "rgb(199,233,180)"
          ],
          [
           0.375,
           "rgb(127,205,187)"
          ],
          [
           0.5,
           "rgb(65,182,196)"
          ],
          [
           0.625,
           "rgb(29,145,192)"
          ],
          [
           0.75,
           "rgb(34,94,168)"
          ],
          [
           0.875,
           "rgb(37,52,148)"
          ],
          [
           1,
           "rgb(8,29,88)"
          ]
         ]
        },
        "geo": {
         "bgcolor": "rgba(0,0,0,0)",
         "center": {},
         "domain": {
          "x": [
           0,
           1
          ],
          "y": [
           0,
           1
          ]
         },
         "lakecolor": "rgba(0,0,0,0)",
         "scope": "usa"
        },
        "legend": {
         "tracegroupgap": 0
        },
        "template": {
         "data": {
          "bar": [
           {
            "error_x": {
             "color": "#2a3f5f"
            },
            "error_y": {
             "color": "#2a3f5f"
            },
            "marker": {
             "line": {
              "color": "#E5ECF6",
              "width": 0.5
             },
             "pattern": {
              "fillmode": "overlay",
              "size": 10,
              "solidity": 0.2
             }
            },
            "type": "bar"
           }
          ],
          "barpolar": [
           {
            "marker": {
             "line": {
              "color": "#E5ECF6",
              "width": 0.5
             },
             "pattern": {
              "fillmode": "overlay",
              "size": 10,
              "solidity": 0.2
             }
            },
            "type": "barpolar"
           }
          ],
          "carpet": [
           {
            "aaxis": {
             "endlinecolor": "#2a3f5f",
             "gridcolor": "white",
             "linecolor": "white",
             "minorgridcolor": "white",
             "startlinecolor": "#2a3f5f"
            },
            "baxis": {
             "endlinecolor": "#2a3f5f",
             "gridcolor": "white",
             "linecolor": "white",
             "minorgridcolor": "white",
             "startlinecolor": "#2a3f5f"
            },
            "type": "carpet"
           }
          ],
          "choropleth": [
           {
            "colorbar": {
             "outlinewidth": 0,
             "ticks": ""
            },
            "type": "choropleth"
           }
          ],
          "contour": [
           {
            "colorbar": {
             "outlinewidth": 0,
             "ticks": ""
            },
            "colorscale": [
             [
              0,
              "#0d0887"
             ],
             [
              0.1111111111111111,
              "#46039f"
             ],
             [
              0.2222222222222222,
              "#7201a8"
             ],
             [
              0.3333333333333333,
              "#9c179e"
             ],
             [
              0.4444444444444444,
              "#bd3786"
             ],
             [
              0.5555555555555556,
              "#d8576b"
             ],
             [
              0.6666666666666666,
              "#ed7953"
             ],
             [
              0.7777777777777778,
              "#fb9f3a"
             ],
             [
              0.8888888888888888,
              "#fdca26"
             ],
             [
              1,
              "#f0f921"
             ]
            ],
            "type": "contour"
           }
          ],
          "contourcarpet": [
           {
            "colorbar": {
             "outlinewidth": 0,
             "ticks": ""
            },
            "type": "contourcarpet"
           }
          ],
          "heatmap": [
           {
            "colorbar": {
             "outlinewidth": 0,
             "ticks": ""
            },
            "colorscale": [
             [
              0,
              "#0d0887"
             ],
             [
              0.1111111111111111,
              "#46039f"
             ],
             [
              0.2222222222222222,
              "#7201a8"
             ],
             [
              0.3333333333333333,
              "#9c179e"
             ],
             [
              0.4444444444444444,
              "#bd3786"
             ],
             [
              0.5555555555555556,
              "#d8576b"
             ],
             [
              0.6666666666666666,
              "#ed7953"
             ],
             [
              0.7777777777777778,
              "#fb9f3a"
             ],
             [
              0.8888888888888888,
              "#fdca26"
             ],
             [
              1,
              "#f0f921"
             ]
            ],
            "type": "heatmap"
           }
          ],
          "heatmapgl": [
           {
            "colorbar": {
             "outlinewidth": 0,
             "ticks": ""
            },
            "colorscale": [
             [
              0,
              "#0d0887"
             ],
             [
              0.1111111111111111,
              "#46039f"
             ],
             [
              0.2222222222222222,
              "#7201a8"
             ],
             [
              0.3333333333333333,
              "#9c179e"
             ],
             [
              0.4444444444444444,
              "#bd3786"
             ],
             [
              0.5555555555555556,
              "#d8576b"
             ],
             [
              0.6666666666666666,
              "#ed7953"
             ],
             [
              0.7777777777777778,
              "#fb9f3a"
             ],
             [
              0.8888888888888888,
              "#fdca26"
             ],
             [
              1,
              "#f0f921"
             ]
            ],
            "type": "heatmapgl"
           }
          ],
          "histogram": [
           {
            "marker": {
             "pattern": {
              "fillmode": "overlay",
              "size": 10,
              "solidity": 0.2
             }
            },
            "type": "histogram"
           }
          ],
          "histogram2d": [
           {
            "colorbar": {
             "outlinewidth": 0,
             "ticks": ""
            },
            "colorscale": [
             [
              0,
              "#0d0887"
             ],
             [
              0.1111111111111111,
              "#46039f"
             ],
             [
              0.2222222222222222,
              "#7201a8"
             ],
             [
              0.3333333333333333,
              "#9c179e"
             ],
             [
              0.4444444444444444,
              "#bd3786"
             ],
             [
              0.5555555555555556,
              "#d8576b"
             ],
             [
              0.6666666666666666,
              "#ed7953"
             ],
             [
              0.7777777777777778,
              "#fb9f3a"
             ],
             [
              0.8888888888888888,
              "#fdca26"
             ],
             [
              1,
              "#f0f921"
             ]
            ],
            "type": "histogram2d"
           }
          ],
          "histogram2dcontour": [
           {
            "colorbar": {
             "outlinewidth": 0,
             "ticks": ""
            },
            "colorscale": [
             [
              0,
              "#0d0887"
             ],
             [
              0.1111111111111111,
              "#46039f"
             ],
             [
              0.2222222222222222,
              "#7201a8"
             ],
             [
              0.3333333333333333,
              "#9c179e"
             ],
             [
              0.4444444444444444,
              "#bd3786"
             ],
             [
              0.5555555555555556,
              "#d8576b"
             ],
             [
              0.6666666666666666,
              "#ed7953"
             ],
             [
              0.7777777777777778,
              "#fb9f3a"
             ],
             [
              0.8888888888888888,
              "#fdca26"
             ],
             [
              1,
              "#f0f921"
             ]
            ],
            "type": "histogram2dcontour"
           }
          ],
          "mesh3d": [
           {
            "colorbar": {
             "outlinewidth": 0,
             "ticks": ""
            },
            "type": "mesh3d"
           }
          ],
          "parcoords": [
           {
            "line": {
             "colorbar": {
              "outlinewidth": 0,
              "ticks": ""
             }
            },
            "type": "parcoords"
           }
          ],
          "pie": [
           {
            "automargin": true,
            "type": "pie"
           }
          ],
          "scatter": [
           {
            "fillpattern": {
             "fillmode": "overlay",
             "size": 10,
             "solidity": 0.2
            },
            "type": "scatter"
           }
          ],
          "scatter3d": [
           {
            "line": {
             "colorbar": {
              "outlinewidth": 0,
              "ticks": ""
             }
            },
            "marker": {
             "colorbar": {
              "outlinewidth": 0,
              "ticks": ""
             }
            },
            "type": "scatter3d"
           }
          ],
          "scattercarpet": [
           {
            "marker": {
             "colorbar": {
              "outlinewidth": 0,
              "ticks": ""
             }
            },
            "type": "scattercarpet"
           }
          ],
          "scattergeo": [
           {
            "marker": {
             "colorbar": {
              "outlinewidth": 0,
              "ticks": ""
             }
            },
            "type": "scattergeo"
           }
          ],
          "scattergl": [
           {
            "marker": {
             "colorbar": {
              "outlinewidth": 0,
              "ticks": ""
             }
            },
            "type": "scattergl"
           }
          ],
          "scattermapbox": [
           {
            "marker": {
             "colorbar": {
              "outlinewidth": 0,
              "ticks": ""
             }
            },
            "type": "scattermapbox"
           }
          ],
          "scatterpolar": [
           {
            "marker": {
             "colorbar": {
              "outlinewidth": 0,
              "ticks": ""
             }
            },
            "type": "scatterpolar"
           }
          ],
          "scatterpolargl": [
           {
            "marker": {
             "colorbar": {
              "outlinewidth": 0,
              "ticks": ""
             }
            },
            "type": "scatterpolargl"
           }
          ],
          "scatterternary": [
           {
            "marker": {
             "colorbar": {
              "outlinewidth": 0,
              "ticks": ""
             }
            },
            "type": "scatterternary"
           }
          ],
          "surface": [
           {
            "colorbar": {
             "outlinewidth": 0,
             "ticks": ""
            },
            "colorscale": [
             [
              0,
              "#0d0887"
             ],
             [
              0.1111111111111111,
              "#46039f"
             ],
             [
              0.2222222222222222,
              "#7201a8"
             ],
             [
              0.3333333333333333,
              "#9c179e"
             ],
             [
              0.4444444444444444,
              "#bd3786"
             ],
             [
              0.5555555555555556,
              "#d8576b"
             ],
             [
              0.6666666666666666,
              "#ed7953"
             ],
             [
              0.7777777777777778,
              "#fb9f3a"
             ],
             [
              0.8888888888888888,
              "#fdca26"
             ],
             [
              1,
              "#f0f921"
             ]
            ],
            "type": "surface"
           }
          ],
          "table": [
           {
            "cells": {
             "fill": {
              "color": "#EBF0F8"
             },
             "line": {
              "color": "white"
             }
            },
            "header": {
             "fill": {
              "color": "#C8D4E3"
             },
             "line": {
              "color": "white"
             }
            },
            "type": "table"
           }
          ]
         },
         "layout": {
          "annotationdefaults": {
           "arrowcolor": "#2a3f5f",
           "arrowhead": 0,
           "arrowwidth": 1
          },
          "autotypenumbers": "strict",
          "coloraxis": {
           "colorbar": {
            "outlinewidth": 0,
            "ticks": ""
           }
          },
          "colorscale": {
           "diverging": [
            [
             0,
             "#8e0152"
            ],
            [
             0.1,
             "#c51b7d"
            ],
            [
             0.2,
             "#de77ae"
            ],
            [
             0.3,
             "#f1b6da"
            ],
            [
             0.4,
             "#fde0ef"
            ],
            [
             0.5,
             "#f7f7f7"
            ],
            [
             0.6,
             "#e6f5d0"
            ],
            [
             0.7,
             "#b8e186"
            ],
            [
             0.8,
             "#7fbc41"
            ],
            [
             0.9,
             "#4d9221"
            ],
            [
             1,
             "#276419"
            ]
           ],
           "sequential": [
            [
             0,
             "#0d0887"
            ],
            [
             0.1111111111111111,
             "#46039f"
            ],
            [
             0.2222222222222222,
             "#7201a8"
            ],
            [
             0.3333333333333333,
             "#9c179e"
            ],
            [
             0.4444444444444444,
             "#bd3786"
            ],
            [
             0.5555555555555556,
             "#d8576b"
            ],
            [
             0.6666666666666666,
             "#ed7953"
            ],
            [
             0.7777777777777778,
             "#fb9f3a"
            ],
            [
             0.8888888888888888,
             "#fdca26"
            ],
            [
             1,
             "#f0f921"
            ]
           ],
           "sequentialminus": [
            [
             0,
             "#0d0887"
            ],
            [
             0.1111111111111111,
             "#46039f"
            ],
            [
             0.2222222222222222,
             "#7201a8"
            ],
            [
             0.3333333333333333,
             "#9c179e"
            ],
            [
             0.4444444444444444,
             "#bd3786"
            ],
            [
             0.5555555555555556,
             "#d8576b"
            ],
            [
             0.6666666666666666,
             "#ed7953"
            ],
            [
             0.7777777777777778,
             "#fb9f3a"
            ],
            [
             0.8888888888888888,
             "#fdca26"
            ],
            [
             1,
             "#f0f921"
            ]
           ]
          },
          "colorway": [
           "#636efa",
           "#EF553B",
           "#00cc96",
           "#ab63fa",
           "#FFA15A",
           "#19d3f3",
           "#FF6692",
           "#B6E880",
           "#FF97FF",
           "#FECB52"
          ],
          "font": {
           "color": "#2a3f5f"
          },
          "geo": {
           "bgcolor": "white",
           "lakecolor": "white",
           "landcolor": "#E5ECF6",
           "showlakes": true,
           "showland": true,
           "subunitcolor": "white"
          },
          "hoverlabel": {
           "align": "left"
          },
          "hovermode": "closest",
          "mapbox": {
           "style": "light"
          },
          "paper_bgcolor": "white",
          "plot_bgcolor": "#E5ECF6",
          "polar": {
           "angularaxis": {
            "gridcolor": "white",
            "linecolor": "white",
            "ticks": ""
           },
           "bgcolor": "#E5ECF6",
           "radialaxis": {
            "gridcolor": "white",
            "linecolor": "white",
            "ticks": ""
           }
          },
          "scene": {
           "xaxis": {
            "backgroundcolor": "#E5ECF6",
            "gridcolor": "white",
            "gridwidth": 2,
            "linecolor": "white",
            "showbackground": true,
            "ticks": "",
            "zerolinecolor": "white"
           },
           "yaxis": {
            "backgroundcolor": "#E5ECF6",
            "gridcolor": "white",
            "gridwidth": 2,
            "linecolor": "white",
            "showbackground": true,
            "ticks": "",
            "zerolinecolor": "white"
           },
           "zaxis": {
            "backgroundcolor": "#E5ECF6",
            "gridcolor": "white",
            "gridwidth": 2,
            "linecolor": "white",
            "showbackground": true,
            "ticks": "",
            "zerolinecolor": "white"
           }
          },
          "shapedefaults": {
           "line": {
            "color": "#2a3f5f"
           }
          },
          "ternary": {
           "aaxis": {
            "gridcolor": "white",
            "linecolor": "white",
            "ticks": ""
           },
           "baxis": {
            "gridcolor": "white",
            "linecolor": "white",
            "ticks": ""
           },
           "bgcolor": "#E5ECF6",
           "caxis": {
            "gridcolor": "white",
            "linecolor": "white",
            "ticks": ""
           }
          },
          "title": {
           "x": 0.05
          },
          "xaxis": {
           "automargin": true,
           "gridcolor": "white",
           "linecolor": "white",
           "ticks": "",
           "title": {
            "standoff": 15
           },
           "zerolinecolor": "white",
           "zerolinewidth": 2
          },
          "yaxis": {
           "automargin": true,
           "gridcolor": "white",
           "linecolor": "white",
           "ticks": "",
           "title": {
            "standoff": 15
           },
           "zerolinecolor": "white",
           "zerolinewidth": 2
          }
         }
        },
        "title": {
         "text": "Approved Loan Application by State"
        }
       }
      }
     },
     "metadata": {},
     "output_type": "display_data"
    }
   ],
   "source": [
    "# Create a pivot table to count approved loan applications by state\n",
    "approved_count = approved_loan['state'].value_counts().reset_index()\n",
    "approved_count.columns = ['State', 'ApprovedCount']\n",
    "\n",
    "# Create an interactive heatmap using Plotly Express\n",
    "fig = px.choropleth(locations=approved_count['State'], locationmode='USA-states', \n",
    "                    color=approved_count['ApprovedCount'], \n",
    "                    scope=\"usa\", \n",
    "                    title='Approved Loan Application by State',\n",
    "                    labels={'color': 'Approved Count'},\n",
    "                    color_continuous_scale='YlGnBu')\n",
    "\n",
    "fig.update_layout(coloraxis_colorbar=dict(title='Approved Count'),\n",
    "                  geo=dict(bgcolor='rgba(0,0,0,0)',\n",
    "                           lakecolor='rgba(0,0,0,0)'))\n",
    "\n",
    "# Display the interactive heatmap\n",
    "fig.show()"
   ]
  },
  {
   "cell_type": "markdown",
   "metadata": {},
   "source": [
    "We see that nothing much change in term of loan application density based on states. OHIO still the most approved loan application amongs US with 5002 approved loan application.\n",
    "\n",
    "Now let's see how much is the estimated revenue generated by the banks from loan product and see the different with how much loan given from the bank and how muchbank revenue."
   ]
  },
  {
   "cell_type": "code",
   "execution_count": 10,
   "metadata": {},
   "outputs": [
    {
     "name": "stdout",
     "output_type": "stream",
     "text": [
      "Approved Loan:\n",
      "Sum of loanAmount: 21150093.0\n",
      "Sum of originallyScheduledPaymentAmount: 58166145.185628\n",
      "Difference between cumulative loanAmount & originallyScheduledPaymentAmount: 37016052.185628\n",
      "Percentage Difference: 175.02%\n"
     ]
    }
   ],
   "source": [
    "# Calculate the sum of loanAmount and originallyScheduledPaymentAmount\n",
    "sum_loan_amount = approved_loan['loanAmount'].sum()\n",
    "sum_scheduled_payment_amount = approved_loan['originallyScheduledPaymentAmount'].sum()\n",
    "\n",
    "# Calculate the percentage difference between the sums\n",
    "percentage_difference = ((sum_scheduled_payment_amount - sum_loan_amount) / sum_loan_amount) * 100\n",
    "\n",
    "# Display the calculated sums and percentage difference\n",
    "print(\"Approved Loan:\")\n",
    "print(f\"Sum of loanAmount: {sum_loan_amount}\")\n",
    "print(f\"Sum of originallyScheduledPaymentAmount: {sum_scheduled_payment_amount}\")\n",
    "print(f\"Difference between cumulative loanAmount & originallyScheduledPaymentAmount: {sum_scheduled_payment_amount - sum_loan_amount}\")\n",
    "print(f\"Percentage Difference: {percentage_difference:.2f}%\")"
   ]
  },
  {
   "cell_type": "code",
   "execution_count": 11,
   "metadata": {},
   "outputs": [
    {
     "data": {
      "application/vnd.plotly.v1+json": {
       "config": {
        "plotlyServerURL": "https://plot.ly"
       },
       "data": [
        {
         "alignmentgroup": "True",
         "hovertemplate": "Amount Type=%{x}<br>Sum of Amount=%{y}<extra></extra>",
         "legendgroup": "",
         "marker": {
          "color": "#636efa",
          "pattern": {
           "shape": ""
          }
         },
         "name": "",
         "offsetgroup": "",
         "orientation": "v",
         "showlegend": false,
         "textposition": "auto",
         "type": "bar",
         "x": [
          "loanAmount",
          "originallyScheduledPaymentAmount"
         ],
         "xaxis": "x",
         "y": [
          21150093,
          58166145.185628
         ],
         "yaxis": "y"
        }
       ],
       "layout": {
        "barmode": "relative",
        "legend": {
         "tracegroupgap": 0
        },
        "template": {
         "data": {
          "bar": [
           {
            "error_x": {
             "color": "#2a3f5f"
            },
            "error_y": {
             "color": "#2a3f5f"
            },
            "marker": {
             "line": {
              "color": "#E5ECF6",
              "width": 0.5
             },
             "pattern": {
              "fillmode": "overlay",
              "size": 10,
              "solidity": 0.2
             }
            },
            "type": "bar"
           }
          ],
          "barpolar": [
           {
            "marker": {
             "line": {
              "color": "#E5ECF6",
              "width": 0.5
             },
             "pattern": {
              "fillmode": "overlay",
              "size": 10,
              "solidity": 0.2
             }
            },
            "type": "barpolar"
           }
          ],
          "carpet": [
           {
            "aaxis": {
             "endlinecolor": "#2a3f5f",
             "gridcolor": "white",
             "linecolor": "white",
             "minorgridcolor": "white",
             "startlinecolor": "#2a3f5f"
            },
            "baxis": {
             "endlinecolor": "#2a3f5f",
             "gridcolor": "white",
             "linecolor": "white",
             "minorgridcolor": "white",
             "startlinecolor": "#2a3f5f"
            },
            "type": "carpet"
           }
          ],
          "choropleth": [
           {
            "colorbar": {
             "outlinewidth": 0,
             "ticks": ""
            },
            "type": "choropleth"
           }
          ],
          "contour": [
           {
            "colorbar": {
             "outlinewidth": 0,
             "ticks": ""
            },
            "colorscale": [
             [
              0,
              "#0d0887"
             ],
             [
              0.1111111111111111,
              "#46039f"
             ],
             [
              0.2222222222222222,
              "#7201a8"
             ],
             [
              0.3333333333333333,
              "#9c179e"
             ],
             [
              0.4444444444444444,
              "#bd3786"
             ],
             [
              0.5555555555555556,
              "#d8576b"
             ],
             [
              0.6666666666666666,
              "#ed7953"
             ],
             [
              0.7777777777777778,
              "#fb9f3a"
             ],
             [
              0.8888888888888888,
              "#fdca26"
             ],
             [
              1,
              "#f0f921"
             ]
            ],
            "type": "contour"
           }
          ],
          "contourcarpet": [
           {
            "colorbar": {
             "outlinewidth": 0,
             "ticks": ""
            },
            "type": "contourcarpet"
           }
          ],
          "heatmap": [
           {
            "colorbar": {
             "outlinewidth": 0,
             "ticks": ""
            },
            "colorscale": [
             [
              0,
              "#0d0887"
             ],
             [
              0.1111111111111111,
              "#46039f"
             ],
             [
              0.2222222222222222,
              "#7201a8"
             ],
             [
              0.3333333333333333,
              "#9c179e"
             ],
             [
              0.4444444444444444,
              "#bd3786"
             ],
             [
              0.5555555555555556,
              "#d8576b"
             ],
             [
              0.6666666666666666,
              "#ed7953"
             ],
             [
              0.7777777777777778,
              "#fb9f3a"
             ],
             [
              0.8888888888888888,
              "#fdca26"
             ],
             [
              1,
              "#f0f921"
             ]
            ],
            "type": "heatmap"
           }
          ],
          "heatmapgl": [
           {
            "colorbar": {
             "outlinewidth": 0,
             "ticks": ""
            },
            "colorscale": [
             [
              0,
              "#0d0887"
             ],
             [
              0.1111111111111111,
              "#46039f"
             ],
             [
              0.2222222222222222,
              "#7201a8"
             ],
             [
              0.3333333333333333,
              "#9c179e"
             ],
             [
              0.4444444444444444,
              "#bd3786"
             ],
             [
              0.5555555555555556,
              "#d8576b"
             ],
             [
              0.6666666666666666,
              "#ed7953"
             ],
             [
              0.7777777777777778,
              "#fb9f3a"
             ],
             [
              0.8888888888888888,
              "#fdca26"
             ],
             [
              1,
              "#f0f921"
             ]
            ],
            "type": "heatmapgl"
           }
          ],
          "histogram": [
           {
            "marker": {
             "pattern": {
              "fillmode": "overlay",
              "size": 10,
              "solidity": 0.2
             }
            },
            "type": "histogram"
           }
          ],
          "histogram2d": [
           {
            "colorbar": {
             "outlinewidth": 0,
             "ticks": ""
            },
            "colorscale": [
             [
              0,
              "#0d0887"
             ],
             [
              0.1111111111111111,
              "#46039f"
             ],
             [
              0.2222222222222222,
              "#7201a8"
             ],
             [
              0.3333333333333333,
              "#9c179e"
             ],
             [
              0.4444444444444444,
              "#bd3786"
             ],
             [
              0.5555555555555556,
              "#d8576b"
             ],
             [
              0.6666666666666666,
              "#ed7953"
             ],
             [
              0.7777777777777778,
              "#fb9f3a"
             ],
             [
              0.8888888888888888,
              "#fdca26"
             ],
             [
              1,
              "#f0f921"
             ]
            ],
            "type": "histogram2d"
           }
          ],
          "histogram2dcontour": [
           {
            "colorbar": {
             "outlinewidth": 0,
             "ticks": ""
            },
            "colorscale": [
             [
              0,
              "#0d0887"
             ],
             [
              0.1111111111111111,
              "#46039f"
             ],
             [
              0.2222222222222222,
              "#7201a8"
             ],
             [
              0.3333333333333333,
              "#9c179e"
             ],
             [
              0.4444444444444444,
              "#bd3786"
             ],
             [
              0.5555555555555556,
              "#d8576b"
             ],
             [
              0.6666666666666666,
              "#ed7953"
             ],
             [
              0.7777777777777778,
              "#fb9f3a"
             ],
             [
              0.8888888888888888,
              "#fdca26"
             ],
             [
              1,
              "#f0f921"
             ]
            ],
            "type": "histogram2dcontour"
           }
          ],
          "mesh3d": [
           {
            "colorbar": {
             "outlinewidth": 0,
             "ticks": ""
            },
            "type": "mesh3d"
           }
          ],
          "parcoords": [
           {
            "line": {
             "colorbar": {
              "outlinewidth": 0,
              "ticks": ""
             }
            },
            "type": "parcoords"
           }
          ],
          "pie": [
           {
            "automargin": true,
            "type": "pie"
           }
          ],
          "scatter": [
           {
            "fillpattern": {
             "fillmode": "overlay",
             "size": 10,
             "solidity": 0.2
            },
            "type": "scatter"
           }
          ],
          "scatter3d": [
           {
            "line": {
             "colorbar": {
              "outlinewidth": 0,
              "ticks": ""
             }
            },
            "marker": {
             "colorbar": {
              "outlinewidth": 0,
              "ticks": ""
             }
            },
            "type": "scatter3d"
           }
          ],
          "scattercarpet": [
           {
            "marker": {
             "colorbar": {
              "outlinewidth": 0,
              "ticks": ""
             }
            },
            "type": "scattercarpet"
           }
          ],
          "scattergeo": [
           {
            "marker": {
             "colorbar": {
              "outlinewidth": 0,
              "ticks": ""
             }
            },
            "type": "scattergeo"
           }
          ],
          "scattergl": [
           {
            "marker": {
             "colorbar": {
              "outlinewidth": 0,
              "ticks": ""
             }
            },
            "type": "scattergl"
           }
          ],
          "scattermapbox": [
           {
            "marker": {
             "colorbar": {
              "outlinewidth": 0,
              "ticks": ""
             }
            },
            "type": "scattermapbox"
           }
          ],
          "scatterpolar": [
           {
            "marker": {
             "colorbar": {
              "outlinewidth": 0,
              "ticks": ""
             }
            },
            "type": "scatterpolar"
           }
          ],
          "scatterpolargl": [
           {
            "marker": {
             "colorbar": {
              "outlinewidth": 0,
              "ticks": ""
             }
            },
            "type": "scatterpolargl"
           }
          ],
          "scatterternary": [
           {
            "marker": {
             "colorbar": {
              "outlinewidth": 0,
              "ticks": ""
             }
            },
            "type": "scatterternary"
           }
          ],
          "surface": [
           {
            "colorbar": {
             "outlinewidth": 0,
             "ticks": ""
            },
            "colorscale": [
             [
              0,
              "#0d0887"
             ],
             [
              0.1111111111111111,
              "#46039f"
             ],
             [
              0.2222222222222222,
              "#7201a8"
             ],
             [
              0.3333333333333333,
              "#9c179e"
             ],
             [
              0.4444444444444444,
              "#bd3786"
             ],
             [
              0.5555555555555556,
              "#d8576b"
             ],
             [
              0.6666666666666666,
              "#ed7953"
             ],
             [
              0.7777777777777778,
              "#fb9f3a"
             ],
             [
              0.8888888888888888,
              "#fdca26"
             ],
             [
              1,
              "#f0f921"
             ]
            ],
            "type": "surface"
           }
          ],
          "table": [
           {
            "cells": {
             "fill": {
              "color": "#EBF0F8"
             },
             "line": {
              "color": "white"
             }
            },
            "header": {
             "fill": {
              "color": "#C8D4E3"
             },
             "line": {
              "color": "white"
             }
            },
            "type": "table"
           }
          ]
         },
         "layout": {
          "annotationdefaults": {
           "arrowcolor": "#2a3f5f",
           "arrowhead": 0,
           "arrowwidth": 1
          },
          "autotypenumbers": "strict",
          "coloraxis": {
           "colorbar": {
            "outlinewidth": 0,
            "ticks": ""
           }
          },
          "colorscale": {
           "diverging": [
            [
             0,
             "#8e0152"
            ],
            [
             0.1,
             "#c51b7d"
            ],
            [
             0.2,
             "#de77ae"
            ],
            [
             0.3,
             "#f1b6da"
            ],
            [
             0.4,
             "#fde0ef"
            ],
            [
             0.5,
             "#f7f7f7"
            ],
            [
             0.6,
             "#e6f5d0"
            ],
            [
             0.7,
             "#b8e186"
            ],
            [
             0.8,
             "#7fbc41"
            ],
            [
             0.9,
             "#4d9221"
            ],
            [
             1,
             "#276419"
            ]
           ],
           "sequential": [
            [
             0,
             "#0d0887"
            ],
            [
             0.1111111111111111,
             "#46039f"
            ],
            [
             0.2222222222222222,
             "#7201a8"
            ],
            [
             0.3333333333333333,
             "#9c179e"
            ],
            [
             0.4444444444444444,
             "#bd3786"
            ],
            [
             0.5555555555555556,
             "#d8576b"
            ],
            [
             0.6666666666666666,
             "#ed7953"
            ],
            [
             0.7777777777777778,
             "#fb9f3a"
            ],
            [
             0.8888888888888888,
             "#fdca26"
            ],
            [
             1,
             "#f0f921"
            ]
           ],
           "sequentialminus": [
            [
             0,
             "#0d0887"
            ],
            [
             0.1111111111111111,
             "#46039f"
            ],
            [
             0.2222222222222222,
             "#7201a8"
            ],
            [
             0.3333333333333333,
             "#9c179e"
            ],
            [
             0.4444444444444444,
             "#bd3786"
            ],
            [
             0.5555555555555556,
             "#d8576b"
            ],
            [
             0.6666666666666666,
             "#ed7953"
            ],
            [
             0.7777777777777778,
             "#fb9f3a"
            ],
            [
             0.8888888888888888,
             "#fdca26"
            ],
            [
             1,
             "#f0f921"
            ]
           ]
          },
          "colorway": [
           "#636efa",
           "#EF553B",
           "#00cc96",
           "#ab63fa",
           "#FFA15A",
           "#19d3f3",
           "#FF6692",
           "#B6E880",
           "#FF97FF",
           "#FECB52"
          ],
          "font": {
           "color": "#2a3f5f"
          },
          "geo": {
           "bgcolor": "white",
           "lakecolor": "white",
           "landcolor": "#E5ECF6",
           "showlakes": true,
           "showland": true,
           "subunitcolor": "white"
          },
          "hoverlabel": {
           "align": "left"
          },
          "hovermode": "closest",
          "mapbox": {
           "style": "light"
          },
          "paper_bgcolor": "white",
          "plot_bgcolor": "#E5ECF6",
          "polar": {
           "angularaxis": {
            "gridcolor": "white",
            "linecolor": "white",
            "ticks": ""
           },
           "bgcolor": "#E5ECF6",
           "radialaxis": {
            "gridcolor": "white",
            "linecolor": "white",
            "ticks": ""
           }
          },
          "scene": {
           "xaxis": {
            "backgroundcolor": "#E5ECF6",
            "gridcolor": "white",
            "gridwidth": 2,
            "linecolor": "white",
            "showbackground": true,
            "ticks": "",
            "zerolinecolor": "white"
           },
           "yaxis": {
            "backgroundcolor": "#E5ECF6",
            "gridcolor": "white",
            "gridwidth": 2,
            "linecolor": "white",
            "showbackground": true,
            "ticks": "",
            "zerolinecolor": "white"
           },
           "zaxis": {
            "backgroundcolor": "#E5ECF6",
            "gridcolor": "white",
            "gridwidth": 2,
            "linecolor": "white",
            "showbackground": true,
            "ticks": "",
            "zerolinecolor": "white"
           }
          },
          "shapedefaults": {
           "line": {
            "color": "#2a3f5f"
           }
          },
          "ternary": {
           "aaxis": {
            "gridcolor": "white",
            "linecolor": "white",
            "ticks": ""
           },
           "baxis": {
            "gridcolor": "white",
            "linecolor": "white",
            "ticks": ""
           },
           "bgcolor": "#E5ECF6",
           "caxis": {
            "gridcolor": "white",
            "linecolor": "white",
            "ticks": ""
           }
          },
          "title": {
           "x": 0.05
          },
          "xaxis": {
           "automargin": true,
           "gridcolor": "white",
           "linecolor": "white",
           "ticks": "",
           "title": {
            "standoff": 15
           },
           "zerolinecolor": "white",
           "zerolinewidth": 2
          },
          "yaxis": {
           "automargin": true,
           "gridcolor": "white",
           "linecolor": "white",
           "ticks": "",
           "title": {
            "standoff": 15
           },
           "zerolinecolor": "white",
           "zerolinewidth": 2
          }
         }
        },
        "title": {
         "text": "Comparison of Sum between loanAmount and originallyScheduledPaymentAmount for Approved Loan Applications"
        },
        "xaxis": {
         "anchor": "y",
         "domain": [
          0,
          1
         ],
         "title": {
          "text": "Amount Type"
         }
        },
        "yaxis": {
         "anchor": "x",
         "domain": [
          0,
          1
         ],
         "title": {
          "text": "Sum of Amount"
         }
        }
       }
      }
     },
     "metadata": {},
     "output_type": "display_data"
    }
   ],
   "source": [
    "data = {'Amount Type': ['loanAmount', 'originallyScheduledPaymentAmount'],\n",
    "        'Sum Amount': [sum_loan_amount, sum_scheduled_payment_amount]}\n",
    "df = pd.DataFrame(data)\n",
    "# Plotting a bar chart using Plotly Express\n",
    "fig = px.bar(df, x='Amount Type', y='Sum Amount',\n",
    "             labels={'Sum Amount': 'Sum of Amount'},\n",
    "             title='Comparison of Sum between loanAmount and originallyScheduledPaymentAmount for Approved Loan Applications')\n",
    "fig.show()"
   ]
  },
  {
   "cell_type": "markdown",
   "metadata": {},
   "source": [
    "There are stark different between loanAmount and originalllyScheduledPaymentAmount. this is reasonable as bank got APR to get the profit from. the contrast between loan given from the bank and money received is 37 Millions USD."
   ]
  },
  {
   "cell_type": "code",
   "execution_count": 12,
   "metadata": {},
   "outputs": [
    {
     "name": "stderr",
     "output_type": "stream",
     "text": [
      "Done! Use 'show' commands to display/save.   |██████████| [100%]   00:00 -> (00:00 left)\n"
     ]
    },
    {
     "name": "stdout",
     "output_type": "stream",
     "text": [
      "Report approved_loan.html was generated! NOTEBOOK/COLAB USERS: the web browser MAY not pop up, regardless, the report IS saved in your notebook/colab files.\n"
     ]
    }
   ],
   "source": [
    "sv.analyze(approved_loan).show_html(\"approved_loan.html\")"
   ]
  },
  {
   "cell_type": "markdown",
   "metadata": {},
   "source": [
    "Above is the profilling for the approved loan. We can extract much information from this such as Correlation analysis and to see the outlier from each column.\n",
    "\n",
    "Now let's see the visualization for rejected loan application ie approved column value False."
   ]
  },
  {
   "cell_type": "code",
   "execution_count": 13,
   "metadata": {},
   "outputs": [
    {
     "data": {
      "text/html": [
       "<div>\n",
       "<style scoped>\n",
       "    .dataframe tbody tr th:only-of-type {\n",
       "        vertical-align: middle;\n",
       "    }\n",
       "\n",
       "    .dataframe tbody tr th {\n",
       "        vertical-align: top;\n",
       "    }\n",
       "\n",
       "    .dataframe thead th {\n",
       "        text-align: right;\n",
       "    }\n",
       "</style>\n",
       "<table border=\"1\" class=\"dataframe\">\n",
       "  <thead>\n",
       "    <tr style=\"text-align: right;\">\n",
       "      <th></th>\n",
       "      <th>loanId</th>\n",
       "      <th>anon_ssn</th>\n",
       "      <th>payFrequency</th>\n",
       "      <th>apr</th>\n",
       "      <th>applicationDate</th>\n",
       "      <th>originated</th>\n",
       "      <th>originatedDate</th>\n",
       "      <th>nPaidOff</th>\n",
       "      <th>approved</th>\n",
       "      <th>isFunded</th>\n",
       "      <th>loanStatus</th>\n",
       "      <th>loanAmount</th>\n",
       "      <th>originallyScheduledPaymentAmount</th>\n",
       "      <th>state</th>\n",
       "      <th>leadType</th>\n",
       "      <th>leadCost</th>\n",
       "      <th>fpStatus</th>\n",
       "      <th>underwritingid</th>\n",
       "      <th>clearfraudscore</th>\n",
       "    </tr>\n",
       "  </thead>\n",
       "  <tbody>\n",
       "    <tr>\n",
       "      <th>19</th>\n",
       "      <td>LL-I-08481484</td>\n",
       "      <td>feb7fad96c04b2eae8caadbca52c8cf6</td>\n",
       "      <td>I</td>\n",
       "      <td>490.0</td>\n",
       "      <td>2016-04-06T23:56:04.785000</td>\n",
       "      <td>False</td>\n",
       "      <td>NaN</td>\n",
       "      <td>1.0</td>\n",
       "      <td>False</td>\n",
       "      <td>0</td>\n",
       "      <td>Rejected</td>\n",
       "      <td>1500.0</td>\n",
       "      <td>4102.01</td>\n",
       "      <td>MO</td>\n",
       "      <td>bvMandatory</td>\n",
       "      <td>6</td>\n",
       "      <td>NaN</td>\n",
       "      <td>57067671e4b06ef47d14d67d</td>\n",
       "      <td>736.0</td>\n",
       "    </tr>\n",
       "    <tr>\n",
       "      <th>20</th>\n",
       "      <td>LL-I-09039899</td>\n",
       "      <td>feb7fad96c04b2eae8caadbca52c8cf6</td>\n",
       "      <td>S</td>\n",
       "      <td>390.0</td>\n",
       "      <td>2016-05-03T15:29:51.080000</td>\n",
       "      <td>False</td>\n",
       "      <td>NaN</td>\n",
       "      <td>2.0</td>\n",
       "      <td>False</td>\n",
       "      <td>0</td>\n",
       "      <td>Withdrawn Application</td>\n",
       "      <td>2000.0</td>\n",
       "      <td>4451.24</td>\n",
       "      <td>MO</td>\n",
       "      <td>organic</td>\n",
       "      <td>0</td>\n",
       "      <td>NaN</td>\n",
       "      <td>57067671e4b06ef47d14d67d</td>\n",
       "      <td>736.0</td>\n",
       "    </tr>\n",
       "    <tr>\n",
       "      <th>21</th>\n",
       "      <td>LL-I-09039908</td>\n",
       "      <td>feb7fad96c04b2eae8caadbca52c8cf6</td>\n",
       "      <td>M</td>\n",
       "      <td>390.0</td>\n",
       "      <td>2016-05-03T15:36:59.625000</td>\n",
       "      <td>False</td>\n",
       "      <td>NaN</td>\n",
       "      <td>2.0</td>\n",
       "      <td>False</td>\n",
       "      <td>0</td>\n",
       "      <td>Withdrawn Application</td>\n",
       "      <td>2000.0</td>\n",
       "      <td>4643.83</td>\n",
       "      <td>MO</td>\n",
       "      <td>organic</td>\n",
       "      <td>0</td>\n",
       "      <td>NaN</td>\n",
       "      <td>57067671e4b06ef47d14d67d</td>\n",
       "      <td>736.0</td>\n",
       "    </tr>\n",
       "    <tr>\n",
       "      <th>22</th>\n",
       "      <td>LL-I-09042657</td>\n",
       "      <td>feb7fad96c04b2eae8caadbca52c8cf6</td>\n",
       "      <td>B</td>\n",
       "      <td>390.0</td>\n",
       "      <td>2016-05-05T16:12:57.746000</td>\n",
       "      <td>False</td>\n",
       "      <td>NaN</td>\n",
       "      <td>2.0</td>\n",
       "      <td>False</td>\n",
       "      <td>0</td>\n",
       "      <td>Withdrawn Application</td>\n",
       "      <td>2500.0</td>\n",
       "      <td>5810.50</td>\n",
       "      <td>MO</td>\n",
       "      <td>organic</td>\n",
       "      <td>0</td>\n",
       "      <td>NaN</td>\n",
       "      <td>57067671e4b06ef47d14d67d</td>\n",
       "      <td>736.0</td>\n",
       "    </tr>\n",
       "    <tr>\n",
       "      <th>24</th>\n",
       "      <td>LL-I-09042625</td>\n",
       "      <td>feb7fad96c04b2eae8caadbca52c8cf6</td>\n",
       "      <td>B</td>\n",
       "      <td>390.0</td>\n",
       "      <td>2016-05-05T15:55:31.285000</td>\n",
       "      <td>False</td>\n",
       "      <td>NaN</td>\n",
       "      <td>2.0</td>\n",
       "      <td>False</td>\n",
       "      <td>0</td>\n",
       "      <td>Withdrawn Application</td>\n",
       "      <td>2500.0</td>\n",
       "      <td>5810.50</td>\n",
       "      <td>MO</td>\n",
       "      <td>organic</td>\n",
       "      <td>0</td>\n",
       "      <td>NaN</td>\n",
       "      <td>57067671e4b06ef47d14d67d</td>\n",
       "      <td>736.0</td>\n",
       "    </tr>\n",
       "  </tbody>\n",
       "</table>\n",
       "</div>"
      ],
      "text/plain": [
       "           loanId                          anon_ssn payFrequency    apr  \\\n",
       "19  LL-I-08481484  feb7fad96c04b2eae8caadbca52c8cf6            I  490.0   \n",
       "20  LL-I-09039899  feb7fad96c04b2eae8caadbca52c8cf6            S  390.0   \n",
       "21  LL-I-09039908  feb7fad96c04b2eae8caadbca52c8cf6            M  390.0   \n",
       "22  LL-I-09042657  feb7fad96c04b2eae8caadbca52c8cf6            B  390.0   \n",
       "24  LL-I-09042625  feb7fad96c04b2eae8caadbca52c8cf6            B  390.0   \n",
       "\n",
       "               applicationDate  originated originatedDate  nPaidOff  approved  \\\n",
       "19  2016-04-06T23:56:04.785000       False            NaN       1.0     False   \n",
       "20  2016-05-03T15:29:51.080000       False            NaN       2.0     False   \n",
       "21  2016-05-03T15:36:59.625000       False            NaN       2.0     False   \n",
       "22  2016-05-05T16:12:57.746000       False            NaN       2.0     False   \n",
       "24  2016-05-05T15:55:31.285000       False            NaN       2.0     False   \n",
       "\n",
       "    isFunded             loanStatus  loanAmount  \\\n",
       "19         0               Rejected      1500.0   \n",
       "20         0  Withdrawn Application      2000.0   \n",
       "21         0  Withdrawn Application      2000.0   \n",
       "22         0  Withdrawn Application      2500.0   \n",
       "24         0  Withdrawn Application      2500.0   \n",
       "\n",
       "    originallyScheduledPaymentAmount state     leadType  leadCost fpStatus  \\\n",
       "19                           4102.01    MO  bvMandatory         6      NaN   \n",
       "20                           4451.24    MO      organic         0      NaN   \n",
       "21                           4643.83    MO      organic         0      NaN   \n",
       "22                           5810.50    MO      organic         0      NaN   \n",
       "24                           5810.50    MO      organic         0      NaN   \n",
       "\n",
       "              underwritingid  clearfraudscore  \n",
       "19  57067671e4b06ef47d14d67d            736.0  \n",
       "20  57067671e4b06ef47d14d67d            736.0  \n",
       "21  57067671e4b06ef47d14d67d            736.0  \n",
       "22  57067671e4b06ef47d14d67d            736.0  \n",
       "24  57067671e4b06ef47d14d67d            736.0  "
      ]
     },
     "execution_count": 13,
     "metadata": {},
     "output_type": "execute_result"
    }
   ],
   "source": [
    "rejected_loan = merged_loan_data[merged_loan_data['approved']==False]\n",
    "rejected_loan.head(5)"
   ]
  },
  {
   "cell_type": "code",
   "execution_count": 14,
   "metadata": {},
   "outputs": [
    {
     "data": {
      "application/vnd.plotly.v1+json": {
       "config": {
        "plotlyServerURL": "https://plot.ly"
       },
       "data": [
        {
         "coloraxis": "coloraxis",
         "geo": "geo",
         "hovertemplate": "locations=%{location}<br>PaidOffLoanCount=%{z}<extra></extra>",
         "locationmode": "USA-states",
         "locations": [
          "OH",
          "IL",
          "WI",
          "MO",
          "IN",
          "FL",
          "CA",
          "TX",
          "MI",
          "TN",
          "NC",
          "NJ",
          "PA",
          "SC",
          "VA",
          "NV",
          "AZ",
          "MN",
          "NM",
          "AL",
          "KY",
          "GA",
          "CT",
          "WA",
          "MS",
          "CO",
          "UT",
          "OK",
          "LA",
          "SD",
          "DE",
          "NE",
          "IA",
          "WY",
          "KS",
          "HI",
          "RI",
          "ND",
          "AK",
          "TX-TEST",
          "ID"
         ],
         "name": "",
         "type": "choropleth",
         "z": [
          758,
          662,
          335,
          247,
          236,
          212,
          206,
          199,
          199,
          131,
          115,
          111,
          93,
          73,
          61,
          49,
          40,
          38,
          24,
          24,
          23,
          21,
          20,
          19,
          16,
          16,
          13,
          12,
          11,
          11,
          8,
          8,
          6,
          5,
          5,
          4,
          4,
          3,
          2,
          1,
          1
         ]
        }
       ],
       "layout": {
        "coloraxis": {
         "colorbar": {
          "title": {
           "text": "Paid Off Count"
          }
         },
         "colorscale": [
          [
           0,
           "rgb(255,255,217)"
          ],
          [
           0.125,
           "rgb(237,248,177)"
          ],
          [
           0.25,
           "rgb(199,233,180)"
          ],
          [
           0.375,
           "rgb(127,205,187)"
          ],
          [
           0.5,
           "rgb(65,182,196)"
          ],
          [
           0.625,
           "rgb(29,145,192)"
          ],
          [
           0.75,
           "rgb(34,94,168)"
          ],
          [
           0.875,
           "rgb(37,52,148)"
          ],
          [
           1,
           "rgb(8,29,88)"
          ]
         ]
        },
        "geo": {
         "bgcolor": "rgba(0,0,0,0)",
         "center": {},
         "domain": {
          "x": [
           0,
           1
          ],
          "y": [
           0,
           1
          ]
         },
         "lakecolor": "rgba(0,0,0,0)",
         "scope": "usa"
        },
        "legend": {
         "tracegroupgap": 0
        },
        "template": {
         "data": {
          "bar": [
           {
            "error_x": {
             "color": "#2a3f5f"
            },
            "error_y": {
             "color": "#2a3f5f"
            },
            "marker": {
             "line": {
              "color": "#E5ECF6",
              "width": 0.5
             },
             "pattern": {
              "fillmode": "overlay",
              "size": 10,
              "solidity": 0.2
             }
            },
            "type": "bar"
           }
          ],
          "barpolar": [
           {
            "marker": {
             "line": {
              "color": "#E5ECF6",
              "width": 0.5
             },
             "pattern": {
              "fillmode": "overlay",
              "size": 10,
              "solidity": 0.2
             }
            },
            "type": "barpolar"
           }
          ],
          "carpet": [
           {
            "aaxis": {
             "endlinecolor": "#2a3f5f",
             "gridcolor": "white",
             "linecolor": "white",
             "minorgridcolor": "white",
             "startlinecolor": "#2a3f5f"
            },
            "baxis": {
             "endlinecolor": "#2a3f5f",
             "gridcolor": "white",
             "linecolor": "white",
             "minorgridcolor": "white",
             "startlinecolor": "#2a3f5f"
            },
            "type": "carpet"
           }
          ],
          "choropleth": [
           {
            "colorbar": {
             "outlinewidth": 0,
             "ticks": ""
            },
            "type": "choropleth"
           }
          ],
          "contour": [
           {
            "colorbar": {
             "outlinewidth": 0,
             "ticks": ""
            },
            "colorscale": [
             [
              0,
              "#0d0887"
             ],
             [
              0.1111111111111111,
              "#46039f"
             ],
             [
              0.2222222222222222,
              "#7201a8"
             ],
             [
              0.3333333333333333,
              "#9c179e"
             ],
             [
              0.4444444444444444,
              "#bd3786"
             ],
             [
              0.5555555555555556,
              "#d8576b"
             ],
             [
              0.6666666666666666,
              "#ed7953"
             ],
             [
              0.7777777777777778,
              "#fb9f3a"
             ],
             [
              0.8888888888888888,
              "#fdca26"
             ],
             [
              1,
              "#f0f921"
             ]
            ],
            "type": "contour"
           }
          ],
          "contourcarpet": [
           {
            "colorbar": {
             "outlinewidth": 0,
             "ticks": ""
            },
            "type": "contourcarpet"
           }
          ],
          "heatmap": [
           {
            "colorbar": {
             "outlinewidth": 0,
             "ticks": ""
            },
            "colorscale": [
             [
              0,
              "#0d0887"
             ],
             [
              0.1111111111111111,
              "#46039f"
             ],
             [
              0.2222222222222222,
              "#7201a8"
             ],
             [
              0.3333333333333333,
              "#9c179e"
             ],
             [
              0.4444444444444444,
              "#bd3786"
             ],
             [
              0.5555555555555556,
              "#d8576b"
             ],
             [
              0.6666666666666666,
              "#ed7953"
             ],
             [
              0.7777777777777778,
              "#fb9f3a"
             ],
             [
              0.8888888888888888,
              "#fdca26"
             ],
             [
              1,
              "#f0f921"
             ]
            ],
            "type": "heatmap"
           }
          ],
          "heatmapgl": [
           {
            "colorbar": {
             "outlinewidth": 0,
             "ticks": ""
            },
            "colorscale": [
             [
              0,
              "#0d0887"
             ],
             [
              0.1111111111111111,
              "#46039f"
             ],
             [
              0.2222222222222222,
              "#7201a8"
             ],
             [
              0.3333333333333333,
              "#9c179e"
             ],
             [
              0.4444444444444444,
              "#bd3786"
             ],
             [
              0.5555555555555556,
              "#d8576b"
             ],
             [
              0.6666666666666666,
              "#ed7953"
             ],
             [
              0.7777777777777778,
              "#fb9f3a"
             ],
             [
              0.8888888888888888,
              "#fdca26"
             ],
             [
              1,
              "#f0f921"
             ]
            ],
            "type": "heatmapgl"
           }
          ],
          "histogram": [
           {
            "marker": {
             "pattern": {
              "fillmode": "overlay",
              "size": 10,
              "solidity": 0.2
             }
            },
            "type": "histogram"
           }
          ],
          "histogram2d": [
           {
            "colorbar": {
             "outlinewidth": 0,
             "ticks": ""
            },
            "colorscale": [
             [
              0,
              "#0d0887"
             ],
             [
              0.1111111111111111,
              "#46039f"
             ],
             [
              0.2222222222222222,
              "#7201a8"
             ],
             [
              0.3333333333333333,
              "#9c179e"
             ],
             [
              0.4444444444444444,
              "#bd3786"
             ],
             [
              0.5555555555555556,
              "#d8576b"
             ],
             [
              0.6666666666666666,
              "#ed7953"
             ],
             [
              0.7777777777777778,
              "#fb9f3a"
             ],
             [
              0.8888888888888888,
              "#fdca26"
             ],
             [
              1,
              "#f0f921"
             ]
            ],
            "type": "histogram2d"
           }
          ],
          "histogram2dcontour": [
           {
            "colorbar": {
             "outlinewidth": 0,
             "ticks": ""
            },
            "colorscale": [
             [
              0,
              "#0d0887"
             ],
             [
              0.1111111111111111,
              "#46039f"
             ],
             [
              0.2222222222222222,
              "#7201a8"
             ],
             [
              0.3333333333333333,
              "#9c179e"
             ],
             [
              0.4444444444444444,
              "#bd3786"
             ],
             [
              0.5555555555555556,
              "#d8576b"
             ],
             [
              0.6666666666666666,
              "#ed7953"
             ],
             [
              0.7777777777777778,
              "#fb9f3a"
             ],
             [
              0.8888888888888888,
              "#fdca26"
             ],
             [
              1,
              "#f0f921"
             ]
            ],
            "type": "histogram2dcontour"
           }
          ],
          "mesh3d": [
           {
            "colorbar": {
             "outlinewidth": 0,
             "ticks": ""
            },
            "type": "mesh3d"
           }
          ],
          "parcoords": [
           {
            "line": {
             "colorbar": {
              "outlinewidth": 0,
              "ticks": ""
             }
            },
            "type": "parcoords"
           }
          ],
          "pie": [
           {
            "automargin": true,
            "type": "pie"
           }
          ],
          "scatter": [
           {
            "fillpattern": {
             "fillmode": "overlay",
             "size": 10,
             "solidity": 0.2
            },
            "type": "scatter"
           }
          ],
          "scatter3d": [
           {
            "line": {
             "colorbar": {
              "outlinewidth": 0,
              "ticks": ""
             }
            },
            "marker": {
             "colorbar": {
              "outlinewidth": 0,
              "ticks": ""
             }
            },
            "type": "scatter3d"
           }
          ],
          "scattercarpet": [
           {
            "marker": {
             "colorbar": {
              "outlinewidth": 0,
              "ticks": ""
             }
            },
            "type": "scattercarpet"
           }
          ],
          "scattergeo": [
           {
            "marker": {
             "colorbar": {
              "outlinewidth": 0,
              "ticks": ""
             }
            },
            "type": "scattergeo"
           }
          ],
          "scattergl": [
           {
            "marker": {
             "colorbar": {
              "outlinewidth": 0,
              "ticks": ""
             }
            },
            "type": "scattergl"
           }
          ],
          "scattermapbox": [
           {
            "marker": {
             "colorbar": {
              "outlinewidth": 0,
              "ticks": ""
             }
            },
            "type": "scattermapbox"
           }
          ],
          "scatterpolar": [
           {
            "marker": {
             "colorbar": {
              "outlinewidth": 0,
              "ticks": ""
             }
            },
            "type": "scatterpolar"
           }
          ],
          "scatterpolargl": [
           {
            "marker": {
             "colorbar": {
              "outlinewidth": 0,
              "ticks": ""
             }
            },
            "type": "scatterpolargl"
           }
          ],
          "scatterternary": [
           {
            "marker": {
             "colorbar": {
              "outlinewidth": 0,
              "ticks": ""
             }
            },
            "type": "scatterternary"
           }
          ],
          "surface": [
           {
            "colorbar": {
             "outlinewidth": 0,
             "ticks": ""
            },
            "colorscale": [
             [
              0,
              "#0d0887"
             ],
             [
              0.1111111111111111,
              "#46039f"
             ],
             [
              0.2222222222222222,
              "#7201a8"
             ],
             [
              0.3333333333333333,
              "#9c179e"
             ],
             [
              0.4444444444444444,
              "#bd3786"
             ],
             [
              0.5555555555555556,
              "#d8576b"
             ],
             [
              0.6666666666666666,
              "#ed7953"
             ],
             [
              0.7777777777777778,
              "#fb9f3a"
             ],
             [
              0.8888888888888888,
              "#fdca26"
             ],
             [
              1,
              "#f0f921"
             ]
            ],
            "type": "surface"
           }
          ],
          "table": [
           {
            "cells": {
             "fill": {
              "color": "#EBF0F8"
             },
             "line": {
              "color": "white"
             }
            },
            "header": {
             "fill": {
              "color": "#C8D4E3"
             },
             "line": {
              "color": "white"
             }
            },
            "type": "table"
           }
          ]
         },
         "layout": {
          "annotationdefaults": {
           "arrowcolor": "#2a3f5f",
           "arrowhead": 0,
           "arrowwidth": 1
          },
          "autotypenumbers": "strict",
          "coloraxis": {
           "colorbar": {
            "outlinewidth": 0,
            "ticks": ""
           }
          },
          "colorscale": {
           "diverging": [
            [
             0,
             "#8e0152"
            ],
            [
             0.1,
             "#c51b7d"
            ],
            [
             0.2,
             "#de77ae"
            ],
            [
             0.3,
             "#f1b6da"
            ],
            [
             0.4,
             "#fde0ef"
            ],
            [
             0.5,
             "#f7f7f7"
            ],
            [
             0.6,
             "#e6f5d0"
            ],
            [
             0.7,
             "#b8e186"
            ],
            [
             0.8,
             "#7fbc41"
            ],
            [
             0.9,
             "#4d9221"
            ],
            [
             1,
             "#276419"
            ]
           ],
           "sequential": [
            [
             0,
             "#0d0887"
            ],
            [
             0.1111111111111111,
             "#46039f"
            ],
            [
             0.2222222222222222,
             "#7201a8"
            ],
            [
             0.3333333333333333,
             "#9c179e"
            ],
            [
             0.4444444444444444,
             "#bd3786"
            ],
            [
             0.5555555555555556,
             "#d8576b"
            ],
            [
             0.6666666666666666,
             "#ed7953"
            ],
            [
             0.7777777777777778,
             "#fb9f3a"
            ],
            [
             0.8888888888888888,
             "#fdca26"
            ],
            [
             1,
             "#f0f921"
            ]
           ],
           "sequentialminus": [
            [
             0,
             "#0d0887"
            ],
            [
             0.1111111111111111,
             "#46039f"
            ],
            [
             0.2222222222222222,
             "#7201a8"
            ],
            [
             0.3333333333333333,
             "#9c179e"
            ],
            [
             0.4444444444444444,
             "#bd3786"
            ],
            [
             0.5555555555555556,
             "#d8576b"
            ],
            [
             0.6666666666666666,
             "#ed7953"
            ],
            [
             0.7777777777777778,
             "#fb9f3a"
            ],
            [
             0.8888888888888888,
             "#fdca26"
            ],
            [
             1,
             "#f0f921"
            ]
           ]
          },
          "colorway": [
           "#636efa",
           "#EF553B",
           "#00cc96",
           "#ab63fa",
           "#FFA15A",
           "#19d3f3",
           "#FF6692",
           "#B6E880",
           "#FF97FF",
           "#FECB52"
          ],
          "font": {
           "color": "#2a3f5f"
          },
          "geo": {
           "bgcolor": "white",
           "lakecolor": "white",
           "landcolor": "#E5ECF6",
           "showlakes": true,
           "showland": true,
           "subunitcolor": "white"
          },
          "hoverlabel": {
           "align": "left"
          },
          "hovermode": "closest",
          "mapbox": {
           "style": "light"
          },
          "paper_bgcolor": "white",
          "plot_bgcolor": "#E5ECF6",
          "polar": {
           "angularaxis": {
            "gridcolor": "white",
            "linecolor": "white",
            "ticks": ""
           },
           "bgcolor": "#E5ECF6",
           "radialaxis": {
            "gridcolor": "white",
            "linecolor": "white",
            "ticks": ""
           }
          },
          "scene": {
           "xaxis": {
            "backgroundcolor": "#E5ECF6",
            "gridcolor": "white",
            "gridwidth": 2,
            "linecolor": "white",
            "showbackground": true,
            "ticks": "",
            "zerolinecolor": "white"
           },
           "yaxis": {
            "backgroundcolor": "#E5ECF6",
            "gridcolor": "white",
            "gridwidth": 2,
            "linecolor": "white",
            "showbackground": true,
            "ticks": "",
            "zerolinecolor": "white"
           },
           "zaxis": {
            "backgroundcolor": "#E5ECF6",
            "gridcolor": "white",
            "gridwidth": 2,
            "linecolor": "white",
            "showbackground": true,
            "ticks": "",
            "zerolinecolor": "white"
           }
          },
          "shapedefaults": {
           "line": {
            "color": "#2a3f5f"
           }
          },
          "ternary": {
           "aaxis": {
            "gridcolor": "white",
            "linecolor": "white",
            "ticks": ""
           },
           "baxis": {
            "gridcolor": "white",
            "linecolor": "white",
            "ticks": ""
           },
           "bgcolor": "#E5ECF6",
           "caxis": {
            "gridcolor": "white",
            "linecolor": "white",
            "ticks": ""
           }
          },
          "title": {
           "x": 0.05
          },
          "xaxis": {
           "automargin": true,
           "gridcolor": "white",
           "linecolor": "white",
           "ticks": "",
           "title": {
            "standoff": 15
           },
           "zerolinecolor": "white",
           "zerolinewidth": 2
          },
          "yaxis": {
           "automargin": true,
           "gridcolor": "white",
           "linecolor": "white",
           "ticks": "",
           "title": {
            "standoff": 15
           },
           "zerolinecolor": "white",
           "zerolinewidth": 2
          }
         }
        },
        "title": {
         "text": "Paid Off Loans by State"
        }
       }
      }
     },
     "metadata": {},
     "output_type": "display_data"
    }
   ],
   "source": [
    "# Create a pivot table to count rejected loan applications by state\n",
    "rejected_counts = rejected_loan['state'].value_counts().reset_index()\n",
    "rejected_counts.columns = ['State', 'PaidOffLoanCount']\n",
    "\n",
    "# Create an interactive heatmap using Plotly Express\n",
    "fig = px.choropleth(locations=rejected_counts['State'], locationmode='USA-states', \n",
    "                    color=rejected_counts['PaidOffLoanCount'], \n",
    "                    scope=\"usa\", \n",
    "                    title='Paid Off Loans by State',\n",
    "                    labels={'color': 'PaidOffLoanCount'},\n",
    "                    color_continuous_scale='YlGnBu')\n",
    "\n",
    "fig.update_layout(coloraxis_colorbar=dict(title='Paid Off Count'),\n",
    "                  geo=dict(bgcolor='rgba(0,0,0,0)',\n",
    "                           lakecolor='rgba(0,0,0,0)'))\n",
    "\n",
    "# Display the interactive heatmap\n",
    "fig.show()"
   ]
  },
  {
   "cell_type": "markdown",
   "metadata": {},
   "source": [
    "We can see that OHIO is still the most state that got rejected their loan application with 758. this is not surprising as they also have the most loan application out there with more than 90k loan application. \n",
    "\n",
    "Now let's see the profiling for the rejected loan."
   ]
  },
  {
   "cell_type": "code",
   "execution_count": 15,
   "metadata": {},
   "outputs": [
    {
     "name": "stderr",
     "output_type": "stream",
     "text": [
      "Done! Use 'show' commands to display/save.   |██████████| [100%]   00:00 -> (00:00 left)\n"
     ]
    },
    {
     "name": "stdout",
     "output_type": "stream",
     "text": [
      "Report rejected_loan.html was generated! NOTEBOOK/COLAB USERS: the web browser MAY not pop up, regardless, the report IS saved in your notebook/colab files.\n"
     ]
    }
   ],
   "source": [
    "sv.analyze(rejected_loan).show_html(\"rejected_loan.html\")"
   ]
  },
  {
   "cell_type": "markdown",
   "metadata": {},
   "source": [
    "Below we got the cumulative different for laonAmount and originallyScheduledPaymentAmount for rejected loan. why do we need to know this? This is because we caould assess the loan risk, indicate that riskier borrowing or repayment profile range."
   ]
  },
  {
   "cell_type": "code",
   "execution_count": 16,
   "metadata": {},
   "outputs": [
    {
     "name": "stdout",
     "output_type": "stream",
     "text": [
      "Rejected:\n",
      "Sum of loanAmount: 2882864.75\n",
      "Sum of originallyScheduledPaymentAmount: 7506444.85\n",
      "Difference between cumulative loanAmount & originallyScheduledPaymentAmount for PaidOff loan: 4623580.1\n",
      "Percentage Difference paid off loan: 160.38%\n"
     ]
    }
   ],
   "source": [
    "# Calculate the sum of loanAmount and originallyScheduledPaymentAmount\n",
    "sum_rejected_amount = rejected_loan['loanAmount'].sum()\n",
    "sum_rejected_scheduled_payment_amount = rejected_loan['originallyScheduledPaymentAmount'].sum()\n",
    "\n",
    "# Calculate the percentage difference between the sums\n",
    "percentage_difference_r = ((sum_rejected_scheduled_payment_amount - sum_rejected_amount) / sum_rejected_amount) * 100\n",
    "\n",
    "# Display the calculated sums and percentage difference\n",
    "print(\"Rejected:\")\n",
    "print(f\"Sum of loanAmount: {sum_rejected_amount}\")\n",
    "print(f\"Sum of originallyScheduledPaymentAmount: {sum_rejected_scheduled_payment_amount}\")\n",
    "print(f\"Difference between cumulative loanAmount & originallyScheduledPaymentAmount for PaidOff loan: {sum_rejected_scheduled_payment_amount - sum_rejected_amount}\")\n",
    "print(f\"Percentage Difference paid off loan: {percentage_difference_r:.2f}%\")"
   ]
  },
  {
   "cell_type": "markdown",
   "metadata": {},
   "source": [
    "there are huge different between originallyScheduledpaymentAmount with loanAmount. this might be because of high APR. we will see in the next visualization."
   ]
  },
  {
   "cell_type": "code",
   "execution_count": 17,
   "metadata": {},
   "outputs": [
    {
     "data": {
      "application/vnd.plotly.v1+json": {
       "config": {
        "plotlyServerURL": "https://plot.ly"
       },
       "data": [
        {
         "alignmentgroup": "True",
         "hovertemplate": "Amount Type=%{x}<br>Sum of Amount=%{y}<extra></extra>",
         "legendgroup": "",
         "marker": {
          "color": "#636efa",
          "pattern": {
           "shape": ""
          }
         },
         "name": "",
         "offsetgroup": "",
         "orientation": "v",
         "showlegend": false,
         "textposition": "auto",
         "type": "bar",
         "x": [
          "loanAmount",
          "originallyScheduledPaymentAmount"
         ],
         "xaxis": "x",
         "y": [
          2882864.75,
          7506444.85
         ],
         "yaxis": "y"
        }
       ],
       "layout": {
        "barmode": "relative",
        "legend": {
         "tracegroupgap": 0
        },
        "template": {
         "data": {
          "bar": [
           {
            "error_x": {
             "color": "#2a3f5f"
            },
            "error_y": {
             "color": "#2a3f5f"
            },
            "marker": {
             "line": {
              "color": "#E5ECF6",
              "width": 0.5
             },
             "pattern": {
              "fillmode": "overlay",
              "size": 10,
              "solidity": 0.2
             }
            },
            "type": "bar"
           }
          ],
          "barpolar": [
           {
            "marker": {
             "line": {
              "color": "#E5ECF6",
              "width": 0.5
             },
             "pattern": {
              "fillmode": "overlay",
              "size": 10,
              "solidity": 0.2
             }
            },
            "type": "barpolar"
           }
          ],
          "carpet": [
           {
            "aaxis": {
             "endlinecolor": "#2a3f5f",
             "gridcolor": "white",
             "linecolor": "white",
             "minorgridcolor": "white",
             "startlinecolor": "#2a3f5f"
            },
            "baxis": {
             "endlinecolor": "#2a3f5f",
             "gridcolor": "white",
             "linecolor": "white",
             "minorgridcolor": "white",
             "startlinecolor": "#2a3f5f"
            },
            "type": "carpet"
           }
          ],
          "choropleth": [
           {
            "colorbar": {
             "outlinewidth": 0,
             "ticks": ""
            },
            "type": "choropleth"
           }
          ],
          "contour": [
           {
            "colorbar": {
             "outlinewidth": 0,
             "ticks": ""
            },
            "colorscale": [
             [
              0,
              "#0d0887"
             ],
             [
              0.1111111111111111,
              "#46039f"
             ],
             [
              0.2222222222222222,
              "#7201a8"
             ],
             [
              0.3333333333333333,
              "#9c179e"
             ],
             [
              0.4444444444444444,
              "#bd3786"
             ],
             [
              0.5555555555555556,
              "#d8576b"
             ],
             [
              0.6666666666666666,
              "#ed7953"
             ],
             [
              0.7777777777777778,
              "#fb9f3a"
             ],
             [
              0.8888888888888888,
              "#fdca26"
             ],
             [
              1,
              "#f0f921"
             ]
            ],
            "type": "contour"
           }
          ],
          "contourcarpet": [
           {
            "colorbar": {
             "outlinewidth": 0,
             "ticks": ""
            },
            "type": "contourcarpet"
           }
          ],
          "heatmap": [
           {
            "colorbar": {
             "outlinewidth": 0,
             "ticks": ""
            },
            "colorscale": [
             [
              0,
              "#0d0887"
             ],
             [
              0.1111111111111111,
              "#46039f"
             ],
             [
              0.2222222222222222,
              "#7201a8"
             ],
             [
              0.3333333333333333,
              "#9c179e"
             ],
             [
              0.4444444444444444,
              "#bd3786"
             ],
             [
              0.5555555555555556,
              "#d8576b"
             ],
             [
              0.6666666666666666,
              "#ed7953"
             ],
             [
              0.7777777777777778,
              "#fb9f3a"
             ],
             [
              0.8888888888888888,
              "#fdca26"
             ],
             [
              1,
              "#f0f921"
             ]
            ],
            "type": "heatmap"
           }
          ],
          "heatmapgl": [
           {
            "colorbar": {
             "outlinewidth": 0,
             "ticks": ""
            },
            "colorscale": [
             [
              0,
              "#0d0887"
             ],
             [
              0.1111111111111111,
              "#46039f"
             ],
             [
              0.2222222222222222,
              "#7201a8"
             ],
             [
              0.3333333333333333,
              "#9c179e"
             ],
             [
              0.4444444444444444,
              "#bd3786"
             ],
             [
              0.5555555555555556,
              "#d8576b"
             ],
             [
              0.6666666666666666,
              "#ed7953"
             ],
             [
              0.7777777777777778,
              "#fb9f3a"
             ],
             [
              0.8888888888888888,
              "#fdca26"
             ],
             [
              1,
              "#f0f921"
             ]
            ],
            "type": "heatmapgl"
           }
          ],
          "histogram": [
           {
            "marker": {
             "pattern": {
              "fillmode": "overlay",
              "size": 10,
              "solidity": 0.2
             }
            },
            "type": "histogram"
           }
          ],
          "histogram2d": [
           {
            "colorbar": {
             "outlinewidth": 0,
             "ticks": ""
            },
            "colorscale": [
             [
              0,
              "#0d0887"
             ],
             [
              0.1111111111111111,
              "#46039f"
             ],
             [
              0.2222222222222222,
              "#7201a8"
             ],
             [
              0.3333333333333333,
              "#9c179e"
             ],
             [
              0.4444444444444444,
              "#bd3786"
             ],
             [
              0.5555555555555556,
              "#d8576b"
             ],
             [
              0.6666666666666666,
              "#ed7953"
             ],
             [
              0.7777777777777778,
              "#fb9f3a"
             ],
             [
              0.8888888888888888,
              "#fdca26"
             ],
             [
              1,
              "#f0f921"
             ]
            ],
            "type": "histogram2d"
           }
          ],
          "histogram2dcontour": [
           {
            "colorbar": {
             "outlinewidth": 0,
             "ticks": ""
            },
            "colorscale": [
             [
              0,
              "#0d0887"
             ],
             [
              0.1111111111111111,
              "#46039f"
             ],
             [
              0.2222222222222222,
              "#7201a8"
             ],
             [
              0.3333333333333333,
              "#9c179e"
             ],
             [
              0.4444444444444444,
              "#bd3786"
             ],
             [
              0.5555555555555556,
              "#d8576b"
             ],
             [
              0.6666666666666666,
              "#ed7953"
             ],
             [
              0.7777777777777778,
              "#fb9f3a"
             ],
             [
              0.8888888888888888,
              "#fdca26"
             ],
             [
              1,
              "#f0f921"
             ]
            ],
            "type": "histogram2dcontour"
           }
          ],
          "mesh3d": [
           {
            "colorbar": {
             "outlinewidth": 0,
             "ticks": ""
            },
            "type": "mesh3d"
           }
          ],
          "parcoords": [
           {
            "line": {
             "colorbar": {
              "outlinewidth": 0,
              "ticks": ""
             }
            },
            "type": "parcoords"
           }
          ],
          "pie": [
           {
            "automargin": true,
            "type": "pie"
           }
          ],
          "scatter": [
           {
            "fillpattern": {
             "fillmode": "overlay",
             "size": 10,
             "solidity": 0.2
            },
            "type": "scatter"
           }
          ],
          "scatter3d": [
           {
            "line": {
             "colorbar": {
              "outlinewidth": 0,
              "ticks": ""
             }
            },
            "marker": {
             "colorbar": {
              "outlinewidth": 0,
              "ticks": ""
             }
            },
            "type": "scatter3d"
           }
          ],
          "scattercarpet": [
           {
            "marker": {
             "colorbar": {
              "outlinewidth": 0,
              "ticks": ""
             }
            },
            "type": "scattercarpet"
           }
          ],
          "scattergeo": [
           {
            "marker": {
             "colorbar": {
              "outlinewidth": 0,
              "ticks": ""
             }
            },
            "type": "scattergeo"
           }
          ],
          "scattergl": [
           {
            "marker": {
             "colorbar": {
              "outlinewidth": 0,
              "ticks": ""
             }
            },
            "type": "scattergl"
           }
          ],
          "scattermapbox": [
           {
            "marker": {
             "colorbar": {
              "outlinewidth": 0,
              "ticks": ""
             }
            },
            "type": "scattermapbox"
           }
          ],
          "scatterpolar": [
           {
            "marker": {
             "colorbar": {
              "outlinewidth": 0,
              "ticks": ""
             }
            },
            "type": "scatterpolar"
           }
          ],
          "scatterpolargl": [
           {
            "marker": {
             "colorbar": {
              "outlinewidth": 0,
              "ticks": ""
             }
            },
            "type": "scatterpolargl"
           }
          ],
          "scatterternary": [
           {
            "marker": {
             "colorbar": {
              "outlinewidth": 0,
              "ticks": ""
             }
            },
            "type": "scatterternary"
           }
          ],
          "surface": [
           {
            "colorbar": {
             "outlinewidth": 0,
             "ticks": ""
            },
            "colorscale": [
             [
              0,
              "#0d0887"
             ],
             [
              0.1111111111111111,
              "#46039f"
             ],
             [
              0.2222222222222222,
              "#7201a8"
             ],
             [
              0.3333333333333333,
              "#9c179e"
             ],
             [
              0.4444444444444444,
              "#bd3786"
             ],
             [
              0.5555555555555556,
              "#d8576b"
             ],
             [
              0.6666666666666666,
              "#ed7953"
             ],
             [
              0.7777777777777778,
              "#fb9f3a"
             ],
             [
              0.8888888888888888,
              "#fdca26"
             ],
             [
              1,
              "#f0f921"
             ]
            ],
            "type": "surface"
           }
          ],
          "table": [
           {
            "cells": {
             "fill": {
              "color": "#EBF0F8"
             },
             "line": {
              "color": "white"
             }
            },
            "header": {
             "fill": {
              "color": "#C8D4E3"
             },
             "line": {
              "color": "white"
             }
            },
            "type": "table"
           }
          ]
         },
         "layout": {
          "annotationdefaults": {
           "arrowcolor": "#2a3f5f",
           "arrowhead": 0,
           "arrowwidth": 1
          },
          "autotypenumbers": "strict",
          "coloraxis": {
           "colorbar": {
            "outlinewidth": 0,
            "ticks": ""
           }
          },
          "colorscale": {
           "diverging": [
            [
             0,
             "#8e0152"
            ],
            [
             0.1,
             "#c51b7d"
            ],
            [
             0.2,
             "#de77ae"
            ],
            [
             0.3,
             "#f1b6da"
            ],
            [
             0.4,
             "#fde0ef"
            ],
            [
             0.5,
             "#f7f7f7"
            ],
            [
             0.6,
             "#e6f5d0"
            ],
            [
             0.7,
             "#b8e186"
            ],
            [
             0.8,
             "#7fbc41"
            ],
            [
             0.9,
             "#4d9221"
            ],
            [
             1,
             "#276419"
            ]
           ],
           "sequential": [
            [
             0,
             "#0d0887"
            ],
            [
             0.1111111111111111,
             "#46039f"
            ],
            [
             0.2222222222222222,
             "#7201a8"
            ],
            [
             0.3333333333333333,
             "#9c179e"
            ],
            [
             0.4444444444444444,
             "#bd3786"
            ],
            [
             0.5555555555555556,
             "#d8576b"
            ],
            [
             0.6666666666666666,
             "#ed7953"
            ],
            [
             0.7777777777777778,
             "#fb9f3a"
            ],
            [
             0.8888888888888888,
             "#fdca26"
            ],
            [
             1,
             "#f0f921"
            ]
           ],
           "sequentialminus": [
            [
             0,
             "#0d0887"
            ],
            [
             0.1111111111111111,
             "#46039f"
            ],
            [
             0.2222222222222222,
             "#7201a8"
            ],
            [
             0.3333333333333333,
             "#9c179e"
            ],
            [
             0.4444444444444444,
             "#bd3786"
            ],
            [
             0.5555555555555556,
             "#d8576b"
            ],
            [
             0.6666666666666666,
             "#ed7953"
            ],
            [
             0.7777777777777778,
             "#fb9f3a"
            ],
            [
             0.8888888888888888,
             "#fdca26"
            ],
            [
             1,
             "#f0f921"
            ]
           ]
          },
          "colorway": [
           "#636efa",
           "#EF553B",
           "#00cc96",
           "#ab63fa",
           "#FFA15A",
           "#19d3f3",
           "#FF6692",
           "#B6E880",
           "#FF97FF",
           "#FECB52"
          ],
          "font": {
           "color": "#2a3f5f"
          },
          "geo": {
           "bgcolor": "white",
           "lakecolor": "white",
           "landcolor": "#E5ECF6",
           "showlakes": true,
           "showland": true,
           "subunitcolor": "white"
          },
          "hoverlabel": {
           "align": "left"
          },
          "hovermode": "closest",
          "mapbox": {
           "style": "light"
          },
          "paper_bgcolor": "white",
          "plot_bgcolor": "#E5ECF6",
          "polar": {
           "angularaxis": {
            "gridcolor": "white",
            "linecolor": "white",
            "ticks": ""
           },
           "bgcolor": "#E5ECF6",
           "radialaxis": {
            "gridcolor": "white",
            "linecolor": "white",
            "ticks": ""
           }
          },
          "scene": {
           "xaxis": {
            "backgroundcolor": "#E5ECF6",
            "gridcolor": "white",
            "gridwidth": 2,
            "linecolor": "white",
            "showbackground": true,
            "ticks": "",
            "zerolinecolor": "white"
           },
           "yaxis": {
            "backgroundcolor": "#E5ECF6",
            "gridcolor": "white",
            "gridwidth": 2,
            "linecolor": "white",
            "showbackground": true,
            "ticks": "",
            "zerolinecolor": "white"
           },
           "zaxis": {
            "backgroundcolor": "#E5ECF6",
            "gridcolor": "white",
            "gridwidth": 2,
            "linecolor": "white",
            "showbackground": true,
            "ticks": "",
            "zerolinecolor": "white"
           }
          },
          "shapedefaults": {
           "line": {
            "color": "#2a3f5f"
           }
          },
          "ternary": {
           "aaxis": {
            "gridcolor": "white",
            "linecolor": "white",
            "ticks": ""
           },
           "baxis": {
            "gridcolor": "white",
            "linecolor": "white",
            "ticks": ""
           },
           "bgcolor": "#E5ECF6",
           "caxis": {
            "gridcolor": "white",
            "linecolor": "white",
            "ticks": ""
           }
          },
          "title": {
           "x": 0.05
          },
          "xaxis": {
           "automargin": true,
           "gridcolor": "white",
           "linecolor": "white",
           "ticks": "",
           "title": {
            "standoff": 15
           },
           "zerolinecolor": "white",
           "zerolinewidth": 2
          },
          "yaxis": {
           "automargin": true,
           "gridcolor": "white",
           "linecolor": "white",
           "ticks": "",
           "title": {
            "standoff": 15
           },
           "zerolinecolor": "white",
           "zerolinewidth": 2
          }
         }
        },
        "title": {
         "text": "Comparison of Sum between loanAmount and originallyScheduledPaymentAmount for Rejected Application Loan"
        },
        "xaxis": {
         "anchor": "y",
         "domain": [
          0,
          1
         ],
         "title": {
          "text": "Amount Type"
         }
        },
        "yaxis": {
         "anchor": "x",
         "domain": [
          0,
          1
         ],
         "title": {
          "text": "Sum of Amount"
         }
        }
       }
      }
     },
     "metadata": {},
     "output_type": "display_data"
    }
   ],
   "source": [
    "data = {'Amount Type': ['loanAmount', 'originallyScheduledPaymentAmount'],\n",
    "        'Sum Amount': [sum_rejected_amount, sum_rejected_scheduled_payment_amount]}\n",
    "df = pd.DataFrame(data)\n",
    "# Plotting a bar chart using Plotly Express\n",
    "fig_p = px.bar(df, x='Amount Type', y='Sum Amount', \n",
    "             labels={'Sum Amount': 'Sum of Amount'},\n",
    "             title='Comparison of Sum between loanAmount and originallyScheduledPaymentAmount for Rejected Application Loan')\n",
    "fig_p.show()"
   ]
  },
  {
   "cell_type": "markdown",
   "metadata": {},
   "source": [
    "Below is the box plot for APR from rejected laon application. we get to see that the highest APR is 681, while the median is 590. surprisingly, there are also laon that have 0 APR but still got rejected. wonder why is this. let's see on the next visualization."
   ]
  },
  {
   "cell_type": "code",
   "execution_count": 18,
   "metadata": {},
   "outputs": [
    {
     "data": {
      "application/vnd.plotly.v1+json": {
       "config": {
        "plotlyServerURL": "https://plot.ly"
       },
       "data": [
        {
         "alignmentgroup": "True",
         "hovertemplate": "apr=%{y}<extra></extra>",
         "legendgroup": "",
         "marker": {
          "color": "#636efa"
         },
         "name": "",
         "notched": false,
         "offsetgroup": "",
         "orientation": "v",
         "showlegend": false,
         "type": "box",
         "x0": " ",
         "xaxis": "x",
         "y": [
          490,
          390,
          390,
          390,
          390,
          590,
          590,
          590,
          516.25,
          516.25,
          516.25,
          359,
          359,
          590,
          645,
          645,
          645,
          645,
          645,
          680,
          449.99,
          449.99,
          449,
          360,
          490,
          490,
          645,
          601,
          360,
          590,
          159,
          159,
          625,
          625,
          601,
          390,
          590,
          681,
          360,
          360,
          680,
          490,
          360,
          360,
          null,
          590,
          590,
          645,
          625,
          590,
          590,
          590,
          590,
          590,
          590,
          590,
          590,
          590,
          625,
          590,
          680,
          590,
          590,
          590,
          601,
          601,
          449.99,
          449.99,
          449.99,
          449.99,
          449.99,
          360,
          645,
          645,
          360,
          531,
          645,
          360,
          360,
          360,
          516.25,
          516.25,
          516.25,
          324,
          360,
          360,
          601,
          645,
          359,
          449,
          449,
          590,
          590,
          390,
          601,
          590,
          590,
          590,
          590,
          590,
          590,
          590,
          360,
          360,
          360,
          360,
          360,
          360,
          360,
          360,
          360,
          360,
          360,
          590,
          590,
          590,
          449.99,
          449.99,
          449.99,
          590,
          590,
          390,
          525,
          501.5,
          501.5,
          645,
          645,
          645,
          645,
          390,
          475,
          475,
          590,
          650,
          590,
          590,
          601,
          568.75,
          568.75,
          449.99,
          680,
          449.99,
          501.5,
          381.65,
          359,
          359,
          449.99,
          449,
          680,
          478.67,
          645,
          510,
          510,
          590,
          645,
          645,
          645,
          590,
          590,
          681,
          590,
          590,
          645,
          645,
          645,
          590,
          590,
          590,
          590,
          590,
          590,
          590,
          590,
          590,
          590,
          645,
          645,
          645,
          645,
          360,
          360,
          315,
          315,
          360,
          601,
          680,
          360,
          645,
          590,
          645,
          645,
          645,
          590,
          590,
          590,
          590,
          449.99,
          449.99,
          404.991,
          590,
          590,
          590,
          590,
          590,
          490,
          490,
          645,
          645,
          645,
          540,
          590,
          590,
          590,
          449.99,
          315,
          475,
          650,
          650,
          650,
          390,
          390,
          390,
          490,
          490,
          490,
          590,
          590,
          590,
          590,
          590,
          590,
          324,
          324,
          590,
          590,
          590,
          645,
          645,
          645,
          645,
          645,
          645,
          645,
          null,
          590,
          590,
          490,
          324,
          324,
          600,
          645,
          531,
          590,
          475,
          645,
          531,
          531,
          390,
          645,
          645,
          645,
          360,
          360,
          645,
          645,
          645,
          645,
          645,
          590,
          590,
          531,
          531,
          650,
          650,
          360,
          645,
          449.99,
          449.99,
          404.991,
          590,
          590,
          590,
          590,
          590,
          359,
          645,
          159,
          159,
          159,
          404.1,
          590,
          475,
          590,
          590,
          478.67,
          645,
          645,
          590,
          360,
          590,
          449.99,
          590,
          590,
          590,
          590,
          645,
          449,
          590,
          360,
          360,
          516.25,
          645,
          645,
          645,
          360,
          590,
          590,
          590,
          199,
          199,
          199,
          199,
          550,
          531,
          590,
          590,
          590,
          590,
          550,
          550,
          625,
          590,
          475,
          590,
          645,
          590,
          531,
          360,
          650,
          645,
          645,
          251,
          590,
          590,
          159,
          590,
          251,
          645,
          590,
          590,
          590,
          360,
          501.5,
          325,
          325,
          449.99,
          324,
          680,
          475,
          359,
          251,
          590,
          324,
          324,
          590,
          390,
          590,
          590,
          590,
          590,
          590,
          590,
          449,
          449,
          449,
          590,
          645,
          645,
          645,
          449,
          449,
          449,
          590,
          404.1,
          531,
          531,
          360,
          288,
          324,
          590,
          680,
          680,
          441,
          441,
          449,
          449,
          501.5,
          590,
          590,
          590,
          590,
          625,
          625,
          625,
          590,
          404.991,
          590,
          590,
          680,
          590,
          590,
          381.65,
          381.65,
          360,
          590,
          590,
          650,
          650,
          650,
          360,
          359,
          680,
          390,
          390,
          360,
          590,
          449.99,
          531,
          449,
          590,
          449,
          490,
          531,
          531,
          590,
          590,
          360,
          645,
          650,
          404.1,
          404.1,
          590,
          390,
          500,
          531,
          590,
          590,
          490,
          324,
          590,
          590,
          590,
          360,
          324,
          324,
          324,
          324,
          645,
          360,
          360,
          590,
          590,
          449.99,
          590,
          360,
          590,
          590,
          590,
          590,
          590,
          590,
          590,
          590,
          590,
          490,
          490,
          590,
          590,
          404.1,
          360,
          501.5,
          590,
          590,
          490,
          325,
          404.991,
          550,
          500,
          550,
          360,
          360,
          359,
          585,
          159,
          159,
          159,
          242,
          360,
          390,
          390,
          590,
          360,
          360,
          360,
          360,
          360,
          360,
          590,
          645,
          645,
          404.1,
          650,
          590,
          590,
          590,
          416.5,
          416.5,
          180.2,
          199,
          199,
          625,
          590,
          355,
          531,
          490,
          590,
          182,
          550,
          550,
          550,
          550,
          550,
          550,
          550,
          590,
          590,
          590,
          645,
          601,
          590,
          645,
          645,
          590,
          590,
          95,
          590,
          645,
          645,
          645,
          645,
          159,
          590,
          645,
          645,
          590,
          590,
          590,
          590,
          590,
          590,
          360,
          540,
          590,
          590,
          590,
          590,
          360,
          681,
          650,
          449.99,
          449.99,
          645,
          645,
          590,
          590,
          650,
          650,
          590,
          590,
          449.99,
          681,
          590,
          199,
          199,
          199,
          199,
          360,
          590,
          251,
          159,
          159,
          475,
          531,
          516.25,
          516.25,
          590,
          231,
          231,
          590,
          590,
          590,
          590,
          590,
          590,
          590,
          590,
          590,
          590,
          516.25,
          590,
          590,
          590,
          590,
          590,
          null,
          590,
          590,
          159,
          159,
          645,
          645,
          625,
          510,
          242,
          590,
          590,
          360,
          360,
          449,
          449.99,
          360,
          360,
          360,
          360,
          360,
          590,
          590,
          590,
          290,
          590,
          590,
          159,
          500,
          590,
          590,
          590,
          590,
          590,
          590,
          360,
          645,
          490,
          449,
          590,
          590,
          590,
          590,
          590,
          578,
          578,
          590,
          449.99,
          449.99,
          449,
          360,
          590,
          645,
          590,
          590,
          381.65,
          390,
          590,
          590,
          590,
          590,
          590,
          590,
          590,
          590,
          590,
          590,
          590,
          590,
          490,
          360,
          516.25,
          516.25,
          516.25,
          516.25,
          516.25,
          516.25,
          516.25,
          516.25,
          516.25,
          516.25,
          360,
          360,
          360,
          360,
          590,
          645,
          390,
          680,
          680,
          590,
          590,
          650,
          590,
          645,
          645,
          650,
          159,
          159,
          159,
          159,
          159,
          159,
          159,
          490,
          449.99,
          449.99,
          390,
          590,
          382.4915,
          590,
          590,
          590,
          590,
          590,
          590,
          625,
          601,
          590,
          590,
          601,
          601,
          590,
          590,
          449.99,
          360,
          590,
          590,
          590,
          590,
          601,
          404.991,
          251,
          590,
          590,
          590,
          650,
          681,
          681,
          650,
          650,
          475,
          590,
          590,
          449.99,
          449.99,
          449.99,
          490,
          531,
          681,
          625,
          531,
          590,
          531,
          590,
          590,
          590,
          645,
          199,
          645,
          590,
          490,
          490,
          490,
          490,
          490,
          490,
          490,
          490,
          590,
          590,
          360,
          404.1,
          404.1,
          475,
          590,
          645,
          590,
          590,
          540,
          540,
          501.5,
          501.5,
          501.5,
          null,
          590,
          590,
          531,
          531,
          531,
          531,
          680,
          625,
          625,
          449.99,
          590,
          490,
          360,
          360,
          601,
          590,
          360,
          360,
          449.99,
          590,
          360,
          590,
          501.5,
          680,
          546.875,
          510,
          590,
          239,
          680,
          324,
          590,
          645,
          645,
          449.99,
          360,
          360,
          490,
          590,
          315,
          590,
          590,
          490,
          645,
          645,
          217,
          590,
          645,
          590,
          590,
          360,
          590,
          601,
          600,
          360,
          472,
          680,
          360,
          360,
          590,
          590,
          590,
          590,
          531,
          590,
          360,
          360,
          360,
          360,
          360,
          360,
          531,
          531,
          590,
          645,
          645,
          645,
          590,
          590,
          625,
          645,
          645,
          625,
          625,
          590,
          590,
          159,
          590,
          601,
          590,
          645,
          680,
          590,
          449,
          449,
          360,
          360,
          360,
          360,
          550,
          590,
          625,
          590,
          359,
          360,
          360,
          360,
          360,
          360,
          645,
          590,
          449.99,
          360,
          590,
          590,
          645,
          645,
          645,
          645,
          645,
          449.99,
          449,
          590,
          645,
          360,
          360,
          360,
          449.99,
          449.99,
          645,
          645,
          645,
          590,
          360,
          590,
          590,
          590,
          590,
          590,
          360,
          360,
          360,
          590,
          449.99,
          601,
          360,
          490,
          590,
          645,
          590,
          590,
          590,
          645,
          645,
          645,
          645,
          645,
          645,
          645,
          590,
          590,
          590,
          590,
          590,
          590,
          590,
          590,
          590,
          590,
          590,
          590,
          590,
          601,
          590,
          645,
          645,
          590,
          360,
          590,
          590,
          645,
          324,
          681,
          550,
          550,
          550,
          550,
          590,
          590,
          590,
          645,
          449.99,
          449.99,
          645,
          645,
          645,
          600,
          359,
          590,
          324,
          550,
          590,
          449.99,
          645,
          360,
          645,
          645,
          590,
          601,
          590,
          645,
          590,
          449.99,
          531,
          531,
          650,
          590,
          590,
          324,
          360,
          360,
          590,
          590,
          590,
          590,
          590,
          360,
          null,
          650,
          404.991,
          404.991,
          645,
          645,
          590,
          315,
          315,
          315,
          315,
          585,
          601,
          449.99,
          645,
          645,
          180.2,
          590,
          645,
          590,
          590,
          590,
          360,
          590,
          590,
          501.5,
          590,
          590,
          490,
          441,
          550,
          550,
          550,
          449.99,
          324,
          645,
          590,
          590,
          531,
          590,
          360,
          360,
          404.991,
          360,
          360,
          680,
          680,
          590,
          590,
          590,
          590,
          590,
          590,
          360,
          360,
          590,
          590,
          645,
          525,
          645,
          645,
          645,
          390,
          360,
          360,
          360,
          360,
          562.5,
          404.991,
          404.1,
          490,
          680,
          590,
          590,
          612.9,
          645,
          360,
          645,
          550,
          550,
          475,
          550,
          681,
          540.9,
          590,
          360,
          590,
          490,
          590,
          490,
          601,
          360,
          590,
          159,
          490,
          645,
          590,
          590,
          681,
          590,
          590,
          590,
          359,
          590,
          601,
          500,
          500,
          500,
          681,
          590,
          199,
          449.99,
          449.99,
          360,
          645,
          645,
          645,
          645,
          360,
          590,
          240,
          680,
          562.5,
          360,
          360,
          360,
          590,
          251,
          625,
          625,
          625,
          625,
          625,
          359,
          359,
          359,
          540,
          540,
          360,
          360,
          360,
          360,
          590,
          390,
          680,
          359,
          590,
          590,
          449,
          590,
          612.9,
          590,
          590,
          590,
          360,
          360,
          590,
          590,
          645,
          645,
          590,
          449,
          251,
          590,
          590,
          590,
          680,
          680,
          680,
          590,
          590,
          360,
          680,
          590,
          590,
          390,
          390,
          625,
          590,
          531,
          531,
          449.99,
          449.99,
          590,
          490,
          601,
          590,
          590,
          501.5,
          213.35,
          501.5,
          203.15,
          449,
          590,
          590,
          449.99,
          601,
          601,
          360,
          680,
          680,
          645,
          199,
          360,
          590,
          531,
          324,
          306,
          590,
          159,
          199,
          590,
          390,
          590,
          590,
          590,
          360,
          251,
          199,
          199,
          360,
          645,
          590,
          645,
          590,
          590,
          590,
          601,
          360,
          360,
          360,
          360,
          360,
          590,
          590,
          590,
          360,
          360,
          590,
          590,
          590,
          590,
          590,
          490,
          645,
          645,
          590,
          680,
          590,
          360,
          555,
          325,
          325,
          501.5,
          501.5,
          501.5,
          590,
          449.99,
          449.99,
          449.99,
          449.99,
          159,
          590,
          360,
          360,
          360,
          590,
          645,
          441,
          441,
          516.25,
          680,
          490,
          590,
          590,
          590,
          590,
          645,
          601,
          510,
          590,
          590,
          205,
          531,
          590,
          449,
          601,
          590,
          359,
          490,
          490,
          600,
          600,
          590,
          449.99,
          449.99,
          449.99,
          439,
          650,
          404.991,
          360,
          449.99,
          681,
          681,
          681,
          590,
          590,
          360,
          360,
          360,
          590,
          590,
          251,
          251,
          531,
          359,
          645,
          590,
          590,
          590,
          590,
          590,
          590,
          645,
          601,
          590,
          590,
          324,
          590,
          590,
          590,
          590,
          590,
          590,
          590,
          360,
          360,
          360,
          590,
          590,
          360,
          590,
          590,
          590,
          590,
          449.99,
          null,
          199,
          531,
          590,
          590,
          590,
          325,
          475,
          159,
          360,
          590,
          681,
          681,
          681,
          681,
          360,
          449.99,
          601,
          590,
          590,
          645,
          680,
          645,
          404.1,
          404.1,
          404.1,
          404.1,
          590,
          516.25,
          516.25,
          590,
          516.25,
          516.25,
          516.25,
          590,
          590,
          360,
          360,
          590,
          645,
          531,
          645,
          650,
          590,
          525,
          590,
          531,
          531,
          404.1,
          449,
          449,
          645,
          645,
          29.99,
          390,
          590,
          449.99,
          590,
          590,
          650,
          645,
          590,
          590,
          449.99,
          449.99,
          449.99,
          390,
          390,
          390,
          390,
          490,
          199,
          449.99,
          449.99,
          449.99,
          590,
          590,
          510,
          590,
          590,
          360,
          681,
          590,
          601,
          360,
          360,
          590,
          590,
          525,
          360,
          590,
          590,
          590,
          590,
          590,
          680,
          590,
          360,
          590,
          360,
          360,
          680,
          645,
          645,
          625,
          601,
          645,
          590,
          590,
          590,
          590,
          404.991,
          360,
          360,
          449.99,
          449.99,
          449.99,
          null,
          590,
          590,
          645,
          645,
          490,
          590,
          645,
          645,
          590,
          590,
          590,
          650,
          680,
          680,
          490,
          625,
          590,
          645,
          360,
          360,
          590,
          680,
          404.1,
          404.1,
          590,
          550,
          360,
          360,
          360,
          645,
          645,
          645,
          645,
          590,
          590,
          590,
          625,
          449.99,
          590,
          645,
          360,
          625,
          645,
          590,
          590,
          251,
          590,
          251,
          251,
          600,
          490,
          360,
          180.2,
          180.2,
          590,
          360,
          404.991,
          360,
          590,
          590,
          590,
          449.99,
          449.99,
          449.99,
          601,
          601,
          306,
          306,
          265,
          265,
          265,
          360,
          645,
          360,
          360,
          590,
          590,
          552.5,
          390,
          390,
          325,
          600,
          600,
          600,
          600,
          441,
          590,
          590,
          360,
          324,
          404.991,
          590,
          475,
          645,
          590,
          251,
          360,
          360,
          590,
          449,
          449,
          360,
          645,
          199,
          590,
          360,
          360,
          360,
          531,
          680,
          680,
          680,
          360,
          645,
          516.25,
          180.2,
          360,
          590,
          645,
          360,
          590,
          390,
          601,
          601,
          590,
          360,
          360,
          590,
          360,
          590,
          315,
          315,
          590,
          590,
          590,
          590,
          645,
          360,
          360,
          360,
          590,
          531,
          531,
          601,
          475,
          475,
          601,
          315,
          315,
          590,
          590,
          590,
          590,
          590,
          590,
          null,
          590,
          590,
          590,
          531.25,
          475,
          360,
          645,
          645,
          681,
          490,
          590,
          645,
          590,
          475,
          360,
          645,
          645,
          590,
          501.5,
          645,
          550,
          550,
          590,
          680,
          590,
          590,
          681,
          680,
          680,
          680,
          590,
          360,
          590,
          590,
          590,
          590,
          600,
          601,
          590,
          645,
          590,
          590,
          590,
          325,
          325,
          590,
          359,
          625,
          550,
          680,
          360,
          490,
          449,
          390,
          390,
          625,
          590,
          625,
          590,
          359,
          590,
          590,
          590,
          590,
          590,
          390,
          590,
          390,
          390,
          390,
          590,
          590,
          590,
          324,
          645,
          590,
          360,
          360,
          590,
          590,
          590,
          590,
          449.99,
          601,
          601,
          500,
          680,
          360,
          645,
          390,
          390,
          390,
          390,
          600,
          590,
          590,
          645,
          645,
          449.99,
          645,
          645,
          135.15,
          135.15,
          590,
          360,
          360,
          590,
          660,
          590,
          441,
          175,
          175,
          175,
          590,
          531,
          360,
          360,
          525,
          525,
          590,
          590,
          590,
          590,
          645,
          590,
          590,
          590,
          590,
          590,
          590,
          590,
          360,
          490,
          645,
          590,
          645,
          590,
          390,
          390,
          390,
          390,
          625,
          590,
          590,
          590,
          531,
          531,
          531,
          540,
          360,
          590,
          590,
          449.99,
          590,
          645,
          645,
          590,
          590,
          501.5,
          590,
          531.25,
          650,
          475,
          449.99,
          449,
          360,
          501.5,
          501.5,
          251,
          590,
          590,
          475,
          645,
          510,
          510,
          590,
          590,
          601,
          590,
          590,
          590,
          540,
          324,
          324,
          160,
          645,
          645,
          590,
          590,
          306,
          590,
          590,
          449.99,
          645,
          449.99,
          325,
          680,
          590,
          531,
          590,
          324,
          324,
          324,
          449.99,
          449.99,
          645,
          360,
          645,
          645,
          645,
          590,
          645,
          645,
          501.5,
          590,
          360,
          590,
          404.991,
          360,
          449,
          null,
          360,
          645,
          625,
          590,
          540.9,
          540.9,
          645,
          645,
          590,
          590,
          324,
          516.25,
          449.99,
          590,
          590,
          590,
          590,
          590,
          324,
          531,
          590,
          645,
          645,
          590,
          590,
          590,
          360,
          360,
          645,
          645,
          585,
          585,
          360,
          490,
          645,
          590,
          590,
          645,
          590,
          601,
          601,
          590,
          478.67,
          590,
          590,
          601,
          590,
          645,
          645,
          645,
          590,
          449.99,
          516.25,
          516.25,
          360,
          360,
          590,
          360,
          490,
          360,
          550,
          645,
          645,
          645,
          359,
          360,
          590,
          590,
          590,
          251,
          360,
          360,
          590,
          439,
          439,
          590,
          645,
          590,
          590,
          650,
          590,
          590,
          449,
          360,
          600,
          650,
          390,
          590,
          449.99,
          449,
          449,
          590,
          590,
          590,
          590,
          590,
          315,
          360,
          590,
          680,
          360,
          315,
          590,
          590,
          441,
          251,
          590,
          360,
          360,
          360,
          590,
          645,
          180.2,
          360,
          590,
          645,
          645,
          680,
          590,
          590,
          490,
          531,
          324,
          645,
          645,
          306,
          590,
          590,
          590,
          590,
          590,
          601,
          360,
          360,
          550,
          590,
          324,
          324,
          590,
          645,
          360,
          360,
          360,
          360,
          590,
          306,
          590,
          645,
          680,
          404.1,
          404.1,
          360,
          562.5,
          562.5,
          562.5,
          590,
          324,
          590,
          360,
          360,
          680,
          590,
          590,
          645,
          531,
          645,
          645,
          645,
          645,
          159,
          590,
          359,
          359,
          390,
          645,
          590,
          645,
          590,
          360,
          360,
          251,
          645,
          645,
          590,
          590,
          590,
          590,
          360,
          360,
          650,
          360,
          510,
          590,
          590,
          590,
          449.99,
          449.99,
          360,
          645,
          645,
          645,
          590,
          531,
          251,
          251,
          590,
          449.99,
          390,
          449.99,
          404.991,
          590,
          590,
          590,
          449.99,
          449.99,
          625,
          625,
          625,
          645,
          645,
          306,
          501.5,
          501.5,
          501.5,
          501.5,
          645,
          360,
          360,
          590,
          490,
          590,
          645,
          600,
          590,
          490,
          590,
          590,
          578.85,
          590,
          590,
          359,
          525,
          360,
          590,
          590,
          360,
          590,
          199,
          490,
          590,
          680,
          359,
          580,
          580,
          590,
          590,
          355,
          531,
          159,
          159,
          159,
          681,
          324,
          590,
          404.991,
          590,
          501.5,
          501.5,
          360,
          590,
          590,
          590,
          590,
          531,
          645,
          645,
          359,
          143.1,
          590,
          546.875,
          516.25,
          590,
          590,
          590,
          590,
          590,
          645,
          590,
          475,
          490,
          510,
          590,
          590,
          590,
          590,
          251,
          359,
          585,
          585,
          550,
          475,
          390,
          390,
          390,
          390,
          590,
          475,
          590,
          645,
          531,
          590,
          590,
          590,
          159,
          306,
          490,
          590,
          159,
          590,
          590,
          171,
          360,
          324,
          590,
          590,
          490,
          590,
          590,
          590,
          590,
          449,
          645,
          359,
          590,
          449,
          360,
          645,
          645,
          645,
          590,
          590,
          490,
          590,
          625,
          590,
          360,
          590,
          360,
          590,
          490,
          449.99,
          680,
          590,
          590,
          590,
          601,
          601,
          601,
          601,
          601,
          601,
          590,
          645,
          590,
          360,
          360,
          680,
          360,
          475,
          475,
          550,
          550,
          360,
          590,
          590,
          590,
          449.99,
          359,
          324,
          324,
          324,
          360,
          590,
          590,
          590,
          590,
          531,
          360,
          360,
          360,
          590,
          428.75,
          531,
          680,
          590,
          531,
          531,
          139.125,
          645,
          645,
          625,
          590,
          590,
          590,
          590,
          590,
          590,
          590,
          590,
          590,
          590,
          590,
          531,
          360,
          590,
          306,
          449.99,
          531,
          590,
          251,
          645,
          645,
          490,
          590,
          590,
          590,
          590,
          531,
          531,
          360,
          590,
          601,
          null,
          590,
          590,
          360,
          590,
          590,
          680,
          531,
          199,
          199,
          601,
          645,
          645,
          645,
          645,
          645,
          590,
          645,
          390,
          531,
          531,
          531,
          590,
          490,
          590,
          360,
          645,
          590,
          359,
          590,
          449.99,
          449.99,
          360,
          428.75,
          525,
          645,
          478.67,
          null,
          590,
          590,
          590,
          590,
          590,
          590,
          360,
          590,
          360,
          360,
          360,
          360,
          590,
          590,
          475,
          590,
          590,
          590,
          680,
          590,
          590,
          324,
          360,
          360,
          360,
          645,
          360,
          590,
          590,
          590,
          590,
          645,
          360,
          645,
          590,
          590,
          590,
          590,
          590,
          590,
          359,
          600,
          600,
          600,
          600,
          360,
          360,
          449,
          645,
          590,
          360,
          360,
          360,
          390,
          590,
          590,
          360,
          360,
          360,
          680,
          390,
          360,
          531,
          360,
          550,
          590,
          590,
          590,
          360,
          475,
          590,
          645,
          359,
          359,
          360,
          680,
          680,
          680,
          449.99,
          590,
          590,
          360,
          645,
          645,
          590,
          531,
          324,
          590,
          360,
          590,
          600,
          600,
          325,
          590,
          590,
          550,
          360,
          360,
          360,
          306,
          360,
          590,
          645,
          590,
          360,
          360,
          601,
          600,
          475,
          475,
          475,
          585,
          510,
          590,
          590,
          590,
          590,
          404.991,
          590,
          601,
          360,
          645,
          590,
          590,
          590,
          590,
          590,
          490,
          585,
          585,
          590,
          381.65,
          590,
          540,
          360,
          590,
          475,
          645,
          531,
          531,
          360,
          360,
          590,
          590,
          449,
          590,
          360,
          360,
          360,
          531,
          531,
          324,
          449,
          null,
          475,
          382.4915,
          382.4915,
          590,
          360,
          360,
          531,
          360,
          531,
          645,
          645,
          360,
          531,
          590,
          590,
          645,
          159,
          645,
          645,
          449,
          590,
          590,
          590,
          590,
          590,
          590,
          590,
          590,
          590,
          590,
          360,
          360,
          449.99,
          525,
          550,
          590,
          590,
          590,
          645,
          590,
          590,
          390,
          590,
          590,
          449.99,
          590,
          251,
          590,
          601,
          625,
          645,
          590,
          645,
          645,
          645,
          645,
          680,
          360,
          590,
          590,
          590,
          590,
          590,
          208,
          590,
          390,
          601,
          490,
          490,
          449.99,
          449.99,
          645,
          590,
          540.9,
          531,
          360,
          531,
          681,
          531,
          590,
          590,
          590,
          645,
          360,
          590,
          645,
          590,
          360,
          360,
          590,
          590,
          645,
          360,
          360,
          427.5,
          475,
          590,
          390,
          390,
          null,
          359,
          590,
          590,
          590,
          590,
          590,
          159,
          590,
          590,
          590,
          449,
          650,
          650,
          600,
          600,
          590,
          645,
          590,
          645,
          645,
          645,
          531,
          360,
          360,
          360,
          590,
          360,
          590,
          180.2,
          590,
          590,
          531,
          360,
          645,
          590,
          360,
          590,
          590,
          449.99,
          590,
          251,
          590,
          449.99,
          590,
          360,
          590,
          590,
          590,
          590,
          590,
          404.991,
          404.991,
          404.991,
          360,
          590,
          590,
          590,
          590,
          159,
          159,
          159,
          590,
          590,
          590,
          590,
          645,
          590,
          490,
          324,
          590,
          590,
          590,
          590,
          490,
          680,
          645,
          360,
          360,
          550,
          590,
          360,
          590,
          590,
          490,
          590,
          590,
          590,
          590,
          590,
          590,
          306,
          590,
          590,
          590,
          645,
          315,
          590,
          306,
          306,
          590,
          516.25,
          449,
          159,
          360,
          590,
          590,
          645,
          680,
          625,
          360,
          590,
          600,
          625,
          590,
          590,
          590,
          681,
          680,
          680,
          590,
          590,
          159,
          360,
          360,
          449.99,
          645,
          625,
          590,
          680,
          590,
          590,
          590,
          590,
          590,
          590,
          590,
          490,
          525,
          550,
          525,
          600,
          360,
          590,
          645,
          531,
          645,
          315,
          590,
          475,
          601,
          590,
          625,
          360,
          360,
          360,
          360,
          360,
          645,
          475,
          475,
          540,
          590,
          360,
          645,
          251,
          645,
          590,
          500,
          590,
          590,
          590,
          590,
          360,
          360,
          590,
          590,
          590,
          590,
          645,
          590,
          590,
          590,
          590,
          590,
          360,
          680,
          680,
          360,
          590,
          590,
          315,
          180.2,
          306,
          241,
          241,
          390,
          425,
          645,
          590,
          324,
          601,
          590,
          360,
          360,
          601,
          601,
          531,
          95,
          590,
          590,
          590,
          590,
          360,
          360,
          645,
          360,
          590,
          645,
          645,
          516.25,
          360,
          590,
          601,
          null,
          590,
          390,
          590,
          360,
          590,
          490,
          650,
          625,
          590,
          650,
          590,
          590,
          590,
          590,
          590,
          601,
          645,
          590,
          360,
          645,
          590,
          441,
          590,
          449.99,
          449.99,
          360,
          449.99,
          590,
          590,
          590,
          645,
          645,
          324,
          625,
          590,
          590,
          625,
          525,
          645,
          590,
          645,
          590,
          590,
          565,
          590,
          590,
          360,
          590,
          590,
          516.25,
          324,
          315,
          324,
          590,
          680,
          590,
          590,
          590,
          590,
          590,
          590,
          516.25,
          590,
          360,
          360,
          590,
          590,
          601,
          590,
          449.99,
          360,
          360,
          490,
          645,
          360,
          360,
          625,
          251,
          578,
          578,
          601,
          360,
          600,
          612,
          590,
          600,
          590,
          645,
          590,
          680,
          590,
          645,
          324,
          400,
          650,
          681,
          531,
          601,
          360,
          359,
          449,
          525,
          525,
          590,
          490,
          251,
          645,
          590,
          590,
          360,
          360,
          324,
          645,
          590,
          590,
          160,
          540,
          625,
          590,
          501.5,
          590,
          590,
          159,
          180.2,
          590,
          590,
          360,
          531,
          590,
          360,
          404.991,
          540,
          590,
          645,
          645,
          601,
          645,
          290,
          645,
          590,
          159,
          590,
          601,
          590,
          360,
          324,
          360,
          590,
          645,
          590,
          475,
          680,
          601,
          601,
          645,
          680,
          360,
          360,
          590,
          590,
          390,
          290,
          590,
          590,
          590,
          449.99,
          590,
          590,
          590,
          650,
          531,
          590,
          645,
          645,
          360,
          404.1,
          180.2,
          540,
          540,
          680,
          590,
          590,
          360,
          159,
          590,
          490,
          645,
          490,
          490,
          645,
          510,
          390,
          390,
          324,
          251,
          324,
          324,
          590,
          590,
          404.1,
          199,
          360,
          531,
          475,
          449.99,
          645,
          680,
          360,
          590,
          590,
          231,
          449.99,
          645,
          590,
          359,
          590,
          315,
          315,
          590,
          315,
          449.99,
          645,
          490,
          645,
          645,
          645,
          590,
          390,
          360,
          590,
          590,
          590,
          590,
          590,
          360,
          645,
          490,
          490,
          645,
          360,
          590,
          590,
          360,
          324,
          490,
          449.99,
          590,
          590,
          680,
          360,
          531,
          360,
          359,
          510,
          645,
          360,
          590,
          645,
          490,
          490,
          590,
          590,
          645,
          680,
          625,
          645,
          645,
          360,
          645,
          645,
          645,
          590,
          590,
          359,
          590,
          359,
          490,
          449.99,
          449,
          449.99,
          359,
          590,
          590,
          590,
          601,
          600,
          199,
          590,
          590,
          360,
          180.2,
          501.5,
          360,
          360,
          590,
          680,
          324,
          359,
          449.99,
          590,
          315,
          315,
          590,
          590,
          360,
          525,
          590,
          650,
          360,
          600,
          590,
          360,
          324,
          645,
          360,
          360,
          360,
          590,
          590,
          590,
          449.99,
          525,
          525,
          562.5,
          360,
          601,
          600,
          590,
          449.99,
          199,
          590,
          590,
          590,
          590,
          590,
          null,
          390,
          590,
          590,
          590,
          360,
          360,
          360,
          680,
          241,
          590,
          590,
          590,
          645,
          360,
          360,
          590,
          360,
          360,
          360,
          590,
          400,
          590,
          360,
          324,
          475,
          645,
          360,
          360,
          590,
          680,
          590,
          645,
          501.5,
          590,
          590,
          590,
          360,
          360,
          531,
          360,
          590,
          590,
          325,
          590,
          180.2,
          590,
          590,
          590,
          590,
          501.5,
          360,
          590,
          590,
          590,
          449.99,
          475,
          531,
          590,
          390,
          590,
          324,
          324,
          324,
          324,
          475,
          590,
          590,
          590,
          590,
          490,
          590,
          645,
          360,
          590,
          449.99,
          449,
          590,
          360,
          645,
          590,
          590,
          645,
          449.99,
          590,
          590,
          590,
          441,
          650,
          590,
          645,
          645,
          645,
          490,
          590,
          590,
          324,
          475,
          180.2,
          590,
          490,
          590,
          645,
          590,
          590,
          645,
          360,
          680,
          680,
          590,
          590,
          428.75,
          590,
          590,
          501.5,
          516.25,
          516.25,
          251,
          475,
          590,
          449.99,
          645,
          531,
          590,
          590,
          590,
          590,
          546.875,
          645,
          590,
          490,
          490,
          645,
          645,
          590,
          360,
          645,
          590,
          590,
          449.99,
          427.5,
          324,
          645,
          645,
          531,
          601,
          650,
          490,
          590,
          516.25,
          360,
          590,
          590,
          590,
          590,
          390,
          490,
          360,
          645,
          590,
          501.5,
          590,
          625,
          428.75,
          360,
          360,
          360,
          625,
          590,
          680,
          390,
          650,
          645,
          590,
          590,
          601,
          645,
          360,
          590,
          531,
          601,
          590,
          null,
          360,
          360,
          590,
          590,
          449,
          590,
          449,
          159,
          590,
          590,
          360,
          360,
          590,
          590,
          590,
          645,
          590,
          625,
          360,
          590,
          360,
          159,
          360,
          590,
          360,
          360,
          490,
          531,
          531,
          601,
          449,
          645,
          590,
          590,
          590,
          449.99,
          490,
          490,
          360,
          590,
          590,
          680,
          590,
          525,
          590,
          475,
          590,
          590,
          439,
          0,
          562.5,
          449.99,
          590,
          590,
          590,
          531,
          531,
          531,
          681,
          324,
          590,
          645,
          645,
          590,
          590,
          500,
          490,
          590,
          360,
          360,
          590,
          645,
          645,
          590,
          590,
          360,
          590,
          590,
          360,
          359,
          359,
          199,
          475,
          490,
          475,
          490,
          680,
          645,
          590,
          590,
          360,
          590,
          531,
          590,
          590,
          590,
          590,
          590,
          645,
          525,
          590,
          645,
          360,
          590,
          590,
          590,
          590,
          590,
          645,
          360,
          360,
          360,
          590,
          590,
          590,
          360,
          680,
          601,
          590,
          590,
          681,
          null,
          590,
          180.2,
          501.5,
          472,
          490,
          360,
          360,
          590,
          360,
          681,
          590,
          590,
          681,
          590,
          590,
          590,
          590,
          360,
          645,
          645,
          531,
          531,
          680,
          680,
          490,
          590,
          315,
          601,
          360,
          590,
          590,
          590,
          590,
          645,
          645,
          490,
          490,
          360,
          325,
          590,
          590,
          590,
          645,
          590,
          590,
          590,
          590,
          625,
          680,
          590,
          360,
          360,
          590,
          681,
          590,
          645,
          590,
          404.991,
          360,
          360,
          360,
          359,
          359,
          590,
          359,
          359,
          590,
          449,
          449,
          590,
          590,
          404.1,
          360,
          590,
          590,
          360,
          449.99,
          590,
          510,
          590,
          590,
          449.99,
          645,
          590,
          645,
          590,
          590,
          590,
          590,
          449.99,
          360,
          590,
          490,
          645,
          680,
          645,
          590,
          360,
          306,
          681,
          359,
          490,
          680,
          404.991,
          590,
          199,
          531,
          449.99,
          475,
          590,
          360,
          360,
          590,
          590,
          590,
          449.99,
          359,
          531,
          645,
          441,
          590,
          228,
          251,
          601,
          194,
          194,
          590,
          590,
          590,
          324,
          360,
          359,
          645,
          360,
          590,
          590,
          360,
          660,
          601,
          600,
          590,
          590,
          590,
          475,
          645,
          590,
          501.5,
          590,
          360,
          590,
          601,
          490,
          645,
          390,
          645,
          590,
          490,
          590,
          590,
          590,
          360,
          590,
          590,
          449,
          360,
          540,
          590,
          390,
          360,
          404.1,
          449.99,
          449.99,
          360,
          525,
          590,
          590,
          590,
          525,
          590,
          199,
          199,
          531,
          645,
          590,
          590,
          590,
          590,
          360,
          680,
          645,
          680,
          578.85,
          360,
          500,
          490,
          645,
          360,
          590,
          590,
          590,
          590,
          590,
          645,
          315,
          540,
          650,
          650,
          360,
          590,
          531,
          590,
          645,
          360,
          645,
          590,
          590,
          360,
          650,
          590,
          360,
          360,
          590,
          360,
          590,
          645,
          590,
          590,
          590,
          590,
          359,
          390,
          645,
          590,
          590,
          625,
          449.99,
          500,
          590,
          590,
          516.25,
          590,
          590,
          590,
          645,
          645,
          590,
          681,
          590,
          590,
          360,
          590,
          490,
          490,
          490,
          590,
          531,
          360,
          390,
          590,
          590,
          531,
          359,
          645,
          590,
          590,
          531,
          590,
          645,
          590,
          680,
          540,
          601,
          490,
          681,
          449,
          645,
          681,
          449.99,
          324,
          590,
          600,
          180.2,
          325,
          645,
          590,
          645,
          490,
          590,
          360,
          590,
          306,
          645,
          359,
          590,
          590,
          625,
          590,
          360,
          562.5,
          500,
          590,
          590,
          427.5,
          360,
          590,
          601,
          590,
          590,
          680,
          360,
          645,
          590,
          590,
          590,
          590,
          595.875,
          590,
          590,
          590,
          360,
          590,
          590,
          359,
          645,
          315,
          590,
          360,
          590,
          625,
          681,
          645,
          590,
          590,
          360,
          590,
          645,
          645,
          601,
          390,
          590,
          680,
          590,
          390,
          600,
          645,
          590,
          590,
          359,
          590,
          590,
          590,
          590,
          590,
          360,
          360,
          360,
          612.9,
          501.5,
          590,
          360,
          590,
          590,
          645,
          650,
          590,
          645,
          360,
          501.5,
          645,
          645,
          645,
          390,
          360,
          590,
          500,
          359,
          645,
          390,
          490,
          360,
          590,
          360,
          360,
          590,
          590,
          360,
          360,
          360,
          590,
          590,
          590,
          590,
          360,
          680,
          590,
          360,
          500,
          590,
          360,
          590,
          590,
          645,
          516.25,
          645,
          550,
          590,
          681,
          590,
          645,
          531,
          590,
          590,
          645,
          501.5,
          590,
          645,
          645,
          645,
          590,
          680,
          645,
          650,
          650,
          404.1,
          590,
          404.991,
          590,
          531,
          360,
          590,
          404.991,
          360,
          590,
          315,
          645,
          590,
          590,
          590,
          360,
          590,
          208,
          208,
          360,
          360,
          601,
          590,
          359,
          590,
          360,
          590,
          590,
          590,
          645,
          390,
          315,
          590,
          590,
          590,
          324,
          490,
          680,
          360,
          645,
          590,
          590,
          645,
          531,
          531,
          590,
          325,
          590,
          159,
          680,
          590,
          585,
          645,
          360,
          590,
          439,
          680,
          645,
          449.99,
          360,
          645,
          360,
          590,
          680,
          490,
          590,
          360,
          360,
          360,
          590,
          590,
          590,
          390,
          645,
          601,
          660,
          645,
          360,
          306,
          590,
          360,
          645,
          360,
          540,
          590,
          359,
          390,
          600,
          360,
          359,
          490,
          251,
          590,
          645,
          360,
          590,
          645,
          590,
          645,
          590,
          550,
          601,
          360,
          306,
          590,
          590,
          324,
          590,
          590,
          600,
          680,
          590,
          625,
          590,
          590,
          360,
          180.2,
          590,
          590,
          360,
          625,
          590,
          645,
          324,
          590,
          645,
          516.25,
          525,
          650,
          680,
          590,
          360,
          360,
          645,
          360,
          490,
          449,
          590,
          590,
          590,
          360,
          590,
          590,
          360,
          360,
          645,
          360,
          645,
          590,
          645,
          600,
          590,
          360,
          490,
          360,
          590,
          306,
          590,
          390
         ],
         "y0": " ",
         "yaxis": "y"
        }
       ],
       "layout": {
        "boxmode": "group",
        "legend": {
         "tracegroupgap": 0
        },
        "template": {
         "data": {
          "bar": [
           {
            "error_x": {
             "color": "#2a3f5f"
            },
            "error_y": {
             "color": "#2a3f5f"
            },
            "marker": {
             "line": {
              "color": "#E5ECF6",
              "width": 0.5
             },
             "pattern": {
              "fillmode": "overlay",
              "size": 10,
              "solidity": 0.2
             }
            },
            "type": "bar"
           }
          ],
          "barpolar": [
           {
            "marker": {
             "line": {
              "color": "#E5ECF6",
              "width": 0.5
             },
             "pattern": {
              "fillmode": "overlay",
              "size": 10,
              "solidity": 0.2
             }
            },
            "type": "barpolar"
           }
          ],
          "carpet": [
           {
            "aaxis": {
             "endlinecolor": "#2a3f5f",
             "gridcolor": "white",
             "linecolor": "white",
             "minorgridcolor": "white",
             "startlinecolor": "#2a3f5f"
            },
            "baxis": {
             "endlinecolor": "#2a3f5f",
             "gridcolor": "white",
             "linecolor": "white",
             "minorgridcolor": "white",
             "startlinecolor": "#2a3f5f"
            },
            "type": "carpet"
           }
          ],
          "choropleth": [
           {
            "colorbar": {
             "outlinewidth": 0,
             "ticks": ""
            },
            "type": "choropleth"
           }
          ],
          "contour": [
           {
            "colorbar": {
             "outlinewidth": 0,
             "ticks": ""
            },
            "colorscale": [
             [
              0,
              "#0d0887"
             ],
             [
              0.1111111111111111,
              "#46039f"
             ],
             [
              0.2222222222222222,
              "#7201a8"
             ],
             [
              0.3333333333333333,
              "#9c179e"
             ],
             [
              0.4444444444444444,
              "#bd3786"
             ],
             [
              0.5555555555555556,
              "#d8576b"
             ],
             [
              0.6666666666666666,
              "#ed7953"
             ],
             [
              0.7777777777777778,
              "#fb9f3a"
             ],
             [
              0.8888888888888888,
              "#fdca26"
             ],
             [
              1,
              "#f0f921"
             ]
            ],
            "type": "contour"
           }
          ],
          "contourcarpet": [
           {
            "colorbar": {
             "outlinewidth": 0,
             "ticks": ""
            },
            "type": "contourcarpet"
           }
          ],
          "heatmap": [
           {
            "colorbar": {
             "outlinewidth": 0,
             "ticks": ""
            },
            "colorscale": [
             [
              0,
              "#0d0887"
             ],
             [
              0.1111111111111111,
              "#46039f"
             ],
             [
              0.2222222222222222,
              "#7201a8"
             ],
             [
              0.3333333333333333,
              "#9c179e"
             ],
             [
              0.4444444444444444,
              "#bd3786"
             ],
             [
              0.5555555555555556,
              "#d8576b"
             ],
             [
              0.6666666666666666,
              "#ed7953"
             ],
             [
              0.7777777777777778,
              "#fb9f3a"
             ],
             [
              0.8888888888888888,
              "#fdca26"
             ],
             [
              1,
              "#f0f921"
             ]
            ],
            "type": "heatmap"
           }
          ],
          "heatmapgl": [
           {
            "colorbar": {
             "outlinewidth": 0,
             "ticks": ""
            },
            "colorscale": [
             [
              0,
              "#0d0887"
             ],
             [
              0.1111111111111111,
              "#46039f"
             ],
             [
              0.2222222222222222,
              "#7201a8"
             ],
             [
              0.3333333333333333,
              "#9c179e"
             ],
             [
              0.4444444444444444,
              "#bd3786"
             ],
             [
              0.5555555555555556,
              "#d8576b"
             ],
             [
              0.6666666666666666,
              "#ed7953"
             ],
             [
              0.7777777777777778,
              "#fb9f3a"
             ],
             [
              0.8888888888888888,
              "#fdca26"
             ],
             [
              1,
              "#f0f921"
             ]
            ],
            "type": "heatmapgl"
           }
          ],
          "histogram": [
           {
            "marker": {
             "pattern": {
              "fillmode": "overlay",
              "size": 10,
              "solidity": 0.2
             }
            },
            "type": "histogram"
           }
          ],
          "histogram2d": [
           {
            "colorbar": {
             "outlinewidth": 0,
             "ticks": ""
            },
            "colorscale": [
             [
              0,
              "#0d0887"
             ],
             [
              0.1111111111111111,
              "#46039f"
             ],
             [
              0.2222222222222222,
              "#7201a8"
             ],
             [
              0.3333333333333333,
              "#9c179e"
             ],
             [
              0.4444444444444444,
              "#bd3786"
             ],
             [
              0.5555555555555556,
              "#d8576b"
             ],
             [
              0.6666666666666666,
              "#ed7953"
             ],
             [
              0.7777777777777778,
              "#fb9f3a"
             ],
             [
              0.8888888888888888,
              "#fdca26"
             ],
             [
              1,
              "#f0f921"
             ]
            ],
            "type": "histogram2d"
           }
          ],
          "histogram2dcontour": [
           {
            "colorbar": {
             "outlinewidth": 0,
             "ticks": ""
            },
            "colorscale": [
             [
              0,
              "#0d0887"
             ],
             [
              0.1111111111111111,
              "#46039f"
             ],
             [
              0.2222222222222222,
              "#7201a8"
             ],
             [
              0.3333333333333333,
              "#9c179e"
             ],
             [
              0.4444444444444444,
              "#bd3786"
             ],
             [
              0.5555555555555556,
              "#d8576b"
             ],
             [
              0.6666666666666666,
              "#ed7953"
             ],
             [
              0.7777777777777778,
              "#fb9f3a"
             ],
             [
              0.8888888888888888,
              "#fdca26"
             ],
             [
              1,
              "#f0f921"
             ]
            ],
            "type": "histogram2dcontour"
           }
          ],
          "mesh3d": [
           {
            "colorbar": {
             "outlinewidth": 0,
             "ticks": ""
            },
            "type": "mesh3d"
           }
          ],
          "parcoords": [
           {
            "line": {
             "colorbar": {
              "outlinewidth": 0,
              "ticks": ""
             }
            },
            "type": "parcoords"
           }
          ],
          "pie": [
           {
            "automargin": true,
            "type": "pie"
           }
          ],
          "scatter": [
           {
            "fillpattern": {
             "fillmode": "overlay",
             "size": 10,
             "solidity": 0.2
            },
            "type": "scatter"
           }
          ],
          "scatter3d": [
           {
            "line": {
             "colorbar": {
              "outlinewidth": 0,
              "ticks": ""
             }
            },
            "marker": {
             "colorbar": {
              "outlinewidth": 0,
              "ticks": ""
             }
            },
            "type": "scatter3d"
           }
          ],
          "scattercarpet": [
           {
            "marker": {
             "colorbar": {
              "outlinewidth": 0,
              "ticks": ""
             }
            },
            "type": "scattercarpet"
           }
          ],
          "scattergeo": [
           {
            "marker": {
             "colorbar": {
              "outlinewidth": 0,
              "ticks": ""
             }
            },
            "type": "scattergeo"
           }
          ],
          "scattergl": [
           {
            "marker": {
             "colorbar": {
              "outlinewidth": 0,
              "ticks": ""
             }
            },
            "type": "scattergl"
           }
          ],
          "scattermapbox": [
           {
            "marker": {
             "colorbar": {
              "outlinewidth": 0,
              "ticks": ""
             }
            },
            "type": "scattermapbox"
           }
          ],
          "scatterpolar": [
           {
            "marker": {
             "colorbar": {
              "outlinewidth": 0,
              "ticks": ""
             }
            },
            "type": "scatterpolar"
           }
          ],
          "scatterpolargl": [
           {
            "marker": {
             "colorbar": {
              "outlinewidth": 0,
              "ticks": ""
             }
            },
            "type": "scatterpolargl"
           }
          ],
          "scatterternary": [
           {
            "marker": {
             "colorbar": {
              "outlinewidth": 0,
              "ticks": ""
             }
            },
            "type": "scatterternary"
           }
          ],
          "surface": [
           {
            "colorbar": {
             "outlinewidth": 0,
             "ticks": ""
            },
            "colorscale": [
             [
              0,
              "#0d0887"
             ],
             [
              0.1111111111111111,
              "#46039f"
             ],
             [
              0.2222222222222222,
              "#7201a8"
             ],
             [
              0.3333333333333333,
              "#9c179e"
             ],
             [
              0.4444444444444444,
              "#bd3786"
             ],
             [
              0.5555555555555556,
              "#d8576b"
             ],
             [
              0.6666666666666666,
              "#ed7953"
             ],
             [
              0.7777777777777778,
              "#fb9f3a"
             ],
             [
              0.8888888888888888,
              "#fdca26"
             ],
             [
              1,
              "#f0f921"
             ]
            ],
            "type": "surface"
           }
          ],
          "table": [
           {
            "cells": {
             "fill": {
              "color": "#EBF0F8"
             },
             "line": {
              "color": "white"
             }
            },
            "header": {
             "fill": {
              "color": "#C8D4E3"
             },
             "line": {
              "color": "white"
             }
            },
            "type": "table"
           }
          ]
         },
         "layout": {
          "annotationdefaults": {
           "arrowcolor": "#2a3f5f",
           "arrowhead": 0,
           "arrowwidth": 1
          },
          "autotypenumbers": "strict",
          "coloraxis": {
           "colorbar": {
            "outlinewidth": 0,
            "ticks": ""
           }
          },
          "colorscale": {
           "diverging": [
            [
             0,
             "#8e0152"
            ],
            [
             0.1,
             "#c51b7d"
            ],
            [
             0.2,
             "#de77ae"
            ],
            [
             0.3,
             "#f1b6da"
            ],
            [
             0.4,
             "#fde0ef"
            ],
            [
             0.5,
             "#f7f7f7"
            ],
            [
             0.6,
             "#e6f5d0"
            ],
            [
             0.7,
             "#b8e186"
            ],
            [
             0.8,
             "#7fbc41"
            ],
            [
             0.9,
             "#4d9221"
            ],
            [
             1,
             "#276419"
            ]
           ],
           "sequential": [
            [
             0,
             "#0d0887"
            ],
            [
             0.1111111111111111,
             "#46039f"
            ],
            [
             0.2222222222222222,
             "#7201a8"
            ],
            [
             0.3333333333333333,
             "#9c179e"
            ],
            [
             0.4444444444444444,
             "#bd3786"
            ],
            [
             0.5555555555555556,
             "#d8576b"
            ],
            [
             0.6666666666666666,
             "#ed7953"
            ],
            [
             0.7777777777777778,
             "#fb9f3a"
            ],
            [
             0.8888888888888888,
             "#fdca26"
            ],
            [
             1,
             "#f0f921"
            ]
           ],
           "sequentialminus": [
            [
             0,
             "#0d0887"
            ],
            [
             0.1111111111111111,
             "#46039f"
            ],
            [
             0.2222222222222222,
             "#7201a8"
            ],
            [
             0.3333333333333333,
             "#9c179e"
            ],
            [
             0.4444444444444444,
             "#bd3786"
            ],
            [
             0.5555555555555556,
             "#d8576b"
            ],
            [
             0.6666666666666666,
             "#ed7953"
            ],
            [
             0.7777777777777778,
             "#fb9f3a"
            ],
            [
             0.8888888888888888,
             "#fdca26"
            ],
            [
             1,
             "#f0f921"
            ]
           ]
          },
          "colorway": [
           "#636efa",
           "#EF553B",
           "#00cc96",
           "#ab63fa",
           "#FFA15A",
           "#19d3f3",
           "#FF6692",
           "#B6E880",
           "#FF97FF",
           "#FECB52"
          ],
          "font": {
           "color": "#2a3f5f"
          },
          "geo": {
           "bgcolor": "white",
           "lakecolor": "white",
           "landcolor": "#E5ECF6",
           "showlakes": true,
           "showland": true,
           "subunitcolor": "white"
          },
          "hoverlabel": {
           "align": "left"
          },
          "hovermode": "closest",
          "mapbox": {
           "style": "light"
          },
          "paper_bgcolor": "white",
          "plot_bgcolor": "#E5ECF6",
          "polar": {
           "angularaxis": {
            "gridcolor": "white",
            "linecolor": "white",
            "ticks": ""
           },
           "bgcolor": "#E5ECF6",
           "radialaxis": {
            "gridcolor": "white",
            "linecolor": "white",
            "ticks": ""
           }
          },
          "scene": {
           "xaxis": {
            "backgroundcolor": "#E5ECF6",
            "gridcolor": "white",
            "gridwidth": 2,
            "linecolor": "white",
            "showbackground": true,
            "ticks": "",
            "zerolinecolor": "white"
           },
           "yaxis": {
            "backgroundcolor": "#E5ECF6",
            "gridcolor": "white",
            "gridwidth": 2,
            "linecolor": "white",
            "showbackground": true,
            "ticks": "",
            "zerolinecolor": "white"
           },
           "zaxis": {
            "backgroundcolor": "#E5ECF6",
            "gridcolor": "white",
            "gridwidth": 2,
            "linecolor": "white",
            "showbackground": true,
            "ticks": "",
            "zerolinecolor": "white"
           }
          },
          "shapedefaults": {
           "line": {
            "color": "#2a3f5f"
           }
          },
          "ternary": {
           "aaxis": {
            "gridcolor": "white",
            "linecolor": "white",
            "ticks": ""
           },
           "baxis": {
            "gridcolor": "white",
            "linecolor": "white",
            "ticks": ""
           },
           "bgcolor": "#E5ECF6",
           "caxis": {
            "gridcolor": "white",
            "linecolor": "white",
            "ticks": ""
           }
          },
          "title": {
           "x": 0.05
          },
          "xaxis": {
           "automargin": true,
           "gridcolor": "white",
           "linecolor": "white",
           "ticks": "",
           "title": {
            "standoff": 15
           },
           "zerolinecolor": "white",
           "zerolinewidth": 2
          },
          "yaxis": {
           "automargin": true,
           "gridcolor": "white",
           "linecolor": "white",
           "ticks": "",
           "title": {
            "standoff": 15
           },
           "zerolinecolor": "white",
           "zerolinewidth": 2
          }
         }
        },
        "title": {
         "text": "Rejected: Box Plot APR"
        },
        "xaxis": {
         "anchor": "y",
         "domain": [
          0,
          1
         ]
        },
        "yaxis": {
         "anchor": "x",
         "domain": [
          0,
          1
         ],
         "title": {
          "text": "apr"
         }
        }
       }
      }
     },
     "metadata": {},
     "output_type": "display_data"
    }
   ],
   "source": [
    "fig = px.box(rejected_loan, y='apr', title='Rejected: Box Plot APR')\n",
    "\n",
    "# Show the plot\n",
    "fig.show()"
   ]
  },
  {
   "cell_type": "code",
   "execution_count": 19,
   "metadata": {},
   "outputs": [
    {
     "data": {
      "application/vnd.plotly.v1+json": {
       "config": {
        "plotlyServerURL": "https://plot.ly"
       },
       "data": [
        {
         "alignmentgroup": "True",
         "hovertemplate": "clearfraudscore=%{y}<extra></extra>",
         "legendgroup": "",
         "marker": {
          "color": "#636efa"
         },
         "name": "",
         "notched": false,
         "offsetgroup": "",
         "orientation": "v",
         "showlegend": false,
         "type": "box",
         "x0": " ",
         "xaxis": "x",
         "y": [
          736,
          736,
          736,
          736,
          736,
          827,
          827,
          827,
          689,
          689,
          689,
          800,
          800,
          791,
          578,
          578,
          578,
          578,
          578,
          539,
          811,
          811,
          811,
          841,
          489,
          489,
          694,
          861,
          458,
          514,
          891,
          891,
          772,
          573,
          796,
          751,
          619,
          765,
          669,
          669,
          820,
          824,
          775,
          625,
          593,
          589,
          690,
          815,
          520,
          520,
          802,
          651,
          651,
          651,
          651,
          651,
          651,
          651,
          544,
          778,
          743,
          745,
          745,
          745,
          770,
          770,
          541,
          541,
          541,
          541,
          541,
          702,
          811,
          811,
          505,
          710,
          822,
          632,
          753,
          512,
          612,
          612,
          612,
          850,
          793,
          793,
          785,
          515,
          840,
          522,
          522,
          611,
          550,
          639,
          801,
          647,
          647,
          647,
          647,
          647,
          647,
          647,
          505,
          571,
          571,
          571,
          571,
          571,
          571,
          571,
          571,
          571,
          571,
          749,
          523,
          597,
          617,
          617,
          617,
          695,
          695,
          670,
          868,
          618,
          618,
          647,
          647,
          647,
          647,
          819,
          856,
          856,
          903,
          727,
          481,
          481,
          837,
          550,
          550,
          759,
          607,
          null,
          777,
          546,
          705,
          705,
          550,
          550,
          543,
          689,
          667,
          749,
          749,
          864,
          701,
          701,
          701,
          660,
          660,
          735,
          774,
          774,
          863,
          863,
          863,
          759,
          555,
          555,
          555,
          555,
          555,
          555,
          555,
          555,
          555,
          728,
          728,
          728,
          728,
          698,
          698,
          772,
          772,
          845,
          402,
          541,
          635,
          747,
          709,
          858,
          858,
          858,
          487,
          487,
          487,
          487,
          null,
          null,
          null,
          744,
          510,
          493,
          702,
          581,
          581,
          581,
          806,
          806,
          806,
          688,
          766,
          700,
          700,
          527,
          509,
          832,
          741,
          741,
          741,
          442,
          442,
          442,
          676,
          676,
          676,
          500,
          500,
          500,
          770,
          770,
          593,
          777,
          777,
          770,
          770,
          770,
          631,
          631,
          631,
          631,
          631,
          631,
          631,
          431,
          909,
          893,
          851,
          707,
          707,
          818,
          583,
          836,
          751,
          792,
          701,
          869,
          869,
          683,
          810,
          570,
          570,
          513,
          513,
          647,
          647,
          647,
          647,
          687,
          752,
          752,
          569,
          569,
          728,
          728,
          800,
          810,
          409,
          409,
          751,
          570,
          570,
          570,
          570,
          854,
          835,
          807,
          830,
          830,
          830,
          421,
          454,
          667,
          787,
          832,
          654,
          579,
          579,
          835,
          821,
          457,
          838,
          606,
          606,
          606,
          606,
          767,
          497,
          497,
          609,
          609,
          525,
          791,
          791,
          791,
          452,
          561,
          561,
          561,
          883,
          883,
          883,
          883,
          770,
          362,
          756,
          756,
          756,
          756,
          748,
          748,
          581,
          581,
          930,
          916,
          723,
          808,
          706,
          677,
          742,
          642,
          642,
          674,
          755,
          352,
          897,
          644,
          818,
          539,
          835,
          804,
          811,
          768,
          648,
          869,
          869,
          359,
          781,
          765,
          857,
          500,
          418,
          629,
          705,
          705,
          584,
          584,
          776,
          878,
          878,
          878,
          878,
          878,
          768,
          768,
          768,
          572,
          770,
          770,
          698,
          837,
          837,
          837,
          672,
          889,
          742,
          742,
          731,
          483,
          590,
          683,
          669,
          669,
          828,
          828,
          840,
          840,
          680,
          526,
          526,
          514,
          726,
          700,
          831,
          831,
          645,
          775,
          746,
          739,
          821,
          591,
          591,
          680,
          680,
          827,
          785,
          785,
          790,
          790,
          790,
          878,
          674,
          660,
          812,
          812,
          631,
          778,
          530,
          427,
          573,
          573,
          573,
          null,
          609,
          609,
          500,
          778,
          790,
          null,
          467,
          708,
          708,
          707,
          579,
          775,
          866,
          866,
          866,
          399,
          768,
          500,
          500,
          713,
          598,
          542,
          542,
          542,
          542,
          681,
          839,
          839,
          694,
          694,
          814,
          835,
          799,
          701,
          701,
          701,
          855,
          855,
          855,
          849,
          849,
          525,
          754,
          754,
          602,
          602,
          708,
          790,
          564,
          515,
          645,
          891,
          891,
          834,
          816,
          816,
          816,
          807,
          807,
          663,
          674,
          862,
          862,
          862,
          693,
          608,
          321,
          321,
          666,
          810,
          810,
          937,
          820,
          820,
          820,
          669,
          829,
          829,
          471,
          599,
          599,
          599,
          570,
          560,
          560,
          847,
          825,
          825,
          689,
          805,
          713,
          682,
          825,
          632,
          623,
          893,
          893,
          893,
          893,
          893,
          893,
          893,
          625,
          625,
          625,
          619,
          776,
          594,
          867,
          867,
          653,
          928,
          916,
          642,
          713,
          713,
          713,
          713,
          938,
          832,
          791,
          791,
          648,
          648,
          648,
          648,
          648,
          606,
          732,
          471,
          700,
          700,
          700,
          700,
          636,
          818,
          818,
          532,
          532,
          774,
          640,
          640,
          561,
          561,
          561,
          619,
          619,
          712,
          727,
          796,
          815,
          815,
          815,
          815,
          514,
          591,
          742,
          742,
          742,
          429,
          717,
          361,
          361,
          610,
          658,
          658,
          658,
          658,
          658,
          658,
          658,
          938,
          938,
          597,
          707,
          707,
          811,
          579,
          579,
          579,
          579,
          579,
          794,
          794,
          522,
          833,
          833,
          559,
          559,
          601,
          721,
          637,
          872,
          548,
          667,
          667,
          620,
          620,
          713,
          713,
          713,
          713,
          713,
          765,
          535,
          851,
          783,
          828,
          471,
          889,
          759,
          618,
          618,
          618,
          618,
          622,
          593,
          670,
          790,
          777,
          777,
          567,
          567,
          567,
          567,
          773,
          365,
          365,
          699,
          756,
          756,
          756,
          741,
          887,
          856,
          459,
          876,
          678,
          870,
          735,
          735,
          735,
          735,
          735,
          735,
          735,
          735,
          735,
          735,
          735,
          722,
          882,
          256,
          866,
          866,
          866,
          866,
          866,
          866,
          866,
          866,
          866,
          866,
          716,
          716,
          716,
          831,
          786,
          849,
          626,
          684,
          684,
          419,
          419,
          823,
          894,
          862,
          862,
          373,
          637,
          637,
          637,
          637,
          637,
          637,
          637,
          725,
          469,
          469,
          409,
          826,
          459,
          773,
          773,
          773,
          773,
          773,
          563,
          541,
          883,
          592,
          842,
          825,
          825,
          681,
          838,
          758,
          440,
          806,
          713,
          713,
          713,
          781,
          819,
          771,
          582,
          769,
          769,
          567,
          567,
          567,
          567,
          567,
          847,
          847,
          860,
          691,
          691,
          691,
          657,
          783,
          580,
          580,
          767,
          767,
          767,
          767,
          838,
          902,
          619,
          837,
          837,
          602,
          816,
          816,
          816,
          816,
          816,
          816,
          816,
          816,
          746,
          746,
          572,
          781,
          781,
          542,
          902,
          534,
          838,
          468,
          515,
          515,
          823,
          823,
          788,
          820,
          820,
          760,
          780,
          780,
          780,
          780,
          762,
          798,
          798,
          812,
          701,
          791,
          713,
          713,
          564,
          564,
          803,
          803,
          759,
          854,
          648,
          836,
          784,
          604,
          610,
          834,
          636,
          636,
          730,
          758,
          709,
          582,
          582,
          614,
          767,
          767,
          784,
          609,
          649,
          528,
          578,
          796,
          706,
          706,
          761,
          779,
          779,
          479,
          621,
          741,
          594,
          704,
          704,
          864,
          880,
          882,
          674,
          674,
          671,
          644,
          644,
          644,
          845,
          634,
          788,
          788,
          700,
          700,
          809,
          466,
          722,
          722,
          619,
          709,
          709,
          709,
          634,
          634,
          634,
          676,
          676,
          844,
          844,
          844,
          844,
          607,
          741,
          778,
          543,
          668,
          754,
          756,
          700,
          700,
          701,
          701,
          826,
          826,
          818,
          546,
          686,
          688,
          815,
          766,
          766,
          766,
          713,
          713,
          562,
          682,
          407,
          782,
          714,
          792,
          765,
          765,
          765,
          765,
          765,
          707,
          707,
          669,
          753,
          814,
          814,
          814,
          897,
          897,
          680,
          680,
          680,
          721,
          701,
          562,
          553,
          664,
          660,
          767,
          672,
          672,
          672,
          586,
          624,
          609,
          864,
          536,
          887,
          767,
          804,
          804,
          804,
          835,
          789,
          789,
          789,
          789,
          789,
          789,
          896,
          868,
          667,
          417,
          417,
          417,
          417,
          417,
          417,
          417,
          417,
          748,
          832,
          700,
          574,
          889,
          889,
          778,
          747,
          853,
          853,
          796,
          714,
          627,
          627,
          627,
          627,
          627,
          644,
          644,
          644,
          575,
          740,
          740,
          538,
          538,
          538,
          769,
          535,
          770,
          758,
          929,
          640,
          655,
          842,
          805,
          729,
          817,
          790,
          685,
          516,
          684,
          676,
          789,
          775,
          775,
          775,
          768,
          692,
          750,
          574,
          574,
          634,
          634,
          634,
          634,
          552,
          726,
          726,
          699,
          758,
          758,
          763,
          763,
          763,
          390,
          390,
          390,
          390,
          754,
          666,
          819,
          760,
          776,
          605,
          662,
          662,
          546,
          842,
          812,
          801,
          506,
          506,
          588,
          736,
          620,
          948,
          627,
          587,
          587,
          587,
          876,
          700,
          770,
          874,
          864,
          551,
          557,
          492,
          492,
          659,
          797,
          797,
          641,
          641,
          686,
          686,
          686,
          686,
          686,
          855,
          817,
          817,
          600,
          770,
          735,
          872,
          673,
          613,
          613,
          606,
          854,
          854,
          854,
          854,
          803,
          553,
          553,
          553,
          447,
          637,
          497,
          675,
          824,
          871,
          846,
          850,
          850,
          850,
          850,
          582,
          389,
          508,
          754,
          849,
          766,
          766,
          766,
          789,
          464,
          683,
          683,
          695,
          739,
          634,
          634,
          634,
          634,
          634,
          634,
          722,
          727,
          829,
          779,
          779,
          779,
          654,
          844,
          830,
          762,
          762,
          841,
          618,
          618,
          618,
          618,
          816,
          898,
          826,
          622,
          489,
          949,
          687,
          687,
          840,
          697,
          631,
          631,
          631,
          631,
          631,
          802,
          813,
          813,
          634,
          634,
          645,
          645,
          645,
          645,
          null,
          552,
          552,
          844,
          629,
          629,
          569,
          888,
          697,
          764,
          764,
          764,
          864,
          864,
          869,
          869,
          902,
          520,
          699,
          883,
          733,
          733,
          770,
          783,
          570,
          570,
          570,
          572,
          890,
          618,
          716,
          713,
          713,
          723,
          723,
          671,
          762,
          570,
          570,
          803,
          803,
          621,
          621,
          752,
          717,
          717,
          751,
          751,
          751,
          751,
          639,
          789,
          732,
          851,
          509,
          509,
          651,
          515,
          515,
          729,
          800,
          545,
          601,
          809,
          827,
          606,
          905,
          844,
          844,
          794,
          781,
          395,
          800,
          745,
          845,
          801,
          801,
          801,
          818,
          612,
          845,
          881,
          826,
          637,
          801,
          690,
          774,
          774,
          774,
          774,
          774,
          541,
          541,
          541,
          469,
          774,
          762,
          699,
          603,
          586,
          586,
          559,
          660,
          660,
          781,
          716,
          884,
          724,
          644,
          733,
          733,
          703,
          703,
          703,
          753,
          788,
          788,
          788,
          788,
          924,
          754,
          787,
          787,
          787,
          407,
          721,
          353,
          353,
          871,
          551,
          859,
          670,
          698,
          698,
          698,
          798,
          601,
          612,
          809,
          809,
          816,
          837,
          837,
          545,
          617,
          917,
          735,
          862,
          862,
          627,
          627,
          576,
          795,
          795,
          795,
          795,
          642,
          828,
          712,
          642,
          787,
          787,
          787,
          694,
          600,
          872,
          872,
          872,
          685,
          445,
          747,
          747,
          825,
          819,
          643,
          787,
          787,
          787,
          787,
          787,
          525,
          669,
          888,
          634,
          634,
          846,
          466,
          466,
          466,
          466,
          466,
          466,
          466,
          578,
          827,
          827,
          867,
          824,
          794,
          794,
          636,
          894,
          612,
          728,
          743,
          840,
          null,
          null,
          null,
          632,
          859,
          757,
          531,
          759,
          465,
          863,
          863,
          863,
          863,
          810,
          604,
          790,
          568,
          639,
          579,
          641,
          788,
          674,
          674,
          674,
          674,
          738,
          738,
          738,
          738,
          738,
          738,
          738,
          738,
          850,
          715,
          755,
          628,
          628,
          639,
          602,
          824,
          536,
          588,
          897,
          662,
          662,
          472,
          575,
          575,
          773,
          666,
          946,
          506,
          764,
          679,
          679,
          679,
          786,
          742,
          772,
          772,
          757,
          757,
          757,
          559,
          559,
          559,
          559,
          728,
          799,
          425,
          425,
          425,
          748,
          685,
          622,
          650,
          728,
          654,
          766,
          819,
          630,
          793,
          651,
          653,
          814,
          814,
          770,
          786,
          885,
          885,
          885,
          863,
          685,
          755,
          620,
          784,
          769,
          674,
          790,
          776,
          776,
          693,
          452,
          644,
          637,
          668,
          668,
          668,
          602,
          832,
          608,
          849,
          849,
          849,
          894,
          894,
          904,
          505,
          505,
          653,
          864,
          809,
          809,
          867,
          867,
          867,
          559,
          562,
          562,
          703,
          751,
          715,
          715,
          808,
          808,
          813,
          714,
          755,
          755,
          526,
          454,
          811,
          811,
          811,
          553,
          553,
          505,
          416,
          563,
          645,
          645,
          515,
          512,
          659,
          879,
          818,
          796,
          627,
          701,
          687,
          644,
          644,
          644,
          644,
          619,
          709,
          722,
          799,
          799,
          347,
          748,
          695,
          765,
          804,
          804,
          566,
          422,
          572,
          572,
          409,
          409,
          490,
          490,
          885,
          885,
          885,
          471,
          613,
          874,
          695,
          590,
          590,
          645,
          622,
          622,
          759,
          875,
          875,
          875,
          875,
          431,
          679,
          679,
          907,
          null,
          563,
          678,
          853,
          509,
          636,
          622,
          807,
          807,
          694,
          687,
          687,
          643,
          789,
          783,
          536,
          842,
          842,
          811,
          754,
          792,
          792,
          792,
          629,
          915,
          725,
          623,
          817,
          865,
          704,
          663,
          470,
          802,
          622,
          622,
          532,
          781,
          781,
          870,
          619,
          837,
          749,
          749,
          468,
          468,
          468,
          945,
          732,
          786,
          737,
          737,
          663,
          790,
          790,
          670,
          854,
          854,
          712,
          708,
          708,
          824,
          634,
          634,
          634,
          634,
          634,
          634,
          908,
          908,
          808,
          671,
          872,
          592,
          796,
          796,
          782,
          336,
          791,
          546,
          683,
          659,
          522,
          673,
          673,
          859,
          619,
          701,
          808,
          808,
          702,
          763,
          772,
          772,
          648,
          592,
          592,
          592,
          620,
          892,
          817,
          817,
          817,
          354,
          638,
          482,
          497,
          858,
          688,
          696,
          702,
          873,
          873,
          808,
          618,
          760,
          478,
          550,
          791,
          768,
          861,
          821,
          821,
          782,
          782,
          782,
          865,
          672,
          888,
          708,
          708,
          640,
          640,
          780,
          879,
          609,
          609,
          609,
          784,
          784,
          877,
          781,
          809,
          861,
          718,
          801,
          721,
          851,
          851,
          851,
          550,
          663,
          663,
          790,
          622,
          822,
          670,
          464,
          464,
          464,
          464,
          542,
          873,
          821,
          773,
          773,
          766,
          667,
          796,
          783,
          783,
          563,
          862,
          862,
          676,
          594,
          594,
          558,
          779,
          779,
          779,
          609,
          610,
          832,
          788,
          613,
          613,
          751,
          833,
          833,
          833,
          776,
          801,
          825,
          891,
          891,
          891,
          891,
          726,
          868,
          478,
          859,
          763,
          763,
          601,
          559,
          559,
          559,
          559,
          596,
          803,
          811,
          594,
          802,
          802,
          802,
          597,
          828,
          524,
          524,
          576,
          725,
          881,
          881,
          756,
          875,
          500,
          868,
          786,
          859,
          799,
          750,
          750,
          635,
          871,
          871,
          792,
          783,
          783,
          827,
          772,
          819,
          819,
          548,
          676,
          790,
          786,
          786,
          790,
          790,
          811,
          811,
          821,
          668,
          668,
          668,
          618,
          527,
          680,
          737,
          646,
          831,
          838,
          829,
          652,
          672,
          896,
          636,
          862,
          862,
          862,
          827,
          827,
          746,
          669,
          598,
          598,
          598,
          691,
          628,
          628,
          756,
          515,
          593,
          760,
          387,
          726,
          432,
          491,
          274,
          623,
          641,
          680,
          599,
          599,
          657,
          657,
          789,
          587,
          892,
          631,
          485,
          477,
          713,
          713,
          713,
          713,
          630,
          848,
          888,
          723,
          723,
          583,
          588,
          722,
          725,
          755,
          846,
          886,
          532,
          532,
          776,
          639,
          657,
          657,
          697,
          690,
          680,
          524,
          524,
          528,
          533,
          583,
          583,
          771,
          887,
          725,
          654,
          654,
          691,
          802,
          494,
          755,
          678,
          678,
          621,
          789,
          557,
          653,
          783,
          757,
          757,
          757,
          565,
          584,
          506,
          506,
          774,
          774,
          629,
          573,
          785,
          726,
          726,
          541,
          815,
          816,
          816,
          816,
          816,
          651,
          831,
          566,
          707,
          667,
          447,
          697,
          685,
          516,
          516,
          836,
          788,
          382,
          635,
          809,
          711,
          768,
          872,
          557,
          607,
          626,
          881,
          881,
          807,
          457,
          457,
          900,
          900,
          846,
          885,
          791,
          881,
          629,
          716,
          811,
          717,
          696,
          600,
          600,
          526,
          642,
          685,
          833,
          529,
          819,
          789,
          789,
          789,
          789,
          789,
          754,
          579,
          579,
          623,
          772,
          765,
          765,
          707,
          675,
          882,
          787,
          787,
          787,
          725,
          794,
          622,
          622,
          557,
          756,
          756,
          783,
          736,
          736,
          736,
          736,
          744,
          550,
          614,
          614,
          514,
          862,
          862,
          660,
          426,
          813,
          758,
          858,
          858,
          891,
          588,
          820,
          820,
          586,
          749,
          598,
          886,
          799,
          627,
          627,
          864,
          728,
          795,
          627,
          627,
          825,
          825,
          861,
          861,
          925,
          814,
          557,
          610,
          610,
          610,
          738,
          738,
          687,
          496,
          496,
          496,
          437,
          769,
          861,
          861,
          915,
          800,
          643,
          704,
          704,
          724,
          724,
          724,
          662,
          662,
          626,
          626,
          626,
          737,
          737,
          622,
          449,
          449,
          449,
          449,
          873,
          680,
          680,
          801,
          783,
          540,
          528,
          778,
          754,
          668,
          782,
          701,
          791,
          632,
          500,
          780,
          761,
          883,
          572,
          718,
          809,
          646,
          888,
          705,
          780,
          792,
          632,
          632,
          632,
          845,
          663,
          607,
          897,
          820,
          820,
          820,
          779,
          770,
          523,
          631,
          877,
          730,
          730,
          668,
          649,
          649,
          793,
          658,
          739,
          612,
          612,
          655,
          915,
          811,
          818,
          818,
          818,
          760,
          877,
          877,
          877,
          751,
          925,
          821,
          821,
          772,
          776,
          524,
          753,
          638,
          925,
          587,
          515,
          515,
          856,
          856,
          846,
          846,
          846,
          846,
          866,
          866,
          772,
          770,
          788,
          846,
          846,
          846,
          910,
          null,
          775,
          665,
          632,
          632,
          373,
          718,
          626,
          835,
          813,
          813,
          703,
          588,
          588,
          588,
          744,
          744,
          707,
          802,
          681,
          393,
          682,
          805,
          805,
          805,
          612,
          359,
          627,
          793,
          521,
          783,
          749,
          837,
          865,
          920,
          775,
          374,
          686,
          636,
          606,
          606,
          511,
          511,
          511,
          511,
          511,
          511,
          586,
          751,
          655,
          677,
          677,
          720,
          743,
          882,
          882,
          882,
          882,
          502,
          811,
          811,
          811,
          854,
          746,
          672,
          672,
          672,
          828,
          728,
          612,
          819,
          855,
          855,
          689,
          819,
          819,
          700,
          782,
          787,
          536,
          774,
          912,
          912,
          838,
          604,
          604,
          760,
          795,
          598,
          591,
          638,
          649,
          667,
          707,
          707,
          707,
          707,
          754,
          775,
          753,
          824,
          873,
          765,
          653,
          657,
          609,
          523,
          523,
          576,
          605,
          605,
          826,
          826,
          797,
          797,
          784,
          784,
          602,
          835,
          835,
          818,
          549,
          822,
          652,
          787,
          778,
          879,
          879,
          727,
          865,
          865,
          865,
          865,
          865,
          640,
          837,
          576,
          634,
          634,
          634,
          666,
          714,
          632,
          559,
          580,
          761,
          587,
          555,
          624,
          624,
          502,
          687,
          726,
          692,
          628,
          628,
          816,
          572,
          572,
          666,
          756,
          666,
          771,
          627,
          743,
          743,
          755,
          755,
          884,
          828,
          825,
          662,
          497,
          645,
          733,
          895,
          547,
          691,
          468,
          885,
          852,
          761,
          543,
          516,
          822,
          685,
          522,
          606,
          723,
          623,
          810,
          810,
          810,
          655,
          677,
          646,
          675,
          517,
          517,
          517,
          517,
          930,
          672,
          553,
          766,
          663,
          768,
          768,
          768,
          739,
          599,
          599,
          867,
          581,
          581,
          827,
          362,
          742,
          836,
          618,
          777,
          847,
          873,
          873,
          725,
          904,
          571,
          793,
          677,
          677,
          762,
          703,
          703,
          561,
          766,
          724,
          724,
          516,
          827,
          828,
          661,
          497,
          802,
          847,
          759,
          787,
          745,
          745,
          922,
          817,
          817,
          795,
          571,
          571,
          571,
          680,
          799,
          591,
          641,
          772,
          798,
          618,
          926,
          926,
          905,
          905,
          905,
          796,
          786,
          350,
          463,
          640,
          672,
          625,
          570,
          717,
          870,
          695,
          835,
          835,
          908,
          665,
          542,
          644,
          841,
          841,
          662,
          776,
          716,
          509,
          770,
          435,
          929,
          500,
          819,
          819,
          789,
          789,
          421,
          572,
          805,
          825,
          778,
          778,
          778,
          780,
          780,
          471,
          670,
          670,
          670,
          729,
          729,
          790,
          893,
          826,
          897,
          723,
          781,
          699,
          593,
          858,
          772,
          628,
          545,
          554,
          915,
          688,
          938,
          920,
          806,
          710,
          731,
          731,
          731,
          731,
          840,
          840,
          771,
          504,
          705,
          597,
          766,
          766,
          788,
          558,
          558,
          558,
          855,
          487,
          569,
          535,
          927,
          927,
          535,
          535,
          777,
          858,
          757,
          786,
          768,
          680,
          788,
          668,
          795,
          851,
          570,
          543,
          634,
          634,
          634,
          634,
          421,
          668,
          668,
          476,
          544,
          580,
          500,
          657,
          657,
          844,
          786,
          493,
          883,
          712,
          603,
          603,
          603,
          594,
          594,
          594,
          841,
          741,
          811,
          811,
          769,
          835,
          835,
          498,
          498,
          598,
          793,
          554,
          865,
          865,
          755,
          796,
          796,
          817,
          506,
          677,
          677,
          677,
          677,
          677,
          865,
          794,
          794,
          794,
          520,
          666,
          666,
          769,
          769,
          804,
          518,
          799,
          660,
          660,
          660,
          805,
          844,
          463,
          463,
          486,
          875,
          923,
          825,
          603,
          603,
          610,
          748,
          860,
          640,
          782,
          783,
          783,
          727,
          668,
          541,
          730,
          780,
          600,
          770,
          499,
          499,
          589,
          589,
          859,
          439,
          439,
          770,
          781,
          679,
          539,
          539,
          539,
          752,
          752,
          752,
          839,
          839,
          839,
          796,
          841,
          587,
          599,
          601,
          780,
          575,
          595,
          801,
          787,
          532,
          716,
          842,
          581,
          826,
          576,
          857,
          696,
          660,
          682,
          736,
          687,
          713,
          713,
          713,
          792,
          697,
          851,
          851,
          515,
          797,
          612,
          787,
          503,
          503,
          696,
          823,
          659,
          889,
          722,
          808,
          808,
          656,
          548,
          553,
          791,
          506,
          588,
          821,
          778,
          562,
          770,
          500,
          583,
          583,
          786,
          786,
          809,
          665,
          522,
          650,
          712,
          856,
          856,
          747,
          653,
          653,
          653,
          770,
          770,
          770,
          770,
          707,
          886,
          886,
          886,
          615,
          559,
          780,
          863,
          686,
          765,
          604,
          950,
          767,
          682,
          743,
          775,
          775,
          775,
          819,
          819,
          819,
          612,
          734,
          734,
          710,
          600,
          565,
          844,
          819,
          730,
          729,
          798,
          553,
          830,
          830,
          482,
          821,
          760,
          681,
          516,
          516,
          766,
          741,
          616,
          675,
          770,
          726,
          726,
          827,
          615,
          615,
          727,
          828,
          806,
          763,
          618,
          404,
          856,
          856,
          768,
          768,
          911,
          760,
          778,
          833,
          859,
          545,
          633,
          607,
          607,
          799,
          600,
          656,
          656,
          558,
          629,
          664,
          719,
          870,
          900,
          690,
          649,
          858,
          819,
          762,
          581,
          648,
          756,
          624,
          627,
          862,
          642,
          749,
          509,
          585,
          717,
          570,
          522,
          843,
          668,
          668,
          668,
          668,
          447,
          692,
          794,
          844,
          798,
          579,
          724,
          706,
          720,
          720,
          600,
          788,
          867,
          886,
          538,
          894,
          499,
          679,
          823,
          720,
          478,
          721,
          778,
          859,
          697,
          851,
          856,
          637,
          793,
          767,
          530,
          735,
          917,
          813,
          817,
          662,
          662,
          918,
          738,
          644,
          524,
          660,
          659,
          598,
          725,
          775,
          764,
          806,
          744,
          744,
          546,
          591,
          825,
          832,
          748,
          596,
          857,
          507,
          673,
          605,
          782,
          519,
          744,
          407,
          407,
          664,
          726,
          731,
          579,
          735,
          703,
          519,
          593,
          688,
          607,
          867,
          606,
          605,
          823,
          435,
          666,
          863,
          790,
          811,
          717,
          621,
          538,
          538,
          743,
          846,
          730,
          788,
          777,
          702,
          688,
          688,
          586,
          869,
          559,
          742,
          853,
          643,
          670,
          767,
          643,
          756,
          601,
          717,
          695,
          617,
          617,
          791,
          516,
          656,
          718,
          626,
          670,
          516,
          713,
          407,
          638,
          628,
          713,
          766,
          836,
          871,
          749,
          758,
          731,
          650,
          647,
          780,
          682,
          800,
          574,
          664,
          748,
          531,
          531,
          653,
          686,
          799,
          799,
          906,
          687,
          641,
          641,
          624,
          624,
          733,
          756,
          619,
          677,
          677,
          593,
          560,
          525,
          808,
          650,
          621,
          755,
          862,
          629,
          629,
          677,
          593,
          541,
          707,
          843,
          802,
          538,
          673,
          573,
          573,
          541,
          603,
          606,
          606,
          786,
          410,
          572,
          572,
          822,
          552,
          509,
          816,
          909,
          509,
          755,
          840,
          798,
          608,
          889,
          535,
          535,
          777,
          620,
          755,
          763,
          770,
          770,
          767,
          767,
          761,
          562,
          551,
          866,
          854,
          666,
          659,
          766,
          766,
          699,
          794,
          584,
          520,
          520,
          809,
          809,
          573,
          716,
          755,
          755,
          659,
          811,
          799,
          862,
          659,
          511,
          612,
          710,
          871,
          652,
          590,
          631,
          515,
          464,
          811,
          792,
          626,
          591,
          576,
          726,
          500,
          500,
          726,
          679,
          684,
          540,
          862,
          531,
          531,
          729,
          751,
          809,
          670,
          608,
          608,
          802,
          734,
          838,
          799,
          372,
          372,
          372,
          645,
          844,
          697,
          576,
          497,
          497,
          815,
          658,
          720,
          697,
          845,
          595,
          752,
          918,
          801,
          544,
          548,
          601,
          858,
          773,
          871,
          871,
          756,
          529,
          733,
          639,
          690,
          700,
          705,
          612,
          829,
          856,
          856,
          727,
          553,
          553,
          769,
          812,
          636,
          776,
          631,
          703,
          703,
          683,
          858,
          688,
          566,
          736,
          780,
          835,
          872,
          588,
          611,
          510,
          538,
          862,
          861,
          885,
          629,
          409,
          657,
          776,
          776,
          609,
          599,
          738,
          923,
          515,
          849,
          827,
          596,
          547,
          689,
          801,
          708,
          666,
          834,
          740,
          null,
          634,
          901,
          706,
          762,
          762,
          671,
          536,
          643,
          587,
          759,
          730,
          844,
          844,
          823,
          556,
          506,
          686,
          725,
          725,
          809,
          724,
          605,
          599,
          599,
          642,
          778,
          781,
          477,
          776,
          825,
          654,
          824,
          784,
          706,
          860,
          258,
          529,
          548,
          548,
          548,
          548,
          781,
          453,
          831,
          850,
          850,
          758,
          423,
          661,
          826,
          855,
          618,
          375,
          794,
          630,
          691,
          631,
          567,
          803,
          769,
          700,
          700,
          514,
          662,
          756,
          469,
          852,
          632,
          685,
          438,
          666,
          592,
          452,
          817,
          660,
          788,
          835,
          844,
          934,
          934,
          554,
          633,
          778,
          649,
          649,
          693,
          690,
          743,
          630,
          626,
          626,
          787,
          787,
          863,
          538,
          504,
          684,
          755,
          766,
          774,
          421,
          726,
          654,
          509,
          695,
          638,
          838,
          838,
          898,
          623,
          635,
          667,
          690,
          817,
          423,
          445,
          854,
          811,
          529,
          529,
          787,
          790,
          783,
          758,
          837,
          820,
          795,
          624,
          624,
          624,
          513,
          816,
          831,
          820,
          771,
          803,
          805,
          837,
          867,
          750,
          796,
          796,
          597,
          883,
          655,
          595,
          848,
          793,
          866,
          578,
          810,
          730,
          819,
          746,
          751,
          889,
          858,
          437,
          797,
          826,
          440,
          608,
          608,
          643,
          506,
          736,
          629,
          666,
          745,
          872,
          872,
          674,
          674,
          861,
          532,
          595,
          597,
          653,
          690,
          639,
          799,
          796,
          821,
          728,
          726,
          850,
          639,
          639,
          715,
          482,
          756,
          495,
          495,
          495,
          774,
          601,
          767,
          773,
          887,
          823,
          650,
          439,
          660,
          883,
          800,
          524,
          524,
          407,
          773,
          358,
          790,
          757,
          757,
          757,
          795,
          795,
          795,
          820,
          785,
          792,
          580,
          680,
          696,
          789,
          760,
          772,
          818,
          889,
          889,
          452,
          773,
          773,
          480,
          864,
          645,
          745,
          874,
          849,
          514,
          514,
          755,
          614,
          614,
          614,
          767,
          602,
          735,
          646,
          696,
          875,
          837,
          856,
          856,
          585,
          791,
          745,
          745,
          777,
          600,
          738,
          708,
          647,
          878,
          832,
          832,
          548,
          null,
          635,
          851,
          918,
          918,
          902,
          671,
          671,
          696,
          505,
          568,
          598,
          432,
          491,
          550,
          588,
          908,
          574,
          574,
          724,
          748,
          906,
          725,
          826,
          555,
          730,
          785,
          669,
          925,
          925,
          608,
          893,
          762,
          705,
          745,
          655,
          655,
          520,
          520,
          908,
          563,
          470,
          764,
          744,
          722,
          669,
          669,
          628,
          807,
          601,
          808,
          808,
          782,
          891,
          891,
          858,
          657,
          823,
          793,
          600,
          600,
          600,
          556,
          568,
          840,
          835,
          737,
          530,
          667,
          443,
          741,
          770,
          662,
          378,
          620,
          620,
          727,
          727,
          761,
          514,
          514,
          526,
          657,
          657,
          439,
          815,
          714,
          820,
          794,
          930,
          655,
          722,
          630,
          638,
          742,
          514,
          759,
          772,
          567,
          735,
          878,
          878,
          575,
          575,
          651,
          705,
          829,
          737,
          737,
          724,
          723,
          600,
          835,
          761,
          767,
          714,
          294,
          779,
          null,
          820,
          556,
          827,
          760,
          943,
          842,
          820,
          820,
          536,
          536,
          536,
          345,
          776,
          774,
          771,
          741,
          771,
          625,
          625,
          808,
          907,
          907,
          479,
          479,
          869,
          644,
          689,
          897,
          896,
          649,
          889,
          722,
          680,
          741,
          644,
          644,
          662,
          627,
          627,
          837,
          658,
          562,
          910,
          787,
          648,
          895,
          846,
          728,
          710,
          767,
          587,
          694,
          673,
          713,
          591,
          865,
          836,
          733,
          656,
          656,
          707,
          707,
          720,
          545,
          789,
          620,
          801,
          801,
          736,
          520,
          805,
          805,
          577,
          514,
          784,
          866,
          866,
          633,
          722,
          645,
          838,
          677,
          658,
          639,
          676,
          541,
          812,
          623,
          801,
          853,
          804,
          705,
          660,
          582,
          766,
          420,
          688,
          701,
          776,
          640,
          819,
          754,
          754,
          797,
          819,
          776,
          767,
          846,
          728,
          782,
          735,
          831,
          547,
          689,
          424,
          505,
          923,
          754,
          629,
          758,
          612,
          665,
          665,
          442,
          442,
          820,
          428,
          797,
          538,
          630,
          828,
          893,
          867,
          801,
          801,
          746,
          740,
          820,
          820,
          713,
          585,
          585,
          844,
          674,
          817,
          575,
          758,
          610,
          789,
          789,
          775,
          805,
          816,
          782,
          773,
          860,
          697,
          659,
          520,
          828,
          828,
          880,
          706,
          686,
          595,
          685,
          818,
          834,
          859,
          724,
          724,
          759,
          675,
          626,
          584,
          807,
          643,
          731,
          946,
          802,
          753,
          733,
          630,
          556,
          623,
          578,
          732,
          840,
          598,
          808,
          808,
          745,
          745,
          774,
          645,
          553,
          554,
          613,
          953,
          866,
          844,
          661,
          799,
          890,
          511,
          531,
          804,
          694,
          709,
          456,
          819,
          675,
          699,
          768,
          566,
          690,
          716,
          517,
          819,
          936,
          603,
          910,
          826,
          497,
          541,
          598,
          757,
          943,
          829,
          750,
          756,
          800,
          825,
          460,
          752,
          734,
          553,
          636,
          763,
          857,
          547,
          646,
          674,
          860,
          783,
          675,
          681,
          816,
          810,
          853,
          520,
          813,
          695,
          914,
          689,
          722,
          619,
          619,
          701,
          845,
          516,
          640,
          864,
          728,
          818,
          769,
          565,
          494,
          654,
          584,
          814,
          754,
          732,
          779,
          556,
          764,
          817,
          661,
          809,
          664,
          523,
          801,
          763,
          693,
          677,
          517,
          762,
          841,
          576,
          552,
          742,
          792,
          831,
          823,
          812,
          895,
          713,
          853,
          793,
          559,
          746,
          844,
          533,
          808,
          703,
          882,
          707,
          538,
          745,
          414,
          700,
          586,
          586,
          780,
          588,
          673,
          705,
          601,
          601,
          897,
          844,
          529,
          801,
          631,
          699,
          624,
          784,
          664,
          607,
          537,
          722,
          760,
          652,
          560,
          722,
          768,
          921,
          921,
          821,
          760,
          797,
          240,
          822,
          627,
          725,
          687,
          625,
          623,
          790,
          713,
          536,
          635,
          711,
          793,
          796,
          581,
          392,
          639,
          770,
          632,
          897,
          765,
          774,
          774,
          600,
          831,
          829,
          869,
          572,
          885,
          686,
          760,
          648,
          794,
          828,
          682,
          721,
          508,
          760,
          633,
          576,
          477,
          658,
          639,
          656,
          794,
          772,
          569,
          763,
          614,
          825,
          673,
          690,
          315,
          843,
          510,
          null,
          632,
          506,
          586,
          752,
          803,
          733,
          680,
          523,
          752,
          658,
          520,
          662,
          703,
          878,
          677,
          679,
          852,
          605,
          502,
          550,
          815,
          784,
          590,
          839,
          615,
          637,
          834,
          822,
          873,
          729,
          856,
          500,
          538,
          766,
          546,
          817,
          624,
          652,
          665,
          916,
          803,
          863,
          631,
          817,
          659,
          690,
          769,
          774,
          707,
          699,
          673,
          784,
          527,
          524,
          516,
          827,
          704,
          835,
          553,
          647,
          822,
          788,
          581,
          763,
          843,
          929,
          833,
          724,
          646,
          703,
          606,
          774,
          613,
          762,
          791,
          431,
          624,
          638,
          829,
          761,
          822
         ],
         "y0": " ",
         "yaxis": "y"
        }
       ],
       "layout": {
        "boxmode": "group",
        "legend": {
         "tracegroupgap": 0
        },
        "template": {
         "data": {
          "bar": [
           {
            "error_x": {
             "color": "#2a3f5f"
            },
            "error_y": {
             "color": "#2a3f5f"
            },
            "marker": {
             "line": {
              "color": "#E5ECF6",
              "width": 0.5
             },
             "pattern": {
              "fillmode": "overlay",
              "size": 10,
              "solidity": 0.2
             }
            },
            "type": "bar"
           }
          ],
          "barpolar": [
           {
            "marker": {
             "line": {
              "color": "#E5ECF6",
              "width": 0.5
             },
             "pattern": {
              "fillmode": "overlay",
              "size": 10,
              "solidity": 0.2
             }
            },
            "type": "barpolar"
           }
          ],
          "carpet": [
           {
            "aaxis": {
             "endlinecolor": "#2a3f5f",
             "gridcolor": "white",
             "linecolor": "white",
             "minorgridcolor": "white",
             "startlinecolor": "#2a3f5f"
            },
            "baxis": {
             "endlinecolor": "#2a3f5f",
             "gridcolor": "white",
             "linecolor": "white",
             "minorgridcolor": "white",
             "startlinecolor": "#2a3f5f"
            },
            "type": "carpet"
           }
          ],
          "choropleth": [
           {
            "colorbar": {
             "outlinewidth": 0,
             "ticks": ""
            },
            "type": "choropleth"
           }
          ],
          "contour": [
           {
            "colorbar": {
             "outlinewidth": 0,
             "ticks": ""
            },
            "colorscale": [
             [
              0,
              "#0d0887"
             ],
             [
              0.1111111111111111,
              "#46039f"
             ],
             [
              0.2222222222222222,
              "#7201a8"
             ],
             [
              0.3333333333333333,
              "#9c179e"
             ],
             [
              0.4444444444444444,
              "#bd3786"
             ],
             [
              0.5555555555555556,
              "#d8576b"
             ],
             [
              0.6666666666666666,
              "#ed7953"
             ],
             [
              0.7777777777777778,
              "#fb9f3a"
             ],
             [
              0.8888888888888888,
              "#fdca26"
             ],
             [
              1,
              "#f0f921"
             ]
            ],
            "type": "contour"
           }
          ],
          "contourcarpet": [
           {
            "colorbar": {
             "outlinewidth": 0,
             "ticks": ""
            },
            "type": "contourcarpet"
           }
          ],
          "heatmap": [
           {
            "colorbar": {
             "outlinewidth": 0,
             "ticks": ""
            },
            "colorscale": [
             [
              0,
              "#0d0887"
             ],
             [
              0.1111111111111111,
              "#46039f"
             ],
             [
              0.2222222222222222,
              "#7201a8"
             ],
             [
              0.3333333333333333,
              "#9c179e"
             ],
             [
              0.4444444444444444,
              "#bd3786"
             ],
             [
              0.5555555555555556,
              "#d8576b"
             ],
             [
              0.6666666666666666,
              "#ed7953"
             ],
             [
              0.7777777777777778,
              "#fb9f3a"
             ],
             [
              0.8888888888888888,
              "#fdca26"
             ],
             [
              1,
              "#f0f921"
             ]
            ],
            "type": "heatmap"
           }
          ],
          "heatmapgl": [
           {
            "colorbar": {
             "outlinewidth": 0,
             "ticks": ""
            },
            "colorscale": [
             [
              0,
              "#0d0887"
             ],
             [
              0.1111111111111111,
              "#46039f"
             ],
             [
              0.2222222222222222,
              "#7201a8"
             ],
             [
              0.3333333333333333,
              "#9c179e"
             ],
             [
              0.4444444444444444,
              "#bd3786"
             ],
             [
              0.5555555555555556,
              "#d8576b"
             ],
             [
              0.6666666666666666,
              "#ed7953"
             ],
             [
              0.7777777777777778,
              "#fb9f3a"
             ],
             [
              0.8888888888888888,
              "#fdca26"
             ],
             [
              1,
              "#f0f921"
             ]
            ],
            "type": "heatmapgl"
           }
          ],
          "histogram": [
           {
            "marker": {
             "pattern": {
              "fillmode": "overlay",
              "size": 10,
              "solidity": 0.2
             }
            },
            "type": "histogram"
           }
          ],
          "histogram2d": [
           {
            "colorbar": {
             "outlinewidth": 0,
             "ticks": ""
            },
            "colorscale": [
             [
              0,
              "#0d0887"
             ],
             [
              0.1111111111111111,
              "#46039f"
             ],
             [
              0.2222222222222222,
              "#7201a8"
             ],
             [
              0.3333333333333333,
              "#9c179e"
             ],
             [
              0.4444444444444444,
              "#bd3786"
             ],
             [
              0.5555555555555556,
              "#d8576b"
             ],
             [
              0.6666666666666666,
              "#ed7953"
             ],
             [
              0.7777777777777778,
              "#fb9f3a"
             ],
             [
              0.8888888888888888,
              "#fdca26"
             ],
             [
              1,
              "#f0f921"
             ]
            ],
            "type": "histogram2d"
           }
          ],
          "histogram2dcontour": [
           {
            "colorbar": {
             "outlinewidth": 0,
             "ticks": ""
            },
            "colorscale": [
             [
              0,
              "#0d0887"
             ],
             [
              0.1111111111111111,
              "#46039f"
             ],
             [
              0.2222222222222222,
              "#7201a8"
             ],
             [
              0.3333333333333333,
              "#9c179e"
             ],
             [
              0.4444444444444444,
              "#bd3786"
             ],
             [
              0.5555555555555556,
              "#d8576b"
             ],
             [
              0.6666666666666666,
              "#ed7953"
             ],
             [
              0.7777777777777778,
              "#fb9f3a"
             ],
             [
              0.8888888888888888,
              "#fdca26"
             ],
             [
              1,
              "#f0f921"
             ]
            ],
            "type": "histogram2dcontour"
           }
          ],
          "mesh3d": [
           {
            "colorbar": {
             "outlinewidth": 0,
             "ticks": ""
            },
            "type": "mesh3d"
           }
          ],
          "parcoords": [
           {
            "line": {
             "colorbar": {
              "outlinewidth": 0,
              "ticks": ""
             }
            },
            "type": "parcoords"
           }
          ],
          "pie": [
           {
            "automargin": true,
            "type": "pie"
           }
          ],
          "scatter": [
           {
            "fillpattern": {
             "fillmode": "overlay",
             "size": 10,
             "solidity": 0.2
            },
            "type": "scatter"
           }
          ],
          "scatter3d": [
           {
            "line": {
             "colorbar": {
              "outlinewidth": 0,
              "ticks": ""
             }
            },
            "marker": {
             "colorbar": {
              "outlinewidth": 0,
              "ticks": ""
             }
            },
            "type": "scatter3d"
           }
          ],
          "scattercarpet": [
           {
            "marker": {
             "colorbar": {
              "outlinewidth": 0,
              "ticks": ""
             }
            },
            "type": "scattercarpet"
           }
          ],
          "scattergeo": [
           {
            "marker": {
             "colorbar": {
              "outlinewidth": 0,
              "ticks": ""
             }
            },
            "type": "scattergeo"
           }
          ],
          "scattergl": [
           {
            "marker": {
             "colorbar": {
              "outlinewidth": 0,
              "ticks": ""
             }
            },
            "type": "scattergl"
           }
          ],
          "scattermapbox": [
           {
            "marker": {
             "colorbar": {
              "outlinewidth": 0,
              "ticks": ""
             }
            },
            "type": "scattermapbox"
           }
          ],
          "scatterpolar": [
           {
            "marker": {
             "colorbar": {
              "outlinewidth": 0,
              "ticks": ""
             }
            },
            "type": "scatterpolar"
           }
          ],
          "scatterpolargl": [
           {
            "marker": {
             "colorbar": {
              "outlinewidth": 0,
              "ticks": ""
             }
            },
            "type": "scatterpolargl"
           }
          ],
          "scatterternary": [
           {
            "marker": {
             "colorbar": {
              "outlinewidth": 0,
              "ticks": ""
             }
            },
            "type": "scatterternary"
           }
          ],
          "surface": [
           {
            "colorbar": {
             "outlinewidth": 0,
             "ticks": ""
            },
            "colorscale": [
             [
              0,
              "#0d0887"
             ],
             [
              0.1111111111111111,
              "#46039f"
             ],
             [
              0.2222222222222222,
              "#7201a8"
             ],
             [
              0.3333333333333333,
              "#9c179e"
             ],
             [
              0.4444444444444444,
              "#bd3786"
             ],
             [
              0.5555555555555556,
              "#d8576b"
             ],
             [
              0.6666666666666666,
              "#ed7953"
             ],
             [
              0.7777777777777778,
              "#fb9f3a"
             ],
             [
              0.8888888888888888,
              "#fdca26"
             ],
             [
              1,
              "#f0f921"
             ]
            ],
            "type": "surface"
           }
          ],
          "table": [
           {
            "cells": {
             "fill": {
              "color": "#EBF0F8"
             },
             "line": {
              "color": "white"
             }
            },
            "header": {
             "fill": {
              "color": "#C8D4E3"
             },
             "line": {
              "color": "white"
             }
            },
            "type": "table"
           }
          ]
         },
         "layout": {
          "annotationdefaults": {
           "arrowcolor": "#2a3f5f",
           "arrowhead": 0,
           "arrowwidth": 1
          },
          "autotypenumbers": "strict",
          "coloraxis": {
           "colorbar": {
            "outlinewidth": 0,
            "ticks": ""
           }
          },
          "colorscale": {
           "diverging": [
            [
             0,
             "#8e0152"
            ],
            [
             0.1,
             "#c51b7d"
            ],
            [
             0.2,
             "#de77ae"
            ],
            [
             0.3,
             "#f1b6da"
            ],
            [
             0.4,
             "#fde0ef"
            ],
            [
             0.5,
             "#f7f7f7"
            ],
            [
             0.6,
             "#e6f5d0"
            ],
            [
             0.7,
             "#b8e186"
            ],
            [
             0.8,
             "#7fbc41"
            ],
            [
             0.9,
             "#4d9221"
            ],
            [
             1,
             "#276419"
            ]
           ],
           "sequential": [
            [
             0,
             "#0d0887"
            ],
            [
             0.1111111111111111,
             "#46039f"
            ],
            [
             0.2222222222222222,
             "#7201a8"
            ],
            [
             0.3333333333333333,
             "#9c179e"
            ],
            [
             0.4444444444444444,
             "#bd3786"
            ],
            [
             0.5555555555555556,
             "#d8576b"
            ],
            [
             0.6666666666666666,
             "#ed7953"
            ],
            [
             0.7777777777777778,
             "#fb9f3a"
            ],
            [
             0.8888888888888888,
             "#fdca26"
            ],
            [
             1,
             "#f0f921"
            ]
           ],
           "sequentialminus": [
            [
             0,
             "#0d0887"
            ],
            [
             0.1111111111111111,
             "#46039f"
            ],
            [
             0.2222222222222222,
             "#7201a8"
            ],
            [
             0.3333333333333333,
             "#9c179e"
            ],
            [
             0.4444444444444444,
             "#bd3786"
            ],
            [
             0.5555555555555556,
             "#d8576b"
            ],
            [
             0.6666666666666666,
             "#ed7953"
            ],
            [
             0.7777777777777778,
             "#fb9f3a"
            ],
            [
             0.8888888888888888,
             "#fdca26"
            ],
            [
             1,
             "#f0f921"
            ]
           ]
          },
          "colorway": [
           "#636efa",
           "#EF553B",
           "#00cc96",
           "#ab63fa",
           "#FFA15A",
           "#19d3f3",
           "#FF6692",
           "#B6E880",
           "#FF97FF",
           "#FECB52"
          ],
          "font": {
           "color": "#2a3f5f"
          },
          "geo": {
           "bgcolor": "white",
           "lakecolor": "white",
           "landcolor": "#E5ECF6",
           "showlakes": true,
           "showland": true,
           "subunitcolor": "white"
          },
          "hoverlabel": {
           "align": "left"
          },
          "hovermode": "closest",
          "mapbox": {
           "style": "light"
          },
          "paper_bgcolor": "white",
          "plot_bgcolor": "#E5ECF6",
          "polar": {
           "angularaxis": {
            "gridcolor": "white",
            "linecolor": "white",
            "ticks": ""
           },
           "bgcolor": "#E5ECF6",
           "radialaxis": {
            "gridcolor": "white",
            "linecolor": "white",
            "ticks": ""
           }
          },
          "scene": {
           "xaxis": {
            "backgroundcolor": "#E5ECF6",
            "gridcolor": "white",
            "gridwidth": 2,
            "linecolor": "white",
            "showbackground": true,
            "ticks": "",
            "zerolinecolor": "white"
           },
           "yaxis": {
            "backgroundcolor": "#E5ECF6",
            "gridcolor": "white",
            "gridwidth": 2,
            "linecolor": "white",
            "showbackground": true,
            "ticks": "",
            "zerolinecolor": "white"
           },
           "zaxis": {
            "backgroundcolor": "#E5ECF6",
            "gridcolor": "white",
            "gridwidth": 2,
            "linecolor": "white",
            "showbackground": true,
            "ticks": "",
            "zerolinecolor": "white"
           }
          },
          "shapedefaults": {
           "line": {
            "color": "#2a3f5f"
           }
          },
          "ternary": {
           "aaxis": {
            "gridcolor": "white",
            "linecolor": "white",
            "ticks": ""
           },
           "baxis": {
            "gridcolor": "white",
            "linecolor": "white",
            "ticks": ""
           },
           "bgcolor": "#E5ECF6",
           "caxis": {
            "gridcolor": "white",
            "linecolor": "white",
            "ticks": ""
           }
          },
          "title": {
           "x": 0.05
          },
          "xaxis": {
           "automargin": true,
           "gridcolor": "white",
           "linecolor": "white",
           "ticks": "",
           "title": {
            "standoff": 15
           },
           "zerolinecolor": "white",
           "zerolinewidth": 2
          },
          "yaxis": {
           "automargin": true,
           "gridcolor": "white",
           "linecolor": "white",
           "ticks": "",
           "title": {
            "standoff": 15
           },
           "zerolinecolor": "white",
           "zerolinewidth": 2
          }
         }
        },
        "title": {
         "text": "Rejected Loan Application Loan: Box Plot clearfraudscore"
        },
        "xaxis": {
         "anchor": "y",
         "domain": [
          0,
          1
         ]
        },
        "yaxis": {
         "anchor": "x",
         "domain": [
          0,
          1
         ],
         "title": {
          "text": "clearfraudscore"
         }
        }
       }
      }
     },
     "metadata": {},
     "output_type": "display_data"
    }
   ],
   "source": [
    "fig = px.box(rejected_loan, y='clearfraudscore', title='Rejected Loan Application Loan: Box Plot clearfraudscore')\n",
    "\n",
    "# Show the plot\n",
    "fig.show()"
   ]
  },
  {
   "cell_type": "markdown",
   "metadata": {},
   "source": [
    "based on Data dictionary, the higher the clearfraudscore, the less likely the borrower will go defaults. so there are some question as why the box plot above got clearfraudscore 953 at the highest points. maybe we need more investigation on this."
   ]
  },
  {
   "cell_type": "code",
   "execution_count": 20,
   "metadata": {},
   "outputs": [
    {
     "data": {
      "application/vnd.plotly.v1+json": {
       "config": {
        "plotlyServerURL": "https://plot.ly"
       },
       "data": [
        {
         "alignmentgroup": "True",
         "hovertemplate": "nPaidOff=%{y}<extra></extra>",
         "legendgroup": "",
         "marker": {
          "color": "#636efa"
         },
         "name": "",
         "notched": false,
         "offsetgroup": "",
         "orientation": "v",
         "showlegend": false,
         "type": "box",
         "x0": " ",
         "xaxis": "x",
         "y": [
          1,
          2,
          2,
          2,
          2,
          0,
          1,
          1,
          2,
          2,
          2,
          0,
          0,
          1,
          2,
          1,
          2,
          1,
          2,
          0,
          1,
          1,
          1,
          0,
          0,
          0,
          1,
          0,
          2,
          0,
          0,
          0,
          0,
          1,
          2,
          1,
          0,
          0,
          1,
          1,
          1,
          2,
          0,
          1,
          2,
          1,
          0,
          0,
          0,
          0,
          0,
          1,
          1,
          1,
          1,
          1,
          1,
          1,
          1,
          0,
          0,
          1,
          1,
          1,
          0,
          0,
          4,
          4,
          4,
          2,
          4,
          0,
          0,
          0,
          0,
          1,
          0,
          1,
          1,
          0,
          2,
          2,
          2,
          1,
          1,
          1,
          0,
          1,
          0,
          1,
          1,
          0,
          0,
          0,
          0,
          1,
          1,
          1,
          1,
          1,
          1,
          1,
          0,
          3,
          3,
          3,
          3,
          3,
          3,
          3,
          3,
          3,
          3,
          0,
          3,
          1,
          1,
          1,
          1,
          1,
          1,
          2,
          0,
          1,
          1,
          0,
          0,
          0,
          0,
          0,
          1,
          1,
          1,
          0,
          0,
          0,
          1,
          1,
          1,
          1,
          0,
          1,
          3,
          6,
          0,
          0,
          1,
          1,
          1,
          1,
          0,
          1,
          1,
          1,
          0,
          0,
          0,
          0,
          0,
          1,
          1,
          0,
          0,
          0,
          0,
          0,
          1,
          1,
          1,
          1,
          1,
          1,
          1,
          1,
          1,
          1,
          1,
          1,
          1,
          0,
          0,
          2,
          2,
          0,
          0,
          0,
          0,
          0,
          0,
          0,
          0,
          0,
          1,
          1,
          1,
          1,
          1,
          1,
          3,
          0,
          0,
          0,
          0,
          0,
          0,
          0,
          0,
          0,
          0,
          1,
          1,
          0,
          0,
          2,
          4,
          0,
          0,
          0,
          0,
          0,
          0,
          0,
          2,
          2,
          0,
          0,
          0,
          0,
          2,
          1,
          1,
          1,
          1,
          1,
          1,
          1,
          1,
          1,
          0,
          0,
          1,
          0,
          0,
          1,
          1,
          1,
          2,
          1,
          1,
          1,
          0,
          1,
          0,
          0,
          0,
          2,
          2,
          0,
          3,
          1,
          1,
          0,
          0,
          0,
          1,
          0,
          1,
          0,
          0,
          0,
          1,
          1,
          0,
          0,
          0,
          1,
          1,
          1,
          3,
          1,
          1,
          1,
          1,
          0,
          0,
          1,
          2,
          2,
          2,
          1,
          0,
          0,
          0,
          1,
          2,
          0,
          0,
          1,
          1,
          1,
          2,
          0,
          0,
          0,
          0,
          1,
          0,
          0,
          0,
          0,
          1,
          0,
          0,
          0,
          0,
          0,
          0,
          0,
          1,
          1,
          1,
          1,
          0,
          1,
          0,
          0,
          0,
          0,
          1,
          1,
          1,
          1,
          1,
          1,
          0,
          2,
          1,
          0,
          0,
          1,
          1,
          1,
          0,
          0,
          0,
          0,
          0,
          1,
          0,
          0,
          0,
          0,
          1,
          1,
          1,
          1,
          1,
          0,
          1,
          0,
          1,
          0,
          1,
          1,
          1,
          1,
          1,
          1,
          0,
          1,
          1,
          1,
          1,
          1,
          1,
          0,
          0,
          0,
          1,
          1,
          1,
          1,
          0,
          1,
          1,
          1,
          0,
          2,
          1,
          0,
          0,
          0,
          1,
          1,
          0,
          0,
          1,
          1,
          1,
          0,
          3,
          0,
          1,
          1,
          0,
          1,
          0,
          1,
          0,
          1,
          0,
          1,
          1,
          1,
          0,
          0,
          1,
          0,
          1,
          2,
          0,
          1,
          1,
          1,
          0,
          1,
          1,
          2,
          0,
          0,
          0,
          1,
          1,
          1,
          2,
          0,
          0,
          2,
          0,
          1,
          1,
          0,
          0,
          1,
          1,
          0,
          0,
          1,
          1,
          0,
          0,
          0,
          0,
          1,
          1,
          1,
          1,
          1,
          0,
          0,
          0,
          0,
          1,
          1,
          0,
          1,
          1,
          2,
          1,
          1,
          1,
          0,
          2,
          1,
          1,
          0,
          1,
          1,
          1,
          0,
          1,
          0,
          0,
          0,
          1,
          1,
          1,
          1,
          1,
          1,
          1,
          0,
          1,
          0,
          0,
          0,
          2,
          0,
          2,
          1,
          0,
          1,
          1,
          0,
          0,
          0,
          0,
          0,
          0,
          0,
          4,
          0,
          0,
          0,
          0,
          1,
          1,
          0,
          1,
          1,
          0,
          0,
          5,
          1,
          1,
          0,
          0,
          2,
          2,
          3,
          1,
          2,
          2,
          2,
          0,
          0,
          0,
          0,
          0,
          0,
          0,
          0,
          1,
          0,
          0,
          0,
          2,
          1,
          2,
          2,
          0,
          0,
          1,
          1,
          0,
          0,
          0,
          0,
          0,
          0,
          0,
          1,
          1,
          1,
          1,
          1,
          1,
          0,
          0,
          1,
          1,
          1,
          0,
          0,
          1,
          2,
          2,
          2,
          2,
          1,
          1,
          3,
          1,
          1,
          1,
          1,
          1,
          1,
          2,
          4,
          4,
          0,
          1,
          1,
          1,
          0,
          1,
          1,
          1,
          1,
          1,
          1,
          1,
          0,
          0,
          0,
          1,
          1,
          1,
          1,
          1,
          1,
          1,
          1,
          0,
          0,
          1,
          1,
          1,
          0,
          0,
          0,
          1,
          1,
          0,
          0,
          0,
          0,
          4,
          5,
          1,
          1,
          1,
          1,
          1,
          0,
          0,
          0,
          1,
          0,
          1,
          3,
          0,
          0,
          0,
          0,
          0,
          0,
          1,
          0,
          0,
          1,
          1,
          0,
          0,
          0,
          0,
          1,
          2,
          2,
          0,
          1,
          1,
          1,
          0,
          0,
          0,
          1,
          0,
          3,
          1,
          5,
          5,
          5,
          4,
          3,
          6,
          5,
          5,
          4,
          3,
          1,
          1,
          1,
          3,
          6,
          6,
          6,
          6,
          6,
          6,
          6,
          6,
          6,
          5,
          1,
          1,
          1,
          0,
          1,
          0,
          0,
          1,
          1,
          1,
          1,
          1,
          1,
          1,
          1,
          1,
          1,
          1,
          1,
          1,
          1,
          1,
          1,
          0,
          1,
          1,
          0,
          0,
          2,
          1,
          1,
          1,
          1,
          1,
          0,
          0,
          0,
          1,
          1,
          1,
          1,
          0,
          1,
          0,
          0,
          0,
          1,
          1,
          1,
          0,
          2,
          1,
          0,
          0,
          0,
          1,
          1,
          1,
          1,
          1,
          0,
          0,
          0,
          1,
          1,
          1,
          1,
          1,
          0,
          1,
          4,
          1,
          4,
          1,
          0,
          1,
          0,
          1,
          0,
          6,
          1,
          1,
          1,
          1,
          1,
          1,
          1,
          1,
          1,
          1,
          1,
          1,
          1,
          0,
          3,
          0,
          0,
          1,
          1,
          1,
          1,
          1,
          2,
          1,
          1,
          0,
          1,
          1,
          1,
          1,
          1,
          0,
          0,
          0,
          1,
          1,
          1,
          1,
          0,
          1,
          0,
          0,
          1,
          0,
          1,
          1,
          1,
          1,
          2,
          1,
          0,
          0,
          1,
          1,
          0,
          0,
          0,
          6,
          1,
          1,
          1,
          1,
          5,
          0,
          0,
          1,
          0,
          0,
          0,
          0,
          1,
          0,
          0,
          0,
          1,
          2,
          2,
          0,
          3,
          1,
          0,
          0,
          0,
          1,
          1,
          1,
          1,
          0,
          0,
          0,
          0,
          0,
          0,
          1,
          1,
          1,
          2,
          1,
          1,
          1,
          1,
          1,
          1,
          0,
          0,
          2,
          2,
          2,
          2,
          2,
          0,
          0,
          0,
          0,
          0,
          0,
          1,
          1,
          0,
          0,
          1,
          1,
          1,
          2,
          0,
          0,
          0,
          0,
          0,
          0,
          0,
          0,
          0,
          0,
          1,
          1,
          2,
          1,
          1,
          1,
          1,
          1,
          1,
          1,
          2,
          2,
          0,
          1,
          1,
          1,
          1,
          1,
          1,
          1,
          1,
          0,
          0,
          0,
          0,
          0,
          0,
          0,
          0,
          0,
          0,
          1,
          0,
          0,
          1,
          0,
          0,
          0,
          1,
          1,
          1,
          1,
          0,
          0,
          1,
          0,
          0,
          0,
          1,
          1,
          0,
          7,
          6,
          4,
          6,
          1,
          5,
          5,
          5,
          1,
          0,
          0,
          0,
          0,
          0,
          1,
          1,
          0,
          0,
          0,
          1,
          1,
          1,
          1,
          1,
          1,
          0,
          0,
          0,
          0,
          0,
          0,
          0,
          0,
          0,
          0,
          0,
          0,
          1,
          2,
          0,
          0,
          0,
          0,
          0,
          0,
          0,
          0,
          0,
          1,
          1,
          0,
          1,
          1,
          0,
          0,
          2,
          1,
          0,
          0,
          1,
          1,
          1,
          1,
          0,
          1,
          1,
          3,
          3,
          2,
          0,
          0,
          0,
          6,
          6,
          6,
          6,
          1,
          0,
          0,
          0,
          0,
          0,
          0,
          1,
          1,
          0,
          1,
          0,
          1,
          1,
          1,
          1,
          0,
          0,
          2,
          1,
          1,
          1,
          2,
          1,
          1,
          1,
          0,
          1,
          0,
          1,
          1,
          3,
          1,
          1,
          0,
          0,
          1,
          1,
          1,
          1,
          1,
          0,
          0,
          0,
          1,
          0,
          1,
          0,
          1,
          0,
          0,
          0,
          0,
          0,
          0,
          0,
          1,
          2,
          2,
          1,
          2,
          0,
          0,
          1,
          0,
          0,
          3,
          1,
          1,
          1,
          1,
          0,
          1,
          1,
          0,
          0,
          0,
          0,
          0,
          1,
          0,
          1,
          1,
          0,
          0,
          0,
          0,
          0,
          0,
          0,
          0,
          0,
          0,
          0,
          1,
          1,
          1,
          0,
          0,
          0,
          0,
          0,
          0,
          0,
          0,
          0,
          0,
          1,
          2,
          0,
          0,
          1,
          0,
          0,
          0,
          0,
          0,
          0,
          0,
          0,
          0,
          0,
          0,
          0,
          0,
          2,
          2,
          1,
          1,
          1,
          1,
          2,
          0,
          0,
          0,
          1,
          1,
          1,
          0,
          1,
          2,
          2,
          2,
          0,
          0,
          0,
          1,
          0,
          1,
          1,
          1,
          2,
          2,
          1,
          1,
          0,
          0,
          0,
          1,
          2,
          0,
          0,
          0,
          0,
          1,
          1,
          0,
          1,
          1,
          1,
          0,
          0,
          0,
          0,
          1,
          0,
          0,
          1,
          1,
          1,
          1,
          0,
          0,
          1,
          0,
          1,
          1,
          0,
          0,
          0,
          0,
          1,
          0,
          1,
          1,
          1,
          1,
          1,
          1,
          1,
          1,
          3,
          0,
          0,
          0,
          1,
          0,
          1,
          1,
          1,
          0,
          0,
          0,
          1,
          0,
          0,
          0,
          2,
          2,
          2,
          2,
          2,
          1,
          2,
          2,
          0,
          0,
          1,
          0,
          1,
          0,
          0,
          0,
          0,
          0,
          0,
          0,
          0,
          0,
          4,
          1,
          1,
          1,
          1,
          1,
          0,
          1,
          1,
          1,
          1,
          1,
          0,
          0,
          0,
          0,
          1,
          0,
          1,
          1,
          1,
          0,
          0,
          0,
          0,
          0,
          0,
          0,
          1,
          1,
          2,
          2,
          0,
          1,
          0,
          1,
          0,
          0,
          0,
          1,
          1,
          1,
          1,
          0,
          1,
          1,
          1,
          1,
          0,
          1,
          0,
          0,
          1,
          1,
          1,
          0,
          0,
          0,
          3,
          3,
          3,
          0,
          1,
          1,
          1,
          0,
          0,
          1,
          0,
          1,
          1,
          1,
          0,
          0,
          0,
          0,
          0,
          2,
          1,
          1,
          1,
          1,
          1,
          1,
          1,
          0,
          1,
          1,
          0,
          0,
          0,
          0,
          0,
          1,
          0,
          0,
          1,
          0,
          1,
          0,
          0,
          0,
          0,
          2,
          2,
          0,
          2,
          1,
          1,
          1,
          1,
          0,
          0,
          0,
          0,
          0,
          0,
          0,
          1,
          10,
          10,
          10,
          10,
          1,
          1,
          1,
          1,
          1,
          1,
          1,
          1,
          1,
          0,
          0,
          0,
          0,
          1,
          1,
          0,
          0,
          0,
          0,
          1,
          1,
          3,
          1,
          1,
          0,
          0,
          1,
          0,
          0,
          0,
          0,
          0,
          0,
          0,
          1,
          0,
          1,
          1,
          1,
          1,
          1,
          1,
          1,
          0,
          1,
          1,
          1,
          1,
          1,
          1,
          1,
          0,
          0,
          0,
          0,
          1,
          0,
          0,
          0,
          1,
          0,
          0,
          0,
          1,
          0,
          0,
          1,
          0,
          0,
          0,
          1,
          1,
          0,
          0,
          0,
          0,
          0,
          0,
          1,
          0,
          0,
          2,
          2,
          0,
          1,
          1,
          0,
          1,
          1,
          1,
          0,
          0,
          1,
          1,
          1,
          0,
          1,
          1,
          1,
          0,
          0,
          0,
          0,
          0,
          0,
          0,
          0,
          0,
          0,
          0,
          0,
          1,
          0,
          2,
          2,
          0,
          1,
          3,
          3,
          3,
          0,
          0,
          0,
          0,
          1,
          0,
          0,
          1,
          0,
          0,
          0,
          0,
          0,
          0,
          0,
          0,
          1,
          1,
          1,
          1,
          1,
          0,
          0,
          0,
          0,
          0,
          1,
          2,
          1,
          0,
          0,
          0,
          1,
          1,
          1,
          1,
          1,
          1,
          1,
          18,
          20,
          17,
          0,
          0,
          0,
          0,
          0,
          0,
          1,
          1,
          1,
          0,
          1,
          1,
          1,
          1,
          1,
          0,
          0,
          0,
          1,
          3,
          0,
          0,
          0,
          1,
          0,
          0,
          0,
          1,
          0,
          0,
          0,
          0,
          0,
          0,
          1,
          1,
          0,
          2,
          0,
          0,
          0,
          1,
          0,
          2,
          0,
          1,
          1,
          0,
          0,
          1,
          1,
          0,
          0,
          1,
          1,
          1,
          1,
          0,
          1,
          2,
          2,
          1,
          1,
          1,
          0,
          1,
          1,
          1,
          1,
          0,
          2,
          2,
          0,
          1,
          1,
          1,
          2,
          2,
          0,
          2,
          2,
          2,
          2,
          2,
          2,
          0,
          0,
          1,
          1,
          4,
          0,
          0,
          0,
          0,
          1,
          0,
          0,
          0,
          0,
          0,
          0,
          0,
          3,
          1,
          0,
          1,
          1,
          0,
          0,
          0,
          0,
          0,
          0,
          1,
          0,
          0,
          1,
          2,
          2,
          2,
          0,
          0,
          1,
          0,
          0,
          0,
          0,
          0,
          1,
          1,
          1,
          0,
          0,
          1,
          0,
          1,
          4,
          0,
          1,
          1,
          1,
          1,
          1,
          0,
          0,
          0,
          0,
          0,
          0,
          0,
          0,
          0,
          2,
          2,
          2,
          0,
          0,
          1,
          1,
          0,
          1,
          0,
          0,
          0,
          0,
          0,
          0,
          2,
          0,
          0,
          0,
          0,
          0,
          1,
          1,
          1,
          1,
          1,
          1,
          1,
          0,
          0,
          0,
          1,
          0,
          0,
          2,
          2,
          0,
          0,
          0,
          3,
          1,
          1,
          1,
          1,
          1,
          1,
          0,
          1,
          0,
          0,
          2,
          1,
          1,
          0,
          1,
          1,
          0,
          1,
          0,
          3,
          2,
          4,
          3,
          0,
          0,
          0,
          0,
          0,
          1,
          0,
          1,
          1,
          1,
          1,
          0,
          0,
          1,
          0,
          1,
          1,
          1,
          1,
          0,
          0,
          0,
          0,
          0,
          0,
          1,
          0,
          2,
          1,
          0,
          1,
          0,
          0,
          1,
          1,
          1,
          1,
          1,
          2,
          1,
          1,
          1,
          0,
          1,
          1,
          0,
          0,
          1,
          0,
          0,
          0,
          6,
          1,
          1,
          1,
          0,
          0,
          0,
          0,
          1,
          1,
          0,
          0,
          0,
          0,
          2,
          0,
          0,
          1,
          0,
          1,
          1,
          1,
          1,
          1,
          0,
          0,
          0,
          0,
          0,
          0,
          0,
          0,
          1,
          0,
          0,
          0,
          2,
          0,
          1,
          1,
          1,
          0,
          0,
          1,
          1,
          1,
          1,
          1,
          0,
          1,
          1,
          2,
          2,
          1,
          1,
          1,
          1,
          1,
          1,
          1,
          0,
          2,
          0,
          0,
          0,
          0,
          0,
          0,
          0,
          0,
          4,
          3,
          0,
          0,
          0,
          0,
          0,
          0,
          2,
          1,
          1,
          1,
          2,
          0,
          0,
          0,
          0,
          0,
          2,
          1,
          0,
          1,
          2,
          1,
          0,
          0,
          1,
          0,
          0,
          1,
          1,
          1,
          1,
          0,
          0,
          0,
          1,
          1,
          0,
          0,
          2,
          1,
          0,
          1,
          1,
          0,
          0,
          1,
          1,
          1,
          1,
          0,
          1,
          0,
          0,
          0,
          1,
          0,
          1,
          1,
          1,
          1,
          1,
          0,
          1,
          0,
          1,
          0,
          0,
          0,
          0,
          3,
          1,
          1,
          3,
          0,
          0,
          2,
          2,
          0,
          1,
          0,
          0,
          0,
          1,
          0,
          1,
          0,
          0,
          0,
          1,
          1,
          1,
          0,
          0,
          1,
          0,
          0,
          0,
          0,
          0,
          0,
          0,
          0,
          1,
          0,
          1,
          1,
          0,
          0,
          1,
          0,
          1,
          1,
          1,
          6,
          2,
          0,
          0,
          2,
          2,
          0,
          2,
          1,
          2,
          0,
          1,
          0,
          0,
          1,
          1,
          0,
          0,
          0,
          1,
          0,
          0,
          0,
          0,
          0,
          1,
          0,
          0,
          1,
          0,
          0,
          0,
          0,
          0,
          0,
          0,
          0,
          1,
          0,
          0,
          1,
          1,
          0,
          0,
          0,
          0,
          1,
          0,
          0,
          0,
          1,
          1,
          0,
          1,
          1,
          1,
          0,
          1,
          0,
          0,
          1,
          0,
          1,
          2,
          3,
          2,
          0,
          0,
          4,
          4,
          1,
          1,
          1,
          1,
          0,
          3,
          1,
          1,
          1,
          1,
          0,
          0,
          0,
          1,
          0,
          0,
          0,
          1,
          1,
          0,
          2,
          0,
          1,
          1,
          0,
          0,
          1,
          0,
          0,
          0,
          0,
          4,
          1,
          1,
          2,
          1,
          0,
          2,
          2,
          0,
          0,
          1,
          1,
          2,
          2,
          1,
          0,
          1,
          0,
          1,
          1,
          1,
          1,
          1,
          0,
          0,
          0,
          0,
          1,
          0,
          0,
          0,
          1,
          0,
          3,
          3,
          3,
          0,
          0,
          0,
          0,
          0,
          1,
          1,
          0,
          1,
          0,
          0,
          0,
          1,
          0,
          0,
          1,
          1,
          1,
          1,
          2,
          2,
          2,
          2,
          0,
          0,
          1,
          1,
          1,
          0,
          0,
          0,
          1,
          3,
          0,
          0,
          0,
          0,
          1,
          0,
          0,
          1,
          0,
          0,
          0,
          1,
          1,
          1,
          0,
          0,
          0,
          0,
          0,
          0,
          0,
          0,
          0,
          0,
          0,
          2,
          0,
          0,
          0,
          1,
          1,
          0,
          3,
          0,
          0,
          0,
          1,
          0,
          1,
          1,
          1,
          1,
          1,
          1,
          1,
          1,
          0,
          0,
          0,
          0,
          0,
          1,
          0,
          1,
          1,
          1,
          1,
          0,
          1,
          1,
          1,
          0,
          0,
          1,
          1,
          1,
          0,
          0,
          0,
          0,
          1,
          2,
          0,
          1,
          1,
          0,
          1,
          2,
          0,
          1,
          1,
          1,
          3,
          0,
          0,
          0,
          1,
          0,
          0,
          0,
          0,
          1,
          1,
          1,
          1,
          1,
          1,
          1,
          1,
          1,
          3,
          1,
          1,
          0,
          1,
          0,
          0,
          0,
          0,
          1,
          3,
          3,
          1,
          1,
          0,
          1,
          0,
          0,
          0,
          1,
          0,
          0,
          0,
          1,
          1,
          1,
          1,
          0,
          1,
          1,
          1,
          1,
          1,
          0,
          0,
          0,
          1,
          1,
          1,
          0,
          0,
          0,
          0,
          0,
          0,
          0,
          1,
          3,
          3,
          1,
          2,
          3,
          1,
          1,
          1,
          0,
          0,
          0,
          0,
          0,
          0,
          0,
          0,
          2,
          2,
          0,
          0,
          1,
          0,
          3,
          0,
          0,
          1,
          0,
          2,
          0,
          1,
          0,
          1,
          0,
          0,
          0,
          0,
          1,
          0,
          1,
          1,
          0,
          0,
          1,
          1,
          1,
          1,
          0,
          0,
          0,
          1,
          1,
          1,
          1,
          1,
          1,
          0,
          0,
          0,
          1,
          1,
          1,
          3,
          0,
          0,
          0,
          0,
          0,
          1,
          2,
          0,
          1,
          0,
          2,
          2,
          0,
          0,
          0,
          1,
          1,
          0,
          0,
          0,
          0,
          0,
          0,
          1,
          0,
          2,
          1,
          0,
          0,
          0,
          0,
          1,
          2,
          1,
          0,
          0,
          1,
          1,
          1,
          0,
          0,
          2,
          1,
          1,
          1,
          1,
          1,
          0,
          0,
          0,
          1,
          0,
          0,
          1,
          1,
          1,
          1,
          1,
          1,
          0,
          0,
          0,
          0,
          1,
          2,
          1,
          0,
          0,
          2,
          1,
          0,
          1,
          0,
          1,
          1,
          1,
          0,
          2,
          0,
          1,
          0,
          1,
          0,
          0,
          2,
          2,
          0,
          0,
          1,
          0,
          1,
          0,
          1,
          1,
          1,
          1,
          1,
          1,
          3,
          3,
          3,
          2,
          2,
          0,
          1,
          0,
          1,
          0,
          1,
          0,
          0,
          2,
          1,
          0,
          0,
          0,
          0,
          0,
          0,
          2,
          0,
          0,
          1,
          1,
          1,
          1,
          0,
          0,
          1,
          0,
          0,
          0,
          0,
          0,
          0,
          0,
          0,
          0,
          0,
          0,
          0,
          0,
          0,
          0,
          0,
          0,
          0,
          0,
          0,
          0,
          0,
          1,
          0,
          1,
          0,
          0,
          0,
          0,
          0,
          0,
          0,
          0,
          0,
          1,
          1,
          0,
          0,
          0,
          0,
          1,
          1,
          1,
          0,
          1,
          1,
          0,
          1,
          0,
          1,
          1,
          1,
          1,
          0,
          0,
          0,
          0,
          0,
          0,
          0,
          0,
          0,
          1,
          0,
          0,
          1,
          0,
          1,
          1,
          4,
          0,
          0,
          1,
          0,
          1,
          0,
          0,
          0,
          1,
          1,
          1,
          1,
          1,
          1,
          1,
          1,
          0,
          1,
          1,
          0,
          0,
          0,
          2,
          1,
          0,
          0,
          0,
          0,
          1,
          1,
          1,
          1,
          1,
          0,
          1,
          1,
          1,
          1,
          1,
          0,
          0,
          0,
          0,
          1,
          1,
          0,
          0,
          0,
          0,
          0,
          1,
          2,
          2,
          2,
          0,
          1,
          0,
          0,
          0,
          1,
          1,
          1,
          0,
          0,
          0,
          1,
          1,
          2,
          0,
          2,
          0,
          0,
          0,
          0,
          1,
          0,
          0,
          1,
          0,
          1,
          0,
          0,
          0,
          1,
          0,
          0,
          0,
          0,
          0,
          0,
          1,
          1,
          0,
          0,
          1,
          0,
          1,
          0,
          2,
          2,
          1,
          1,
          0,
          0,
          0,
          1,
          1,
          0,
          1,
          0,
          5,
          0,
          1,
          0,
          1,
          1,
          0,
          1,
          0,
          0,
          1,
          1,
          1,
          1,
          0,
          0,
          0,
          0,
          0,
          0,
          1,
          1,
          1,
          0,
          0,
          0,
          0,
          0,
          1,
          1,
          1,
          0,
          2,
          1,
          0,
          1,
          0,
          3,
          1,
          2,
          0,
          2,
          1,
          0,
          0,
          1,
          1,
          1,
          0,
          1,
          1,
          4,
          0,
          0,
          0,
          0,
          0,
          1,
          0,
          0,
          0,
          0,
          0,
          0,
          1,
          0,
          1,
          1,
          1,
          0,
          1,
          1,
          1,
          0,
          0,
          0,
          0,
          0,
          0,
          1,
          1,
          1,
          0,
          2,
          1,
          1,
          1,
          1,
          0,
          0,
          1,
          1,
          0,
          1,
          0,
          1,
          1,
          2,
          0,
          0,
          0,
          0,
          0,
          0,
          0,
          0,
          1,
          1,
          0,
          0,
          2,
          0,
          0,
          0,
          1,
          0,
          2,
          0,
          0,
          0,
          0,
          1,
          0,
          0,
          0,
          1,
          0,
          0,
          0,
          0,
          0,
          0,
          2,
          0,
          0,
          0,
          1,
          1,
          0,
          0,
          0,
          0,
          0,
          0,
          0,
          0,
          1,
          1,
          1,
          0,
          0,
          0,
          0,
          2,
          1,
          0,
          1,
          0,
          6,
          1,
          0,
          1,
          0,
          1,
          3,
          1,
          1,
          1,
          0,
          0,
          1,
          0,
          1,
          0,
          0,
          0,
          1,
          2,
          0,
          0,
          0,
          0,
          0,
          0,
          1,
          0,
          0,
          0,
          0,
          0,
          1,
          1,
          1,
          2,
          2,
          0,
          0,
          0,
          1,
          1,
          1,
          0,
          0,
          1,
          0,
          0,
          1,
          1,
          1,
          0,
          0,
          1,
          0,
          0,
          0,
          1,
          1,
          1,
          0,
          1,
          0,
          0,
          0,
          2,
          0,
          0,
          1,
          0,
          0,
          0,
          1,
          1,
          0,
          0,
          1,
          0,
          1,
          0,
          0,
          0,
          0,
          1,
          1,
          0,
          0,
          3,
          1,
          1,
          0,
          0,
          0,
          0,
          1,
          1,
          0,
          0,
          0,
          0,
          0,
          0,
          1,
          0,
          0,
          0,
          0,
          0,
          1,
          1,
          1,
          0,
          0,
          0,
          3,
          0,
          0,
          2,
          0,
          0,
          0,
          1,
          0,
          0,
          1,
          1,
          1,
          1,
          0,
          0,
          0,
          0,
          4,
          0,
          2,
          2,
          0,
          0,
          0,
          0,
          0,
          0,
          0,
          0,
          0,
          0,
          0,
          1,
          5,
          5,
          1,
          1,
          1,
          1,
          1,
          0,
          1,
          1,
          0,
          1,
          0,
          1,
          1,
          0,
          0,
          1,
          1,
          1,
          3,
          0,
          0,
          0,
          1,
          2,
          2,
          0,
          1,
          1,
          0,
          0,
          0,
          0,
          0,
          0,
          2,
          0,
          1,
          0,
          0,
          0,
          0,
          1,
          0,
          0,
          0,
          0,
          0,
          0,
          1,
          0,
          1,
          1,
          1,
          1,
          0,
          0,
          0,
          1,
          3,
          0,
          1,
          0,
          0,
          0,
          0,
          1,
          1,
          0,
          0,
          0,
          1,
          0,
          0,
          0,
          0,
          0,
          0,
          0,
          1,
          1,
          0,
          0,
          0,
          0,
          1,
          1,
          1,
          0,
          0,
          0,
          0,
          1,
          1,
          0,
          0,
          0,
          0,
          1,
          1,
          1,
          1,
          0,
          1,
          1,
          0,
          1,
          0,
          5,
          5,
          1,
          0,
          0,
          2,
          0,
          0,
          0,
          0,
          0,
          0,
          1,
          1,
          1,
          1,
          1,
          1,
          1,
          0,
          0,
          1,
          1,
          1,
          0,
          1,
          0,
          1,
          1,
          0,
          0,
          1,
          0,
          1,
          0,
          1,
          1,
          0,
          0,
          1,
          0,
          1,
          1,
          1,
          1,
          2,
          1,
          0,
          0,
          0,
          0,
          0,
          0,
          0,
          0,
          1,
          0,
          0,
          1,
          1,
          1,
          0,
          0,
          0,
          0,
          0,
          0,
          1,
          1,
          0,
          0,
          0,
          1,
          0,
          1,
          0,
          1,
          1,
          2,
          0,
          0,
          0,
          0,
          0,
          0,
          1,
          1,
          0,
          0,
          0,
          1,
          1,
          1,
          0,
          4,
          0,
          1,
          1,
          1,
          1,
          0,
          1,
          0,
          1,
          0,
          0,
          0,
          3,
          1,
          1,
          0,
          0,
          1,
          0,
          0,
          0,
          0,
          0,
          0,
          0,
          0,
          0,
          1,
          0,
          0,
          0,
          1,
          0,
          0,
          0,
          0,
          1,
          0,
          0,
          0,
          1,
          0,
          0,
          2,
          1,
          0,
          2,
          0,
          0,
          0,
          0,
          1,
          1,
          0,
          1,
          1,
          2,
          2,
          2,
          0,
          1,
          0,
          1,
          0,
          1,
          0,
          0,
          1,
          0,
          0,
          5,
          4,
          0,
          0,
          1,
          1,
          0,
          0,
          0,
          0,
          1,
          1,
          0,
          0,
          1,
          0,
          0,
          0,
          0,
          1,
          1,
          0,
          0,
          0,
          0,
          0,
          0,
          0,
          0,
          0,
          1,
          1,
          0,
          1,
          1,
          1,
          0,
          1,
          0,
          0,
          1,
          0,
          1,
          0,
          1,
          0,
          0,
          0,
          1,
          1,
          0,
          0,
          1,
          0,
          0,
          0,
          0,
          0,
          1,
          0,
          1,
          0,
          0,
          0,
          1,
          0,
          0,
          1,
          0,
          0,
          0,
          0,
          0,
          0,
          0,
          3,
          0,
          0,
          0,
          1,
          1,
          1,
          0,
          0,
          0,
          1,
          1,
          1,
          2,
          0,
          1,
          0,
          3,
          1,
          0,
          0,
          0,
          3,
          1,
          1,
          1,
          1,
          1,
          1,
          2,
          1,
          1,
          1,
          1,
          1,
          1,
          0,
          1,
          0,
          0,
          0,
          0,
          0,
          0,
          0,
          0,
          0,
          0,
          0,
          2,
          1,
          0,
          0,
          0,
          0,
          0,
          1,
          0,
          0,
          1,
          3,
          3,
          3,
          1,
          0,
          0,
          1,
          0,
          1,
          0,
          1,
          0,
          0,
          1,
          1,
          1,
          1,
          2,
          1,
          0,
          1,
          1,
          0,
          0,
          0,
          0,
          0,
          0,
          0,
          0,
          0,
          1,
          1,
          1,
          0,
          1,
          1,
          1,
          0,
          1,
          0,
          0,
          2,
          3,
          0,
          0,
          2,
          0,
          0,
          1,
          0,
          0,
          0,
          1,
          1,
          1,
          1,
          0,
          1,
          0,
          1,
          1,
          0,
          0,
          0,
          0,
          2,
          0,
          0,
          1,
          1,
          1,
          0,
          0,
          0,
          1,
          1,
          0,
          1,
          0,
          0,
          0,
          1,
          0,
          1,
          1,
          1,
          0,
          0,
          2,
          0,
          0,
          0,
          0,
          1,
          1,
          0,
          1,
          0,
          1,
          1,
          0,
          0,
          1,
          0,
          0,
          0,
          1,
          1,
          1,
          0,
          1,
          2,
          1,
          0,
          1,
          3,
          0,
          1,
          0,
          0,
          0,
          0,
          1,
          0,
          0,
          0,
          0,
          0,
          0,
          1,
          0,
          0,
          0,
          1,
          0,
          0,
          0,
          2,
          1,
          0,
          0,
          1,
          2,
          0,
          1,
          1,
          0,
          0,
          1,
          1,
          1,
          1,
          1,
          1,
          1,
          0,
          1,
          0,
          1,
          1,
          0,
          0,
          0,
          0,
          0,
          1,
          1,
          1,
          1,
          0,
          0,
          0,
          0,
          0,
          0,
          1,
          1,
          2,
          2,
          0,
          0,
          0,
          0,
          0,
          0,
          3,
          1,
          0,
          0,
          0,
          0,
          1,
          2,
          0,
          0,
          0,
          1,
          0,
          1,
          0,
          1,
          0,
          0,
          1,
          1,
          1,
          0,
          1,
          1,
          1,
          1,
          1,
          1,
          0,
          0,
          0,
          1,
          1,
          1,
          1,
          1,
          0,
          0,
          0,
          0,
          0,
          0,
          0,
          0,
          0,
          1,
          0,
          1,
          2,
          1,
          0,
          0,
          1,
          1,
          0,
          0,
          0,
          3,
          1,
          0,
          0,
          1,
          0,
          1,
          1,
          0,
          0,
          0,
          0,
          0,
          0,
          0,
          0,
          0,
          1,
          0,
          0,
          0,
          0,
          0,
          0,
          1,
          1,
          0,
          1,
          1,
          0,
          0,
          0,
          1,
          1,
          1,
          1,
          1,
          0,
          0,
          0,
          0,
          1,
          0,
          1,
          0,
          1,
          0,
          0,
          1,
          1,
          1,
          0,
          1,
          0,
          1,
          0,
          1,
          1,
          0,
          0,
          1,
          1,
          1,
          0,
          0,
          0,
          0,
          1,
          0,
          1,
          1,
          0,
          0,
          0,
          2,
          1,
          1,
          0,
          0,
          0,
          0,
          0,
          0,
          0,
          1,
          0,
          0,
          5,
          1,
          0,
          0,
          1,
          0,
          0,
          1,
          1,
          1,
          0,
          0,
          3,
          1,
          0,
          0,
          0,
          0,
          0,
          0,
          1,
          0,
          1,
          0,
          1,
          1,
          0,
          0,
          0,
          0,
          0,
          0,
          0,
          0,
          1,
          0,
          0,
          0,
          0,
          0,
          0,
          0,
          0,
          0,
          0,
          0,
          0,
          0,
          1,
          0,
          0,
          0,
          0,
          1,
          0,
          0,
          0,
          0,
          0,
          1,
          4,
          0,
          0,
          0,
          1,
          0,
          1,
          1,
          0,
          0,
          0,
          0,
          0,
          1,
          0,
          1,
          0,
          1,
          0,
          0,
          0,
          0,
          0,
          1,
          0,
          0,
          0,
          0,
          0,
          0,
          0,
          0,
          0,
          0,
          0,
          0,
          0,
          0,
          0,
          0,
          0,
          0,
          0,
          0,
          0,
          0,
          1,
          0,
          0,
          0,
          0,
          0,
          2,
          1,
          1,
          0,
          0,
          1,
          0,
          1,
          1,
          0,
          0,
          1,
          1,
          0,
          0,
          0,
          0,
          0,
          0,
          1,
          1,
          1,
          1,
          1,
          0,
          1,
          0,
          0,
          3,
          0,
          0,
          2,
          1,
          0,
          1,
          0,
          0,
          2,
          0,
          0,
          0,
          1,
          1,
          1,
          0,
          0,
          0,
          0,
          0,
          0,
          0,
          1,
          1,
          0,
          1,
          0,
          1,
          0,
          2,
          0,
          0,
          1,
          0,
          0,
          1,
          1,
          0,
          0,
          0,
          0,
          0,
          0,
          1,
          1,
          1,
          0,
          1,
          0,
          0,
          1,
          0,
          0,
          0,
          1,
          0,
          1,
          0,
          0,
          1,
          1,
          0,
          0,
          1,
          0,
          0,
          1,
          1,
          0,
          0,
          1,
          0,
          0,
          0,
          0,
          1,
          0,
          0,
          0,
          0,
          0,
          0,
          0,
          0,
          0,
          0,
          0,
          0,
          0,
          0,
          0,
          0,
          1,
          0,
          0,
          1,
          0,
          0,
          1,
          1,
          0,
          0,
          0,
          1,
          0,
          2,
          0,
          0,
          0,
          0,
          0,
          0,
          0,
          1,
          1,
          1,
          0,
          0,
          4,
          1,
          0,
          0,
          0,
          0,
          0,
          0,
          0,
          0,
          1,
          0,
          1,
          0,
          0,
          1,
          0,
          1,
          0,
          0,
          0,
          0,
          0,
          0,
          0,
          1,
          0,
          1,
          0,
          0,
          1,
          1,
          0
         ],
         "y0": " ",
         "yaxis": "y"
        }
       ],
       "layout": {
        "boxmode": "group",
        "legend": {
         "tracegroupgap": 0
        },
        "template": {
         "data": {
          "bar": [
           {
            "error_x": {
             "color": "#2a3f5f"
            },
            "error_y": {
             "color": "#2a3f5f"
            },
            "marker": {
             "line": {
              "color": "#E5ECF6",
              "width": 0.5
             },
             "pattern": {
              "fillmode": "overlay",
              "size": 10,
              "solidity": 0.2
             }
            },
            "type": "bar"
           }
          ],
          "barpolar": [
           {
            "marker": {
             "line": {
              "color": "#E5ECF6",
              "width": 0.5
             },
             "pattern": {
              "fillmode": "overlay",
              "size": 10,
              "solidity": 0.2
             }
            },
            "type": "barpolar"
           }
          ],
          "carpet": [
           {
            "aaxis": {
             "endlinecolor": "#2a3f5f",
             "gridcolor": "white",
             "linecolor": "white",
             "minorgridcolor": "white",
             "startlinecolor": "#2a3f5f"
            },
            "baxis": {
             "endlinecolor": "#2a3f5f",
             "gridcolor": "white",
             "linecolor": "white",
             "minorgridcolor": "white",
             "startlinecolor": "#2a3f5f"
            },
            "type": "carpet"
           }
          ],
          "choropleth": [
           {
            "colorbar": {
             "outlinewidth": 0,
             "ticks": ""
            },
            "type": "choropleth"
           }
          ],
          "contour": [
           {
            "colorbar": {
             "outlinewidth": 0,
             "ticks": ""
            },
            "colorscale": [
             [
              0,
              "#0d0887"
             ],
             [
              0.1111111111111111,
              "#46039f"
             ],
             [
              0.2222222222222222,
              "#7201a8"
             ],
             [
              0.3333333333333333,
              "#9c179e"
             ],
             [
              0.4444444444444444,
              "#bd3786"
             ],
             [
              0.5555555555555556,
              "#d8576b"
             ],
             [
              0.6666666666666666,
              "#ed7953"
             ],
             [
              0.7777777777777778,
              "#fb9f3a"
             ],
             [
              0.8888888888888888,
              "#fdca26"
             ],
             [
              1,
              "#f0f921"
             ]
            ],
            "type": "contour"
           }
          ],
          "contourcarpet": [
           {
            "colorbar": {
             "outlinewidth": 0,
             "ticks": ""
            },
            "type": "contourcarpet"
           }
          ],
          "heatmap": [
           {
            "colorbar": {
             "outlinewidth": 0,
             "ticks": ""
            },
            "colorscale": [
             [
              0,
              "#0d0887"
             ],
             [
              0.1111111111111111,
              "#46039f"
             ],
             [
              0.2222222222222222,
              "#7201a8"
             ],
             [
              0.3333333333333333,
              "#9c179e"
             ],
             [
              0.4444444444444444,
              "#bd3786"
             ],
             [
              0.5555555555555556,
              "#d8576b"
             ],
             [
              0.6666666666666666,
              "#ed7953"
             ],
             [
              0.7777777777777778,
              "#fb9f3a"
             ],
             [
              0.8888888888888888,
              "#fdca26"
             ],
             [
              1,
              "#f0f921"
             ]
            ],
            "type": "heatmap"
           }
          ],
          "heatmapgl": [
           {
            "colorbar": {
             "outlinewidth": 0,
             "ticks": ""
            },
            "colorscale": [
             [
              0,
              "#0d0887"
             ],
             [
              0.1111111111111111,
              "#46039f"
             ],
             [
              0.2222222222222222,
              "#7201a8"
             ],
             [
              0.3333333333333333,
              "#9c179e"
             ],
             [
              0.4444444444444444,
              "#bd3786"
             ],
             [
              0.5555555555555556,
              "#d8576b"
             ],
             [
              0.6666666666666666,
              "#ed7953"
             ],
             [
              0.7777777777777778,
              "#fb9f3a"
             ],
             [
              0.8888888888888888,
              "#fdca26"
             ],
             [
              1,
              "#f0f921"
             ]
            ],
            "type": "heatmapgl"
           }
          ],
          "histogram": [
           {
            "marker": {
             "pattern": {
              "fillmode": "overlay",
              "size": 10,
              "solidity": 0.2
             }
            },
            "type": "histogram"
           }
          ],
          "histogram2d": [
           {
            "colorbar": {
             "outlinewidth": 0,
             "ticks": ""
            },
            "colorscale": [
             [
              0,
              "#0d0887"
             ],
             [
              0.1111111111111111,
              "#46039f"
             ],
             [
              0.2222222222222222,
              "#7201a8"
             ],
             [
              0.3333333333333333,
              "#9c179e"
             ],
             [
              0.4444444444444444,
              "#bd3786"
             ],
             [
              0.5555555555555556,
              "#d8576b"
             ],
             [
              0.6666666666666666,
              "#ed7953"
             ],
             [
              0.7777777777777778,
              "#fb9f3a"
             ],
             [
              0.8888888888888888,
              "#fdca26"
             ],
             [
              1,
              "#f0f921"
             ]
            ],
            "type": "histogram2d"
           }
          ],
          "histogram2dcontour": [
           {
            "colorbar": {
             "outlinewidth": 0,
             "ticks": ""
            },
            "colorscale": [
             [
              0,
              "#0d0887"
             ],
             [
              0.1111111111111111,
              "#46039f"
             ],
             [
              0.2222222222222222,
              "#7201a8"
             ],
             [
              0.3333333333333333,
              "#9c179e"
             ],
             [
              0.4444444444444444,
              "#bd3786"
             ],
             [
              0.5555555555555556,
              "#d8576b"
             ],
             [
              0.6666666666666666,
              "#ed7953"
             ],
             [
              0.7777777777777778,
              "#fb9f3a"
             ],
             [
              0.8888888888888888,
              "#fdca26"
             ],
             [
              1,
              "#f0f921"
             ]
            ],
            "type": "histogram2dcontour"
           }
          ],
          "mesh3d": [
           {
            "colorbar": {
             "outlinewidth": 0,
             "ticks": ""
            },
            "type": "mesh3d"
           }
          ],
          "parcoords": [
           {
            "line": {
             "colorbar": {
              "outlinewidth": 0,
              "ticks": ""
             }
            },
            "type": "parcoords"
           }
          ],
          "pie": [
           {
            "automargin": true,
            "type": "pie"
           }
          ],
          "scatter": [
           {
            "fillpattern": {
             "fillmode": "overlay",
             "size": 10,
             "solidity": 0.2
            },
            "type": "scatter"
           }
          ],
          "scatter3d": [
           {
            "line": {
             "colorbar": {
              "outlinewidth": 0,
              "ticks": ""
             }
            },
            "marker": {
             "colorbar": {
              "outlinewidth": 0,
              "ticks": ""
             }
            },
            "type": "scatter3d"
           }
          ],
          "scattercarpet": [
           {
            "marker": {
             "colorbar": {
              "outlinewidth": 0,
              "ticks": ""
             }
            },
            "type": "scattercarpet"
           }
          ],
          "scattergeo": [
           {
            "marker": {
             "colorbar": {
              "outlinewidth": 0,
              "ticks": ""
             }
            },
            "type": "scattergeo"
           }
          ],
          "scattergl": [
           {
            "marker": {
             "colorbar": {
              "outlinewidth": 0,
              "ticks": ""
             }
            },
            "type": "scattergl"
           }
          ],
          "scattermapbox": [
           {
            "marker": {
             "colorbar": {
              "outlinewidth": 0,
              "ticks": ""
             }
            },
            "type": "scattermapbox"
           }
          ],
          "scatterpolar": [
           {
            "marker": {
             "colorbar": {
              "outlinewidth": 0,
              "ticks": ""
             }
            },
            "type": "scatterpolar"
           }
          ],
          "scatterpolargl": [
           {
            "marker": {
             "colorbar": {
              "outlinewidth": 0,
              "ticks": ""
             }
            },
            "type": "scatterpolargl"
           }
          ],
          "scatterternary": [
           {
            "marker": {
             "colorbar": {
              "outlinewidth": 0,
              "ticks": ""
             }
            },
            "type": "scatterternary"
           }
          ],
          "surface": [
           {
            "colorbar": {
             "outlinewidth": 0,
             "ticks": ""
            },
            "colorscale": [
             [
              0,
              "#0d0887"
             ],
             [
              0.1111111111111111,
              "#46039f"
             ],
             [
              0.2222222222222222,
              "#7201a8"
             ],
             [
              0.3333333333333333,
              "#9c179e"
             ],
             [
              0.4444444444444444,
              "#bd3786"
             ],
             [
              0.5555555555555556,
              "#d8576b"
             ],
             [
              0.6666666666666666,
              "#ed7953"
             ],
             [
              0.7777777777777778,
              "#fb9f3a"
             ],
             [
              0.8888888888888888,
              "#fdca26"
             ],
             [
              1,
              "#f0f921"
             ]
            ],
            "type": "surface"
           }
          ],
          "table": [
           {
            "cells": {
             "fill": {
              "color": "#EBF0F8"
             },
             "line": {
              "color": "white"
             }
            },
            "header": {
             "fill": {
              "color": "#C8D4E3"
             },
             "line": {
              "color": "white"
             }
            },
            "type": "table"
           }
          ]
         },
         "layout": {
          "annotationdefaults": {
           "arrowcolor": "#2a3f5f",
           "arrowhead": 0,
           "arrowwidth": 1
          },
          "autotypenumbers": "strict",
          "coloraxis": {
           "colorbar": {
            "outlinewidth": 0,
            "ticks": ""
           }
          },
          "colorscale": {
           "diverging": [
            [
             0,
             "#8e0152"
            ],
            [
             0.1,
             "#c51b7d"
            ],
            [
             0.2,
             "#de77ae"
            ],
            [
             0.3,
             "#f1b6da"
            ],
            [
             0.4,
             "#fde0ef"
            ],
            [
             0.5,
             "#f7f7f7"
            ],
            [
             0.6,
             "#e6f5d0"
            ],
            [
             0.7,
             "#b8e186"
            ],
            [
             0.8,
             "#7fbc41"
            ],
            [
             0.9,
             "#4d9221"
            ],
            [
             1,
             "#276419"
            ]
           ],
           "sequential": [
            [
             0,
             "#0d0887"
            ],
            [
             0.1111111111111111,
             "#46039f"
            ],
            [
             0.2222222222222222,
             "#7201a8"
            ],
            [
             0.3333333333333333,
             "#9c179e"
            ],
            [
             0.4444444444444444,
             "#bd3786"
            ],
            [
             0.5555555555555556,
             "#d8576b"
            ],
            [
             0.6666666666666666,
             "#ed7953"
            ],
            [
             0.7777777777777778,
             "#fb9f3a"
            ],
            [
             0.8888888888888888,
             "#fdca26"
            ],
            [
             1,
             "#f0f921"
            ]
           ],
           "sequentialminus": [
            [
             0,
             "#0d0887"
            ],
            [
             0.1111111111111111,
             "#46039f"
            ],
            [
             0.2222222222222222,
             "#7201a8"
            ],
            [
             0.3333333333333333,
             "#9c179e"
            ],
            [
             0.4444444444444444,
             "#bd3786"
            ],
            [
             0.5555555555555556,
             "#d8576b"
            ],
            [
             0.6666666666666666,
             "#ed7953"
            ],
            [
             0.7777777777777778,
             "#fb9f3a"
            ],
            [
             0.8888888888888888,
             "#fdca26"
            ],
            [
             1,
             "#f0f921"
            ]
           ]
          },
          "colorway": [
           "#636efa",
           "#EF553B",
           "#00cc96",
           "#ab63fa",
           "#FFA15A",
           "#19d3f3",
           "#FF6692",
           "#B6E880",
           "#FF97FF",
           "#FECB52"
          ],
          "font": {
           "color": "#2a3f5f"
          },
          "geo": {
           "bgcolor": "white",
           "lakecolor": "white",
           "landcolor": "#E5ECF6",
           "showlakes": true,
           "showland": true,
           "subunitcolor": "white"
          },
          "hoverlabel": {
           "align": "left"
          },
          "hovermode": "closest",
          "mapbox": {
           "style": "light"
          },
          "paper_bgcolor": "white",
          "plot_bgcolor": "#E5ECF6",
          "polar": {
           "angularaxis": {
            "gridcolor": "white",
            "linecolor": "white",
            "ticks": ""
           },
           "bgcolor": "#E5ECF6",
           "radialaxis": {
            "gridcolor": "white",
            "linecolor": "white",
            "ticks": ""
           }
          },
          "scene": {
           "xaxis": {
            "backgroundcolor": "#E5ECF6",
            "gridcolor": "white",
            "gridwidth": 2,
            "linecolor": "white",
            "showbackground": true,
            "ticks": "",
            "zerolinecolor": "white"
           },
           "yaxis": {
            "backgroundcolor": "#E5ECF6",
            "gridcolor": "white",
            "gridwidth": 2,
            "linecolor": "white",
            "showbackground": true,
            "ticks": "",
            "zerolinecolor": "white"
           },
           "zaxis": {
            "backgroundcolor": "#E5ECF6",
            "gridcolor": "white",
            "gridwidth": 2,
            "linecolor": "white",
            "showbackground": true,
            "ticks": "",
            "zerolinecolor": "white"
           }
          },
          "shapedefaults": {
           "line": {
            "color": "#2a3f5f"
           }
          },
          "ternary": {
           "aaxis": {
            "gridcolor": "white",
            "linecolor": "white",
            "ticks": ""
           },
           "baxis": {
            "gridcolor": "white",
            "linecolor": "white",
            "ticks": ""
           },
           "bgcolor": "#E5ECF6",
           "caxis": {
            "gridcolor": "white",
            "linecolor": "white",
            "ticks": ""
           }
          },
          "title": {
           "x": 0.05
          },
          "xaxis": {
           "automargin": true,
           "gridcolor": "white",
           "linecolor": "white",
           "ticks": "",
           "title": {
            "standoff": 15
           },
           "zerolinecolor": "white",
           "zerolinewidth": 2
          },
          "yaxis": {
           "automargin": true,
           "gridcolor": "white",
           "linecolor": "white",
           "ticks": "",
           "title": {
            "standoff": 15
           },
           "zerolinecolor": "white",
           "zerolinewidth": 2
          }
         }
        },
        "title": {
         "text": "Rejected Loan Application Loan: Box Plot nPaidOff"
        },
        "xaxis": {
         "anchor": "y",
         "domain": [
          0,
          1
         ]
        },
        "yaxis": {
         "anchor": "x",
         "domain": [
          0,
          1
         ],
         "title": {
          "text": "nPaidOff"
         }
        }
       }
      }
     },
     "metadata": {},
     "output_type": "display_data"
    }
   ],
   "source": [
    "fig = px.box(rejected_loan, y='nPaidOff', title='Rejected Loan Application Loan: Box Plot nPaidOff')\n",
    "\n",
    "# Show the plot\n",
    "fig.show()"
   ]
  },
  {
   "cell_type": "markdown",
   "metadata": {},
   "source": [
    "Now we see that from the box plot that most applicant got rejected because they dont have history of payback loan, most of them have 0 nPaidOff. this might give the loaner some insecurities if the borrower can pay back the money."
   ]
  },
  {
   "cell_type": "code",
   "execution_count": 21,
   "metadata": {},
   "outputs": [
    {
     "data": {
      "application/vnd.plotly.v1+json": {
       "config": {
        "plotlyServerURL": "https://plot.ly"
       },
       "data": [
        {
         "domain": {
          "x": [
           0,
           1
          ],
          "y": [
           0,
           1
          ]
         },
         "hole": 0.5,
         "hovertemplate": "approved=%{label}<br>Expected Revenue=%{value}<extra></extra>",
         "labels": [
          true,
          false
         ],
         "legendgroup": "",
         "name": "",
         "showlegend": true,
         "type": "pie",
         "values": [
          7506444.85,
          58166145.185628
         ]
        }
       ],
       "layout": {
        "legend": {
         "tracegroupgap": 0
        },
        "template": {
         "data": {
          "bar": [
           {
            "error_x": {
             "color": "#2a3f5f"
            },
            "error_y": {
             "color": "#2a3f5f"
            },
            "marker": {
             "line": {
              "color": "#E5ECF6",
              "width": 0.5
             },
             "pattern": {
              "fillmode": "overlay",
              "size": 10,
              "solidity": 0.2
             }
            },
            "type": "bar"
           }
          ],
          "barpolar": [
           {
            "marker": {
             "line": {
              "color": "#E5ECF6",
              "width": 0.5
             },
             "pattern": {
              "fillmode": "overlay",
              "size": 10,
              "solidity": 0.2
             }
            },
            "type": "barpolar"
           }
          ],
          "carpet": [
           {
            "aaxis": {
             "endlinecolor": "#2a3f5f",
             "gridcolor": "white",
             "linecolor": "white",
             "minorgridcolor": "white",
             "startlinecolor": "#2a3f5f"
            },
            "baxis": {
             "endlinecolor": "#2a3f5f",
             "gridcolor": "white",
             "linecolor": "white",
             "minorgridcolor": "white",
             "startlinecolor": "#2a3f5f"
            },
            "type": "carpet"
           }
          ],
          "choropleth": [
           {
            "colorbar": {
             "outlinewidth": 0,
             "ticks": ""
            },
            "type": "choropleth"
           }
          ],
          "contour": [
           {
            "colorbar": {
             "outlinewidth": 0,
             "ticks": ""
            },
            "colorscale": [
             [
              0,
              "#0d0887"
             ],
             [
              0.1111111111111111,
              "#46039f"
             ],
             [
              0.2222222222222222,
              "#7201a8"
             ],
             [
              0.3333333333333333,
              "#9c179e"
             ],
             [
              0.4444444444444444,
              "#bd3786"
             ],
             [
              0.5555555555555556,
              "#d8576b"
             ],
             [
              0.6666666666666666,
              "#ed7953"
             ],
             [
              0.7777777777777778,
              "#fb9f3a"
             ],
             [
              0.8888888888888888,
              "#fdca26"
             ],
             [
              1,
              "#f0f921"
             ]
            ],
            "type": "contour"
           }
          ],
          "contourcarpet": [
           {
            "colorbar": {
             "outlinewidth": 0,
             "ticks": ""
            },
            "type": "contourcarpet"
           }
          ],
          "heatmap": [
           {
            "colorbar": {
             "outlinewidth": 0,
             "ticks": ""
            },
            "colorscale": [
             [
              0,
              "#0d0887"
             ],
             [
              0.1111111111111111,
              "#46039f"
             ],
             [
              0.2222222222222222,
              "#7201a8"
             ],
             [
              0.3333333333333333,
              "#9c179e"
             ],
             [
              0.4444444444444444,
              "#bd3786"
             ],
             [
              0.5555555555555556,
              "#d8576b"
             ],
             [
              0.6666666666666666,
              "#ed7953"
             ],
             [
              0.7777777777777778,
              "#fb9f3a"
             ],
             [
              0.8888888888888888,
              "#fdca26"
             ],
             [
              1,
              "#f0f921"
             ]
            ],
            "type": "heatmap"
           }
          ],
          "heatmapgl": [
           {
            "colorbar": {
             "outlinewidth": 0,
             "ticks": ""
            },
            "colorscale": [
             [
              0,
              "#0d0887"
             ],
             [
              0.1111111111111111,
              "#46039f"
             ],
             [
              0.2222222222222222,
              "#7201a8"
             ],
             [
              0.3333333333333333,
              "#9c179e"
             ],
             [
              0.4444444444444444,
              "#bd3786"
             ],
             [
              0.5555555555555556,
              "#d8576b"
             ],
             [
              0.6666666666666666,
              "#ed7953"
             ],
             [
              0.7777777777777778,
              "#fb9f3a"
             ],
             [
              0.8888888888888888,
              "#fdca26"
             ],
             [
              1,
              "#f0f921"
             ]
            ],
            "type": "heatmapgl"
           }
          ],
          "histogram": [
           {
            "marker": {
             "pattern": {
              "fillmode": "overlay",
              "size": 10,
              "solidity": 0.2
             }
            },
            "type": "histogram"
           }
          ],
          "histogram2d": [
           {
            "colorbar": {
             "outlinewidth": 0,
             "ticks": ""
            },
            "colorscale": [
             [
              0,
              "#0d0887"
             ],
             [
              0.1111111111111111,
              "#46039f"
             ],
             [
              0.2222222222222222,
              "#7201a8"
             ],
             [
              0.3333333333333333,
              "#9c179e"
             ],
             [
              0.4444444444444444,
              "#bd3786"
             ],
             [
              0.5555555555555556,
              "#d8576b"
             ],
             [
              0.6666666666666666,
              "#ed7953"
             ],
             [
              0.7777777777777778,
              "#fb9f3a"
             ],
             [
              0.8888888888888888,
              "#fdca26"
             ],
             [
              1,
              "#f0f921"
             ]
            ],
            "type": "histogram2d"
           }
          ],
          "histogram2dcontour": [
           {
            "colorbar": {
             "outlinewidth": 0,
             "ticks": ""
            },
            "colorscale": [
             [
              0,
              "#0d0887"
             ],
             [
              0.1111111111111111,
              "#46039f"
             ],
             [
              0.2222222222222222,
              "#7201a8"
             ],
             [
              0.3333333333333333,
              "#9c179e"
             ],
             [
              0.4444444444444444,
              "#bd3786"
             ],
             [
              0.5555555555555556,
              "#d8576b"
             ],
             [
              0.6666666666666666,
              "#ed7953"
             ],
             [
              0.7777777777777778,
              "#fb9f3a"
             ],
             [
              0.8888888888888888,
              "#fdca26"
             ],
             [
              1,
              "#f0f921"
             ]
            ],
            "type": "histogram2dcontour"
           }
          ],
          "mesh3d": [
           {
            "colorbar": {
             "outlinewidth": 0,
             "ticks": ""
            },
            "type": "mesh3d"
           }
          ],
          "parcoords": [
           {
            "line": {
             "colorbar": {
              "outlinewidth": 0,
              "ticks": ""
             }
            },
            "type": "parcoords"
           }
          ],
          "pie": [
           {
            "automargin": true,
            "type": "pie"
           }
          ],
          "scatter": [
           {
            "fillpattern": {
             "fillmode": "overlay",
             "size": 10,
             "solidity": 0.2
            },
            "type": "scatter"
           }
          ],
          "scatter3d": [
           {
            "line": {
             "colorbar": {
              "outlinewidth": 0,
              "ticks": ""
             }
            },
            "marker": {
             "colorbar": {
              "outlinewidth": 0,
              "ticks": ""
             }
            },
            "type": "scatter3d"
           }
          ],
          "scattercarpet": [
           {
            "marker": {
             "colorbar": {
              "outlinewidth": 0,
              "ticks": ""
             }
            },
            "type": "scattercarpet"
           }
          ],
          "scattergeo": [
           {
            "marker": {
             "colorbar": {
              "outlinewidth": 0,
              "ticks": ""
             }
            },
            "type": "scattergeo"
           }
          ],
          "scattergl": [
           {
            "marker": {
             "colorbar": {
              "outlinewidth": 0,
              "ticks": ""
             }
            },
            "type": "scattergl"
           }
          ],
          "scattermapbox": [
           {
            "marker": {
             "colorbar": {
              "outlinewidth": 0,
              "ticks": ""
             }
            },
            "type": "scattermapbox"
           }
          ],
          "scatterpolar": [
           {
            "marker": {
             "colorbar": {
              "outlinewidth": 0,
              "ticks": ""
             }
            },
            "type": "scatterpolar"
           }
          ],
          "scatterpolargl": [
           {
            "marker": {
             "colorbar": {
              "outlinewidth": 0,
              "ticks": ""
             }
            },
            "type": "scatterpolargl"
           }
          ],
          "scatterternary": [
           {
            "marker": {
             "colorbar": {
              "outlinewidth": 0,
              "ticks": ""
             }
            },
            "type": "scatterternary"
           }
          ],
          "surface": [
           {
            "colorbar": {
             "outlinewidth": 0,
             "ticks": ""
            },
            "colorscale": [
             [
              0,
              "#0d0887"
             ],
             [
              0.1111111111111111,
              "#46039f"
             ],
             [
              0.2222222222222222,
              "#7201a8"
             ],
             [
              0.3333333333333333,
              "#9c179e"
             ],
             [
              0.4444444444444444,
              "#bd3786"
             ],
             [
              0.5555555555555556,
              "#d8576b"
             ],
             [
              0.6666666666666666,
              "#ed7953"
             ],
             [
              0.7777777777777778,
              "#fb9f3a"
             ],
             [
              0.8888888888888888,
              "#fdca26"
             ],
             [
              1,
              "#f0f921"
             ]
            ],
            "type": "surface"
           }
          ],
          "table": [
           {
            "cells": {
             "fill": {
              "color": "#EBF0F8"
             },
             "line": {
              "color": "white"
             }
            },
            "header": {
             "fill": {
              "color": "#C8D4E3"
             },
             "line": {
              "color": "white"
             }
            },
            "type": "table"
           }
          ]
         },
         "layout": {
          "annotationdefaults": {
           "arrowcolor": "#2a3f5f",
           "arrowhead": 0,
           "arrowwidth": 1
          },
          "autotypenumbers": "strict",
          "coloraxis": {
           "colorbar": {
            "outlinewidth": 0,
            "ticks": ""
           }
          },
          "colorscale": {
           "diverging": [
            [
             0,
             "#8e0152"
            ],
            [
             0.1,
             "#c51b7d"
            ],
            [
             0.2,
             "#de77ae"
            ],
            [
             0.3,
             "#f1b6da"
            ],
            [
             0.4,
             "#fde0ef"
            ],
            [
             0.5,
             "#f7f7f7"
            ],
            [
             0.6,
             "#e6f5d0"
            ],
            [
             0.7,
             "#b8e186"
            ],
            [
             0.8,
             "#7fbc41"
            ],
            [
             0.9,
             "#4d9221"
            ],
            [
             1,
             "#276419"
            ]
           ],
           "sequential": [
            [
             0,
             "#0d0887"
            ],
            [
             0.1111111111111111,
             "#46039f"
            ],
            [
             0.2222222222222222,
             "#7201a8"
            ],
            [
             0.3333333333333333,
             "#9c179e"
            ],
            [
             0.4444444444444444,
             "#bd3786"
            ],
            [
             0.5555555555555556,
             "#d8576b"
            ],
            [
             0.6666666666666666,
             "#ed7953"
            ],
            [
             0.7777777777777778,
             "#fb9f3a"
            ],
            [
             0.8888888888888888,
             "#fdca26"
            ],
            [
             1,
             "#f0f921"
            ]
           ],
           "sequentialminus": [
            [
             0,
             "#0d0887"
            ],
            [
             0.1111111111111111,
             "#46039f"
            ],
            [
             0.2222222222222222,
             "#7201a8"
            ],
            [
             0.3333333333333333,
             "#9c179e"
            ],
            [
             0.4444444444444444,
             "#bd3786"
            ],
            [
             0.5555555555555556,
             "#d8576b"
            ],
            [
             0.6666666666666666,
             "#ed7953"
            ],
            [
             0.7777777777777778,
             "#fb9f3a"
            ],
            [
             0.8888888888888888,
             "#fdca26"
            ],
            [
             1,
             "#f0f921"
            ]
           ]
          },
          "colorway": [
           "#636efa",
           "#EF553B",
           "#00cc96",
           "#ab63fa",
           "#FFA15A",
           "#19d3f3",
           "#FF6692",
           "#B6E880",
           "#FF97FF",
           "#FECB52"
          ],
          "font": {
           "color": "#2a3f5f"
          },
          "geo": {
           "bgcolor": "white",
           "lakecolor": "white",
           "landcolor": "#E5ECF6",
           "showlakes": true,
           "showland": true,
           "subunitcolor": "white"
          },
          "hoverlabel": {
           "align": "left"
          },
          "hovermode": "closest",
          "mapbox": {
           "style": "light"
          },
          "paper_bgcolor": "white",
          "plot_bgcolor": "#E5ECF6",
          "polar": {
           "angularaxis": {
            "gridcolor": "white",
            "linecolor": "white",
            "ticks": ""
           },
           "bgcolor": "#E5ECF6",
           "radialaxis": {
            "gridcolor": "white",
            "linecolor": "white",
            "ticks": ""
           }
          },
          "scene": {
           "xaxis": {
            "backgroundcolor": "#E5ECF6",
            "gridcolor": "white",
            "gridwidth": 2,
            "linecolor": "white",
            "showbackground": true,
            "ticks": "",
            "zerolinecolor": "white"
           },
           "yaxis": {
            "backgroundcolor": "#E5ECF6",
            "gridcolor": "white",
            "gridwidth": 2,
            "linecolor": "white",
            "showbackground": true,
            "ticks": "",
            "zerolinecolor": "white"
           },
           "zaxis": {
            "backgroundcolor": "#E5ECF6",
            "gridcolor": "white",
            "gridwidth": 2,
            "linecolor": "white",
            "showbackground": true,
            "ticks": "",
            "zerolinecolor": "white"
           }
          },
          "shapedefaults": {
           "line": {
            "color": "#2a3f5f"
           }
          },
          "ternary": {
           "aaxis": {
            "gridcolor": "white",
            "linecolor": "white",
            "ticks": ""
           },
           "baxis": {
            "gridcolor": "white",
            "linecolor": "white",
            "ticks": ""
           },
           "bgcolor": "#E5ECF6",
           "caxis": {
            "gridcolor": "white",
            "linecolor": "white",
            "ticks": ""
           }
          },
          "title": {
           "x": 0.05
          },
          "xaxis": {
           "automargin": true,
           "gridcolor": "white",
           "linecolor": "white",
           "ticks": "",
           "title": {
            "standoff": 15
           },
           "zerolinecolor": "white",
           "zerolinewidth": 2
          },
          "yaxis": {
           "automargin": true,
           "gridcolor": "white",
           "linecolor": "white",
           "ticks": "",
           "title": {
            "standoff": 15
           },
           "zerolinecolor": "white",
           "zerolinewidth": 2
          }
         }
        },
        "title": {
         "text": "Comparison Sum Reejcted and Approved Application for Expected Revenue"
        }
       }
      }
     },
     "metadata": {},
     "output_type": "display_data"
    }
   ],
   "source": [
    "# Data for the donut chart\n",
    "data = {\n",
    "    'approved': [True, False],\n",
    "    'Expected Revenue': [sum_rejected_scheduled_payment_amount, sum_scheduled_payment_amount]\n",
    "}\n",
    "\n",
    "# Create a DataFrame\n",
    "df = pd.DataFrame(data)\n",
    "\n",
    "# Plotting a donut chart using Plotly Express\n",
    "fig_donut = px.pie(df, names='approved', values='Expected Revenue', hole=0.5,\n",
    "             title='Comparison Sum Reejcted and Approved Application for Expected Revenue')\n",
    "fig_donut.show()"
   ]
  },
  {
   "cell_type": "markdown",
   "metadata": {},
   "source": [
    "While it is regrettable that bank cannot make more money, but seen from the donut graph above, its not that bad as rejected application will result in 11.4% of total possible revenue if whole loan is approved. but of course in term of big money, the 11% is actually hugh sum of money with more than 7 half Millions USD."
   ]
  },
  {
   "cell_type": "markdown",
   "metadata": {},
   "source": [
    "### Data Preparation"
   ]
  },
  {
   "cell_type": "markdown",
   "metadata": {},
   "source": [
    "Now we will do some data preparation to prepare the data to do cluster analysis. the objective for the cluster is to group the good and bad loan ie risk of the loan, either it is a good risk loan or not."
   ]
  },
  {
   "cell_type": "code",
   "execution_count": 22,
   "metadata": {},
   "outputs": [
    {
     "data": {
      "text/plain": [
       "loanId                               True\n",
       "anon_ssn                            False\n",
       "payFrequency                         True\n",
       "apr                                  True\n",
       "applicationDate                     False\n",
       "originated                          False\n",
       "originatedDate                       True\n",
       "nPaidOff                             True\n",
       "approved                            False\n",
       "isFunded                            False\n",
       "loanStatus                           True\n",
       "loanAmount                           True\n",
       "originallyScheduledPaymentAmount    False\n",
       "state                                True\n",
       "leadType                            False\n",
       "leadCost                            False\n",
       "fpStatus                             True\n",
       "underwritingid                      False\n",
       "clearfraudscore                      True\n",
       "dtype: bool"
      ]
     },
     "execution_count": 22,
     "metadata": {},
     "output_type": "execute_result"
    }
   ],
   "source": [
    "#  find out which column have the null value\n",
    "merged_loan_data.isnull().any()"
   ]
  },
  {
   "cell_type": "code",
   "execution_count": 23,
   "metadata": {},
   "outputs": [
    {
     "name": "stdout",
     "output_type": "stream",
     "text": [
      "fpStatus\n",
      "False    32456\n",
      "True      3878\n",
      "Name: count, dtype: int64\n",
      "state\n",
      "False    36320\n",
      "True        14\n",
      "Name: count, dtype: int64\n",
      "loanAmount\n",
      "False    36317\n",
      "True        17\n",
      "Name: count, dtype: int64\n",
      "loanStatus\n",
      "False    36323\n",
      "True        11\n",
      "Name: count, dtype: int64\n",
      "nPaidOff\n",
      "False    36332\n",
      "True         2\n",
      "Name: count, dtype: int64\n",
      "payFrequency\n",
      "False    36230\n",
      "True       104\n",
      "Name: count, dtype: int64\n",
      "apr\n",
      "False    36317\n",
      "True        17\n",
      "Name: count, dtype: int64\n",
      "clearfraudscore\n",
      "False    36225\n",
      "True       109\n",
      "Name: count, dtype: int64\n"
     ]
    }
   ],
   "source": [
    "print(merged_loan_data['fpStatus'].isnull().value_counts())\n",
    "print(merged_loan_data['state'].isnull().value_counts())\n",
    "print(merged_loan_data['loanAmount'].isnull().value_counts())\n",
    "print(merged_loan_data['loanStatus'].isnull().value_counts())\n",
    "print(merged_loan_data['nPaidOff'].isnull().value_counts())\n",
    "print(merged_loan_data['payFrequency'].isnull().value_counts())\n",
    "print(merged_loan_data['apr'].isnull().value_counts())\n",
    "print(merged_loan_data['clearfraudscore'].isnull().value_counts())"
   ]
  },
  {
   "cell_type": "code",
   "execution_count": 24,
   "metadata": {},
   "outputs": [],
   "source": [
    "# Fill in null values with N/A for those categorical variables\n",
    "merged_loan_data['fpStatus'].fillna('N/A', inplace=True)\n",
    "merged_loan_data['loanStatus'].fillna('N/A', inplace=True)\n",
    "merged_loan_data['payFrequency'].fillna('N/A', inplace=True)"
   ]
  },
  {
   "cell_type": "code",
   "execution_count": 25,
   "metadata": {},
   "outputs": [],
   "source": [
    "# we will just drop the null values for those numerical value, we dont have any metrics to replace the null value with the possible value.\n",
    "merged_loan_data = merged_loan_data.dropna(subset=['state', 'loanAmount', 'nPaidOff', 'apr', 'clearfraudscore'])"
   ]
  },
  {
   "cell_type": "markdown",
   "metadata": {},
   "source": [
    "#### Clustering Analysis"
   ]
  },
  {
   "cell_type": "markdown",
   "metadata": {},
   "source": [
    "I will be using KPrototypes algorithm to do the clustering. K-Prototypes is a lesser known sibling for K-means but offers an advantage of working with mixed data types. It measures distance between numerical features using Euclidean distance (like K-means) but also measure the distance between categorical features using the number of matching categories."
   ]
  },
  {
   "cell_type": "code",
   "execution_count": 27,
   "metadata": {},
   "outputs": [
    {
     "data": {
      "text/plain": [
       "0    22132\n",
       "1    14060\n",
       "Name: count, dtype: int64"
      ]
     },
     "execution_count": 27,
     "metadata": {},
     "output_type": "execute_result"
    }
   ],
   "source": [
    "kprot_data = merged_loan_data.copy()\n",
    "# Remove IDs and highly correlated columns\n",
    "kprot_data = kprot_data.drop(columns=['applicationDate', 'originatedDate', 'underwritingid', 'anon_ssn', 'loanId', 'originated', 'fpStatus', 'loanStatus', 'isFunded', 'approved'], axis=1)\n",
    "\n",
    "#Pre-processing\n",
    "for c in kprot_data.select_dtypes(exclude='object').columns:\n",
    "    pt = PowerTransformer()\n",
    "    kprot_data[c] =  pt.fit_transform(np.array(kprot_data[c]).reshape(-1, 1))\n",
    "\n",
    "categorical_columns = [0, 5, 6]\n",
    "\n",
    "#Actual clustering\n",
    "kproto = KPrototypes(n_clusters= 2, init='Cao', n_jobs = 5)\n",
    "proto_clusters = kproto.fit_predict(kprot_data, categorical=categorical_columns)\n",
    "\n",
    "#Prints the count of each cluster group\n",
    "pd.Series(proto_clusters).value_counts()"
   ]
  },
  {
   "cell_type": "markdown",
   "metadata": {},
   "source": [
    "Here we got that we have cluster 0 with more than 22 thousands value while cluster 1 is more than 14 thousands value. having our hypothesis earlier, where approved is the good risk loan, we will map it with 0."
   ]
  },
  {
   "cell_type": "markdown",
   "metadata": {},
   "source": [
    "##### Visualization for Clustering"
   ]
  },
  {
   "cell_type": "markdown",
   "metadata": {},
   "source": [
    "we will see the visualization for this clustering and see hwo it looks like."
   ]
  },
  {
   "cell_type": "code",
   "execution_count": 28,
   "metadata": {},
   "outputs": [
    {
     "data": {
      "image/png": "[encoded data removed]",
      "text/plain": [
       "<Figure size 640x480 with 2 Axes>"
      ]
     },
     "metadata": {},
     "output_type": "display_data"
    }
   ],
   "source": [
    "from sklearn.decomposition import PCA\n",
    "import matplotlib.pyplot as plt\n",
    "\n",
    "# select numerical data\n",
    "numerical = kprot_data.select_dtypes(exclude='object')\n",
    "\n",
    "for c in kprot_data.columns:\n",
    "    kprot_data.loc[:, c] = np.array(kprot_data[c]).reshape(-1, 1)\n",
    "    \n",
    "##preprocessing categorical\n",
    "categorical = kprot_data.select_dtypes(include='object')\n",
    "categorical = pd.get_dummies(categorical)\n",
    "\n",
    "# Concatenate numerical and preprocessed categorical columns\n",
    "processed_data = pd.concat([numerical, categorical], axis=1)\n",
    "\n",
    "# Assuming kprot_data has already been preprocessed (numerical columns transformed)\n",
    "pca = PCA(n_components=2)  # You can set n_components=3 for 3D visualization\n",
    "reduced_data = pca.fit_transform(processed_data)\n",
    "\n",
    "plt.scatter(reduced_data[:, 0], reduced_data[:, 1], c=proto_clusters, cmap='viridis')\n",
    "plt.title('Clusters Visualized with PCA')\n",
    "plt.xlabel('Principal Component 1')\n",
    "plt.ylabel('Principal Component 2')\n",
    "plt.colorbar(label='Cluster')\n",
    "plt.show()"
   ]
  },
  {
   "cell_type": "markdown",
   "metadata": {},
   "source": [
    "we can see that it have a good clustering classes as the color is distinguishable from each other. they equally distributed with clear boundries."
   ]
  },
  {
   "cell_type": "markdown",
   "metadata": {},
   "source": [
    "#### Accuracy Metrics for Clustering"
   ]
  },
  {
   "cell_type": "markdown",
   "metadata": {},
   "source": [
    "we will try to see the accuracy metrics for the clustering. Another comparison that I’m going to do is by treating the clusters as labels and building a classification model on top. If the clusters are of high quality, the classification model will be able to predict them with high accuracy. At the same time, the models should use a variety of features to ensure that the clusters are not too simplistic. Overall, I’ll check the following attributes:\n",
    "\n",
    "Distinctivness of clusters by cross-validated F1 score\n",
    "Informativness of clusters by SHAP feature importances\n",
    "I will use LightGBM as my classifier because it can use categorical features and you can easily get the SHAP values for the trained models."
   ]
  },
  {
   "cell_type": "code",
   "execution_count": 29,
   "metadata": {},
   "outputs": [
    {
     "name": "stdout",
     "output_type": "stream",
     "text": [
      "[LightGBM] [Warning] Unknown parameter: colsample_by_tree\n",
      "[LightGBM] [Warning] Unknown parameter: colsample_by_tree\n",
      "[LightGBM] [Info] Number of positive: 11248, number of negative: 17705\n",
      "[LightGBM] [Info] Auto-choosing row-wise multi-threading, the overhead of testing was 0.000245 seconds.\n",
      "You can set `force_row_wise=true` to remove the overhead.\n",
      "And if memory is not enough, you can set `force_col_wise=true`.\n",
      "[LightGBM] [Info] Total Bins 810\n",
      "[LightGBM] [Info] Number of data points in the train set: 28953, number of used features: 57\n",
      "[LightGBM] [Info] [binary:BoostFromScore]: pavg=0.388492 -> initscore=-0.453657\n",
      "[LightGBM] [Info] Start training from score -0.453657\n",
      "[LightGBM] [Warning] Unknown parameter: colsample_by_tree\n",
      "[LightGBM] [Warning] Unknown parameter: colsample_by_tree\n",
      "[LightGBM] [Warning] Unknown parameter: colsample_by_tree\n",
      "[LightGBM] [Info] Number of positive: 11248, number of negative: 17705\n",
      "[LightGBM] [Info] Auto-choosing row-wise multi-threading, the overhead of testing was 0.000204 seconds.\n",
      "You can set `force_row_wise=true` to remove the overhead.\n",
      "And if memory is not enough, you can set `force_col_wise=true`.\n",
      "[LightGBM] [Info] Total Bins 810\n",
      "[LightGBM] [Info] Number of data points in the train set: 28953, number of used features: 57\n",
      "[LightGBM] [Info] [binary:BoostFromScore]: pavg=0.388492 -> initscore=-0.453657\n",
      "[LightGBM] [Info] Start training from score -0.453657\n",
      "[LightGBM] [Warning] Unknown parameter: colsample_by_tree\n",
      "[LightGBM] [Warning] Unknown parameter: colsample_by_tree\n",
      "[LightGBM] [Warning] Unknown parameter: colsample_by_tree\n",
      "[LightGBM] [Info] Number of positive: 11248, number of negative: 17706\n",
      "[LightGBM] [Info] Auto-choosing row-wise multi-threading, the overhead of testing was 0.000206 seconds.\n",
      "You can set `force_row_wise=true` to remove the overhead.\n",
      "And if memory is not enough, you can set `force_col_wise=true`.\n",
      "[LightGBM] [Info] Total Bins 820\n",
      "[LightGBM] [Info] Number of data points in the train set: 28954, number of used features: 57\n",
      "[LightGBM] [Info] [binary:BoostFromScore]: pavg=0.388478 -> initscore=-0.453713\n",
      "[LightGBM] [Info] Start training from score -0.453713\n",
      "[LightGBM] [Warning] Unknown parameter: colsample_by_tree\n",
      "[LightGBM] [Warning] Unknown parameter: colsample_by_tree\n",
      "[LightGBM] [Warning] Unknown parameter: colsample_by_tree\n",
      "[LightGBM] [Info] Number of positive: 11248, number of negative: 17706\n",
      "[LightGBM] [Info] Auto-choosing row-wise multi-threading, the overhead of testing was 0.000212 seconds.\n",
      "You can set `force_row_wise=true` to remove the overhead.\n",
      "And if memory is not enough, you can set `force_col_wise=true`.\n",
      "[LightGBM] [Info] Total Bins 821\n",
      "[LightGBM] [Info] Number of data points in the train set: 28954, number of used features: 57\n",
      "[LightGBM] [Info] [binary:BoostFromScore]: pavg=0.388478 -> initscore=-0.453713\n",
      "[LightGBM] [Info] Start training from score -0.453713\n",
      "[LightGBM] [Warning] Unknown parameter: colsample_by_tree\n",
      "[LightGBM] [Warning] Unknown parameter: colsample_by_tree\n",
      "[LightGBM] [Warning] Unknown parameter: colsample_by_tree\n",
      "[LightGBM] [Info] Number of positive: 11248, number of negative: 17706\n",
      "[LightGBM] [Info] Auto-choosing row-wise multi-threading, the overhead of testing was 0.000203 seconds.\n",
      "You can set `force_row_wise=true` to remove the overhead.\n",
      "And if memory is not enough, you can set `force_col_wise=true`.\n",
      "[LightGBM] [Info] Total Bins 822\n",
      "[LightGBM] [Info] Number of data points in the train set: 28954, number of used features: 57\n",
      "[LightGBM] [Info] [binary:BoostFromScore]: pavg=0.388478 -> initscore=-0.453713\n",
      "[LightGBM] [Info] Start training from score -0.453713\n",
      "[LightGBM] [Warning] Unknown parameter: colsample_by_tree\n"
     ]
    }
   ],
   "source": [
    "lgbm_data = processed_data.copy()\n",
    "clf_kp = lgb.LGBMClassifier(colsample_by_tree=0.8)\n",
    "cv_scores_kp = cross_val_score(clf_kp, lgbm_data, proto_clusters, scoring='f1_weighted')"
   ]
  },
  {
   "cell_type": "code",
   "execution_count": 30,
   "metadata": {},
   "outputs": [
    {
     "name": "stdout",
     "output_type": "stream",
     "text": [
      "CV F1 score for K-Prototypes clusters is 0.9930377880189273\n"
     ]
    }
   ],
   "source": [
    "print(f'CV F1 score for K-Prototypes clusters is {np.mean(cv_scores_kp)}')"
   ]
  },
  {
   "cell_type": "markdown",
   "metadata": {},
   "source": [
    "the score of 0.99 is high enough to conclude that K-Prototypes clusters are meaningful and distinguishable. To determine if the clusters are also distinct and informative, we need to look at SHAP values for this classifier."
   ]
  },
  {
   "cell_type": "code",
   "execution_count": 31,
   "metadata": {},
   "outputs": [
    {
     "data": {
      "text/html": [
       "<div>\n",
       "<style scoped>\n",
       "    .dataframe tbody tr th:only-of-type {\n",
       "        vertical-align: middle;\n",
       "    }\n",
       "\n",
       "    .dataframe tbody tr th {\n",
       "        vertical-align: top;\n",
       "    }\n",
       "\n",
       "    .dataframe thead th {\n",
       "        text-align: right;\n",
       "    }\n",
       "</style>\n",
       "<table border=\"1\" class=\"dataframe\">\n",
       "  <thead>\n",
       "    <tr style=\"text-align: right;\">\n",
       "      <th></th>\n",
       "      <th>loanId</th>\n",
       "      <th>anon_ssn</th>\n",
       "      <th>payFrequency</th>\n",
       "      <th>apr</th>\n",
       "      <th>applicationDate</th>\n",
       "      <th>originated</th>\n",
       "      <th>originatedDate</th>\n",
       "      <th>nPaidOff</th>\n",
       "      <th>approved</th>\n",
       "      <th>isFunded</th>\n",
       "      <th>loanStatus</th>\n",
       "      <th>loanAmount</th>\n",
       "      <th>originallyScheduledPaymentAmount</th>\n",
       "      <th>state</th>\n",
       "      <th>leadType</th>\n",
       "      <th>leadCost</th>\n",
       "      <th>fpStatus</th>\n",
       "      <th>underwritingid</th>\n",
       "      <th>clearfraudscore</th>\n",
       "      <th>Cluster</th>\n",
       "    </tr>\n",
       "  </thead>\n",
       "  <tbody>\n",
       "    <tr>\n",
       "      <th>36329</th>\n",
       "      <td>LL-I-17508871</td>\n",
       "      <td>f0b666fdd1b46c58297b3828b61047ad</td>\n",
       "      <td>M</td>\n",
       "      <td>180.2</td>\n",
       "      <td>2017-02-21T20:29:57.538000</td>\n",
       "      <td>True</td>\n",
       "      <td>2017-02-21T20:45:06.563000</td>\n",
       "      <td>0.0</td>\n",
       "      <td>True</td>\n",
       "      <td>1</td>\n",
       "      <td>Returned Item</td>\n",
       "      <td>500.0</td>\n",
       "      <td>794.60</td>\n",
       "      <td>CO</td>\n",
       "      <td>lead</td>\n",
       "      <td>25</td>\n",
       "      <td>Rejected</td>\n",
       "      <td>58aca342e4b0bf804c0e82db</td>\n",
       "      <td>695.0</td>\n",
       "      <td>0</td>\n",
       "    </tr>\n",
       "    <tr>\n",
       "      <th>36330</th>\n",
       "      <td>LL-I-15280684</td>\n",
       "      <td>73690518af906288434b2a0cfd972fe0</td>\n",
       "      <td>M</td>\n",
       "      <td>645.0</td>\n",
       "      <td>2017-01-14T19:43:08.685000</td>\n",
       "      <td>True</td>\n",
       "      <td>2017-01-14T20:00:10.426000</td>\n",
       "      <td>0.0</td>\n",
       "      <td>True</td>\n",
       "      <td>1</td>\n",
       "      <td>Paid Off Loan</td>\n",
       "      <td>375.0</td>\n",
       "      <td>1042.40</td>\n",
       "      <td>AL</td>\n",
       "      <td>lead</td>\n",
       "      <td>25</td>\n",
       "      <td>Checked</td>\n",
       "      <td>587a7f49e4b08f2485d48358</td>\n",
       "      <td>700.0</td>\n",
       "      <td>0</td>\n",
       "    </tr>\n",
       "    <tr>\n",
       "      <th>36331</th>\n",
       "      <td>LL-I-09897110</td>\n",
       "      <td>0538f828b4a0b44502ead5a8033ee779</td>\n",
       "      <td>B</td>\n",
       "      <td>449.0</td>\n",
       "      <td>2016-06-22T01:10:50.110000</td>\n",
       "      <td>True</td>\n",
       "      <td>2016-06-22T21:46:54.359000</td>\n",
       "      <td>0.0</td>\n",
       "      <td>True</td>\n",
       "      <td>1</td>\n",
       "      <td>Paid Off Loan</td>\n",
       "      <td>400.0</td>\n",
       "      <td>664.12</td>\n",
       "      <td>WI</td>\n",
       "      <td>lead</td>\n",
       "      <td>40</td>\n",
       "      <td>Checked</td>\n",
       "      <td>5769e592e4b0ab6c50364d45</td>\n",
       "      <td>806.0</td>\n",
       "      <td>0</td>\n",
       "    </tr>\n",
       "    <tr>\n",
       "      <th>36332</th>\n",
       "      <td>LL-I-14178923</td>\n",
       "      <td>d9a63e9e15b862fcaaf3653c52e1f16c</td>\n",
       "      <td>B</td>\n",
       "      <td>625.0</td>\n",
       "      <td>2016-12-30T15:49:39.785000</td>\n",
       "      <td>True</td>\n",
       "      <td>2016-12-30T16:00:12.500000</td>\n",
       "      <td>0.0</td>\n",
       "      <td>True</td>\n",
       "      <td>1</td>\n",
       "      <td>New Loan</td>\n",
       "      <td>600.0</td>\n",
       "      <td>1868.88</td>\n",
       "      <td>IN</td>\n",
       "      <td>lead</td>\n",
       "      <td>25</td>\n",
       "      <td>Checked</td>\n",
       "      <td>58668211e4b08f246e282356</td>\n",
       "      <td>769.0</td>\n",
       "      <td>1</td>\n",
       "    </tr>\n",
       "    <tr>\n",
       "      <th>36333</th>\n",
       "      <td>LL-I-13311312</td>\n",
       "      <td>043dd86c24c63c8968082fa3ad7a8911</td>\n",
       "      <td>W</td>\n",
       "      <td>645.0</td>\n",
       "      <td>2016-12-16T20:20:30.157000</td>\n",
       "      <td>True</td>\n",
       "      <td>2016-12-16T23:15:06.874000</td>\n",
       "      <td>0.0</td>\n",
       "      <td>True</td>\n",
       "      <td>1</td>\n",
       "      <td>Paid Off Loan</td>\n",
       "      <td>300.0</td>\n",
       "      <td>1034.38</td>\n",
       "      <td>CT</td>\n",
       "      <td>lead</td>\n",
       "      <td>6</td>\n",
       "      <td>Checked</td>\n",
       "      <td>5840ad86e4b0bb9d6980127f</td>\n",
       "      <td>827.0</td>\n",
       "      <td>0</td>\n",
       "    </tr>\n",
       "  </tbody>\n",
       "</table>\n",
       "</div>"
      ],
      "text/plain": [
       "              loanId                          anon_ssn payFrequency    apr  \\\n",
       "36329  LL-I-17508871  f0b666fdd1b46c58297b3828b61047ad            M  180.2   \n",
       "36330  LL-I-15280684  73690518af906288434b2a0cfd972fe0            M  645.0   \n",
       "36331  LL-I-09897110  0538f828b4a0b44502ead5a8033ee779            B  449.0   \n",
       "36332  LL-I-14178923  d9a63e9e15b862fcaaf3653c52e1f16c            B  625.0   \n",
       "36333  LL-I-13311312  043dd86c24c63c8968082fa3ad7a8911            W  645.0   \n",
       "\n",
       "                  applicationDate  originated              originatedDate  \\\n",
       "36329  2017-02-21T20:29:57.538000        True  2017-02-21T20:45:06.563000   \n",
       "36330  2017-01-14T19:43:08.685000        True  2017-01-14T20:00:10.426000   \n",
       "36331  2016-06-22T01:10:50.110000        True  2016-06-22T21:46:54.359000   \n",
       "36332  2016-12-30T15:49:39.785000        True  2016-12-30T16:00:12.500000   \n",
       "36333  2016-12-16T20:20:30.157000        True  2016-12-16T23:15:06.874000   \n",
       "\n",
       "       nPaidOff  approved  isFunded     loanStatus  loanAmount  \\\n",
       "36329       0.0      True         1  Returned Item       500.0   \n",
       "36330       0.0      True         1  Paid Off Loan       375.0   \n",
       "36331       0.0      True         1  Paid Off Loan       400.0   \n",
       "36332       0.0      True         1       New Loan       600.0   \n",
       "36333       0.0      True         1  Paid Off Loan       300.0   \n",
       "\n",
       "       originallyScheduledPaymentAmount state leadType  leadCost  fpStatus  \\\n",
       "36329                            794.60    CO     lead        25  Rejected   \n",
       "36330                           1042.40    AL     lead        25   Checked   \n",
       "36331                            664.12    WI     lead        40   Checked   \n",
       "36332                           1868.88    IN     lead        25   Checked   \n",
       "36333                           1034.38    CT     lead         6   Checked   \n",
       "\n",
       "                 underwritingid  clearfraudscore  Cluster  \n",
       "36329  58aca342e4b0bf804c0e82db            695.0        0  \n",
       "36330  587a7f49e4b08f2485d48358            700.0        0  \n",
       "36331  5769e592e4b0ab6c50364d45            806.0        0  \n",
       "36332  58668211e4b08f246e282356            769.0        1  \n",
       "36333  5840ad86e4b0bb9d6980127f            827.0        0  "
      ]
     },
     "execution_count": 31,
     "metadata": {},
     "output_type": "execute_result"
    }
   ],
   "source": [
    "merged_loan_data['Cluster'] = proto_clusters\n",
    "merged_loan_data.tail(5)"
   ]
  },
  {
   "cell_type": "markdown",
   "metadata": {},
   "source": [
    "I want to see the glimpe of comparison, either the cluster do good or not. i will also calculate the percentage where the value of approved and the cluster are the same."
   ]
  },
  {
   "cell_type": "code",
   "execution_count": 32,
   "metadata": {},
   "outputs": [
    {
     "data": {
      "text/html": [
       "<div>\n",
       "<style scoped>\n",
       "    .dataframe tbody tr th:only-of-type {\n",
       "        vertical-align: middle;\n",
       "    }\n",
       "\n",
       "    .dataframe tbody tr th {\n",
       "        vertical-align: top;\n",
       "    }\n",
       "\n",
       "    .dataframe thead th {\n",
       "        text-align: right;\n",
       "    }\n",
       "</style>\n",
       "<table border=\"1\" class=\"dataframe\">\n",
       "  <thead>\n",
       "    <tr style=\"text-align: right;\">\n",
       "      <th></th>\n",
       "      <th>approved</th>\n",
       "      <th>Cluster</th>\n",
       "    </tr>\n",
       "  </thead>\n",
       "  <tbody>\n",
       "    <tr>\n",
       "      <th>36329</th>\n",
       "      <td>True</td>\n",
       "      <td>0</td>\n",
       "    </tr>\n",
       "    <tr>\n",
       "      <th>36330</th>\n",
       "      <td>True</td>\n",
       "      <td>0</td>\n",
       "    </tr>\n",
       "    <tr>\n",
       "      <th>36331</th>\n",
       "      <td>True</td>\n",
       "      <td>0</td>\n",
       "    </tr>\n",
       "    <tr>\n",
       "      <th>36332</th>\n",
       "      <td>True</td>\n",
       "      <td>1</td>\n",
       "    </tr>\n",
       "    <tr>\n",
       "      <th>36333</th>\n",
       "      <td>True</td>\n",
       "      <td>0</td>\n",
       "    </tr>\n",
       "  </tbody>\n",
       "</table>\n",
       "</div>"
      ],
      "text/plain": [
       "       approved  Cluster\n",
       "36329      True        0\n",
       "36330      True        0\n",
       "36331      True        0\n",
       "36332      True        1\n",
       "36333      True        0"
      ]
     },
     "execution_count": 32,
     "metadata": {},
     "output_type": "execute_result"
    }
   ],
   "source": [
    "comparison = merged_loan_data[['approved', 'Cluster']]\n",
    "comparison.tail(5)"
   ]
  },
  {
   "cell_type": "code",
   "execution_count": 33,
   "metadata": {},
   "outputs": [
    {
     "data": {
      "text/plain": [
       "21543"
      ]
     },
     "execution_count": 33,
     "metadata": {},
     "output_type": "execute_result"
    }
   ],
   "source": [
    "# Count the number of matched pairs (True, 1 or False, 0)\n",
    "matched_pairs = ((comparison['approved'] == True) & (comparison['Cluster'] == 0)).sum() + ((comparison['approved'] == False) & (comparison['Cluster'] == 1)).sum()\n",
    "matched_pairs"
   ]
  },
  {
   "cell_type": "code",
   "execution_count": 34,
   "metadata": {},
   "outputs": [
    {
     "name": "stdout",
     "output_type": "stream",
     "text": [
      "Percentage Cluster same as approved status: 59.52%\n"
     ]
    }
   ],
   "source": [
    "percentage_same = (matched_pairs/len(merged_loan_data))*100\n",
    "print(f\"Percentage Cluster same as approved status: {percentage_same:.2f}%\")"
   ]
  },
  {
   "cell_type": "markdown",
   "metadata": {},
   "source": [
    "the percentage of the cluster same as the approved is **60%** if rounded."
   ]
  },
  {
   "cell_type": "markdown",
   "metadata": {},
   "source": [
    "The objective of this project is to predict the loan risk. \n",
    "\n",
    "for the sake of experimenting, I will have the hypothesis that the loan is considered good by the status loan has been approved."
   ]
  },
  {
   "cell_type": "markdown",
   "metadata": {},
   "source": [
    "##### Feature importance for Clustering"
   ]
  },
  {
   "cell_type": "markdown",
   "metadata": {},
   "source": [
    "now we will see the feature importance for clustering, wher are the most improtance variables to determine the clustering class."
   ]
  },
  {
   "cell_type": "code",
   "execution_count": 35,
   "metadata": {},
   "outputs": [
    {
     "name": "stdout",
     "output_type": "stream",
     "text": [
      "[LightGBM] [Warning] Unknown parameter: colsample_by_tree\n",
      "[LightGBM] [Warning] Unknown parameter: colsample_by_tree\n",
      "[LightGBM] [Info] Number of positive: 14060, number of negative: 22132\n",
      "[LightGBM] [Info] Auto-choosing row-wise multi-threading, the overhead of testing was 0.000250 seconds.\n",
      "You can set `force_row_wise=true` to remove the overhead.\n",
      "And if memory is not enough, you can set `force_col_wise=true`.\n",
      "[LightGBM] [Info] Total Bins 828\n",
      "[LightGBM] [Info] Number of data points in the train set: 36192, number of used features: 58\n",
      "[LightGBM] [Info] [binary:BoostFromScore]: pavg=0.388484 -> initscore=-0.453691\n",
      "[LightGBM] [Info] Start training from score -0.453691\n"
     ]
    },
    {
     "data": {
      "text/html": [
       "<style>#sk-container-id-1 {color: black;}#sk-container-id-1 pre{padding: 0;}#sk-container-id-1 div.sk-toggleable {background-color: white;}#sk-container-id-1 label.sk-toggleable__label {cursor: pointer;display: block;width: 100%;margin-bottom: 0;padding: 0.3em;box-sizing: border-box;text-align: center;}#sk-container-id-1 label.sk-toggleable__label-arrow:before {content: \"▸\";float: left;margin-right: 0.25em;color: #696969;}#sk-container-id-1 label.sk-toggleable__label-arrow:hover:before {color: black;}#sk-container-id-1 div.sk-estimator:hover label.sk-toggleable__label-arrow:before {color: black;}#sk-container-id-1 div.sk-toggleable__content {max-height: 0;max-width: 0;overflow: hidden;text-align: left;background-color: #f0f8ff;}#sk-container-id-1 div.sk-toggleable__content pre {margin: 0.2em;color: black;border-radius: 0.25em;background-color: #f0f8ff;}#sk-container-id-1 input.sk-toggleable__control:checked~div.sk-toggleable__content {max-height: 200px;max-width: 100%;overflow: auto;}#sk-container-id-1 input.sk-toggleable__control:checked~label.sk-toggleable__label-arrow:before {content: \"▾\";}#sk-container-id-1 div.sk-estimator input.sk-toggleable__control:checked~label.sk-toggleable__label {background-color: #d4ebff;}#sk-container-id-1 div.sk-label input.sk-toggleable__control:checked~label.sk-toggleable__label {background-color: #d4ebff;}#sk-container-id-1 input.sk-hidden--visually {border: 0;clip: rect(1px 1px 1px 1px);clip: rect(1px, 1px, 1px, 1px);height: 1px;margin: -1px;overflow: hidden;padding: 0;position: absolute;width: 1px;}#sk-container-id-1 div.sk-estimator {font-family: monospace;background-color: #f0f8ff;border: 1px dotted black;border-radius: 0.25em;box-sizing: border-box;margin-bottom: 0.5em;}#sk-container-id-1 div.sk-estimator:hover {background-color: #d4ebff;}#sk-container-id-1 div.sk-parallel-item::after {content: \"\";width: 100%;border-bottom: 1px solid gray;flex-grow: 1;}#sk-container-id-1 div.sk-label:hover label.sk-toggleable__label {background-color: #d4ebff;}#sk-container-id-1 div.sk-serial::before {content: \"\";position: absolute;border-left: 1px solid gray;box-sizing: border-box;top: 0;bottom: 0;left: 50%;z-index: 0;}#sk-container-id-1 div.sk-serial {display: flex;flex-direction: column;align-items: center;background-color: white;padding-right: 0.2em;padding-left: 0.2em;position: relative;}#sk-container-id-1 div.sk-item {position: relative;z-index: 1;}#sk-container-id-1 div.sk-parallel {display: flex;align-items: stretch;justify-content: center;background-color: white;position: relative;}#sk-container-id-1 div.sk-item::before, #sk-container-id-1 div.sk-parallel-item::before {content: \"\";position: absolute;border-left: 1px solid gray;box-sizing: border-box;top: 0;bottom: 0;left: 50%;z-index: -1;}#sk-container-id-1 div.sk-parallel-item {display: flex;flex-direction: column;z-index: 1;position: relative;background-color: white;}#sk-container-id-1 div.sk-parallel-item:first-child::after {align-self: flex-end;width: 50%;}#sk-container-id-1 div.sk-parallel-item:last-child::after {align-self: flex-start;width: 50%;}#sk-container-id-1 div.sk-parallel-item:only-child::after {width: 0;}#sk-container-id-1 div.sk-dashed-wrapped {border: 1px dashed gray;margin: 0 0.4em 0.5em 0.4em;box-sizing: border-box;padding-bottom: 0.4em;background-color: white;}#sk-container-id-1 div.sk-label label {font-family: monospace;font-weight: bold;display: inline-block;line-height: 1.2em;}#sk-container-id-1 div.sk-label-container {text-align: center;}#sk-container-id-1 div.sk-container {/* jupyter's `normalize.less` sets `[hidden] { display: none; }` but bootstrap.min.css set `[hidden] { display: none !important; }` so we also need the `!important` here to be able to override the default hidden behavior on the sphinx rendered scikit-learn.org. See: https://github.com/scikit-learn/scikit-learn/issues/21755 */display: inline-block !important;position: relative;}#sk-container-id-1 div.sk-text-repr-fallback {display: none;}</style><div id=\"sk-container-id-1\" class=\"sk-top-container\"><div class=\"sk-text-repr-fallback\"><pre>LGBMClassifier(colsample_by_tree=0.8)</pre><b>In a Jupyter environment, please rerun this cell to show the HTML representation or trust the notebook. <br />On GitHub, the HTML representation is unable to render, please try loading this page with nbviewer.org.</b></div><div class=\"sk-container\" hidden><div class=\"sk-item\"><div class=\"sk-estimator sk-toggleable\"><input class=\"sk-toggleable__control sk-hidden--visually\" id=\"sk-estimator-id-1\" type=\"checkbox\" checked><label for=\"sk-estimator-id-1\" class=\"sk-toggleable__label sk-toggleable__label-arrow\">LGBMClassifier</label><div class=\"sk-toggleable__content\"><pre>LGBMClassifier(colsample_by_tree=0.8)</pre></div></div></div></div></div>"
      ],
      "text/plain": [
       "LGBMClassifier(colsample_by_tree=0.8)"
      ]
     },
     "execution_count": 35,
     "metadata": {},
     "output_type": "execute_result"
    }
   ],
   "source": [
    "clf_kp.fit(lgbm_data, proto_clusters)"
   ]
  },
  {
   "cell_type": "code",
   "execution_count": 36,
   "metadata": {},
   "outputs": [
    {
     "name": "stderr",
     "output_type": "stream",
     "text": [
      "LightGBM binary classifier with TreeExplainer shap values output has changed to a list of ndarray\n"
     ]
    },
    {
     "data": {
      "image/png": "[encoded data removed]",
      "text/plain": [
       "<Figure size 1000x500 with 1 Axes>"
      ]
     },
     "metadata": {},
     "output_type": "display_data"
    }
   ],
   "source": [
    "explainer_kp = shap.TreeExplainer(clf_kp)\n",
    "shap_values_kp = explainer_kp.shap_values(lgbm_data)\n",
    "shap.summary_plot(shap_values_kp, lgbm_data, plot_type=\"bar\", plot_size=(10, 5))"
   ]
  },
  {
   "cell_type": "markdown",
   "metadata": {},
   "source": [
    "To classify the K-Prototypes clusters, LightGBM needs 8 features and 3 of them are quite important. Categorical features are the least important.\n",
    "\n",
    "Overall, classifiers for the clustering methods have F1 score close to 1 which means that K-prototypes have produced clusters that are easily distinguishable. LightGBM uses 7 important features, and some of the categorical features quite important. This proves that the clusters produced by K-Prototypes are informative."
   ]
  },
  {
   "cell_type": "markdown",
   "metadata": {},
   "source": [
    "##### Save Data to data folder"
   ]
  },
  {
   "cell_type": "code",
   "execution_count": 37,
   "metadata": {},
   "outputs": [],
   "source": [
    "# Save data\n",
    "merged_loan_data.to_excel(\"C:\\\\Users\\\\PC\\\\OneDrive - Universiti Malaya\\\\Resume\\\\MoneyLion\\\\data(if any)\\\\merged_loan.xlsx\", index=False)"
   ]
  },
  {
   "cell_type": "markdown",
   "metadata": {},
   "source": [
    "#### Predict if the loan is good loan (ie low risk)"
   ]
  },
  {
   "cell_type": "markdown",
   "metadata": {},
   "source": [
    "now that we know the good and bad loan, lets do some prediction for assessing either the loan is good or not for the loaner."
   ]
  },
  {
   "cell_type": "markdown",
   "metadata": {},
   "source": [
    "##### import data"
   ]
  },
  {
   "cell_type": "code",
   "execution_count": 38,
   "metadata": {},
   "outputs": [],
   "source": [
    "# import master data\n",
    "data = pd.read_excel(\"C:\\\\Users\\\\PC\\\\OneDrive - Universiti Malaya\\\\Resume\\\\MoneyLion\\\\data(if any)\\\\merged_loan.xlsx\")"
   ]
  },
  {
   "cell_type": "markdown",
   "metadata": {},
   "source": [
    "##### Data Cleaning"
   ]
  },
  {
   "cell_type": "markdown",
   "metadata": {},
   "source": [
    "now we need to clean the data, remove unwanted columns and highly correlated column, because it will be bias for model development later."
   ]
  },
  {
   "cell_type": "code",
   "execution_count": 39,
   "metadata": {},
   "outputs": [],
   "source": [
    "# Remove IDs and Highly correlated columns\n",
    "data = data.drop(['loanId', 'anon_ssn', 'applicationDate', 'originatedDate', 'underwritingid', 'fpStatus', 'loanStatus', 'isFunded', 'originated'], axis=1)"
   ]
  },
  {
   "cell_type": "code",
   "execution_count": 40,
   "metadata": {},
   "outputs": [],
   "source": [
    "data = data.dropna()"
   ]
  },
  {
   "cell_type": "markdown",
   "metadata": {},
   "source": [
    "##### Data Preprocessing"
   ]
  },
  {
   "cell_type": "markdown",
   "metadata": {},
   "source": [
    "we will do some preprocessing so that the data ready to be trained. such as change the datatype for categorical variables from object to category, change the categorical variable to int as the LightGBM need the data in numeric, and as our target is a binary, we can just put it as bool datatype."
   ]
  },
  {
   "cell_type": "code",
   "execution_count": 41,
   "metadata": {},
   "outputs": [],
   "source": [
    "# Define input features and target variable\n",
    "input_cols = ['payFrequency', 'apr',  'nPaidOff', \n",
    "              'loanAmount', 'originallyScheduledPaymentAmount', \n",
    "              'state', 'leadType', 'leadCost', 'clearfraudscore']\n",
    "target_col = 'Cluster'\n",
    "categorical_feature_names = ['payFrequency', 'state', 'leadType']\n",
    "\n",
    "label_encoder = LabelEncoder()\n",
    "\n",
    "for c in categorical_feature_names:\n",
    "    data[c] = label_encoder.fit_transform(data[c])\n",
    "    data[c] = data[c].astype('category')\n",
    "\n",
    "data[target_col]= data[target_col].astype('bool')\n",
    "\n"
   ]
  },
  {
   "cell_type": "markdown",
   "metadata": {},
   "source": [
    "##### Data Splitting"
   ]
  },
  {
   "cell_type": "markdown",
   "metadata": {},
   "source": [
    "splitting the data with training, validating, and testing.\n",
    "\n",
    "the training is 80%, validate is 20%, while testing is the last 5 rows fom the original dataset."
   ]
  },
  {
   "cell_type": "code",
   "execution_count": 42,
   "metadata": {},
   "outputs": [],
   "source": [
    "data_test = data.iloc[-5:]\n",
    "data = data.iloc[5:]\n",
    "\n",
    "X = data[input_cols]\n",
    "y = data[target_col]\n",
    "\n",
    "X_train, X_test, y_train, y_test = train_test_split(X, y, test_size=0.2, random_state=42)"
   ]
  },
  {
   "cell_type": "markdown",
   "metadata": {},
   "source": [
    "##### Data Modelling"
   ]
  },
  {
   "cell_type": "markdown",
   "metadata": {},
   "source": [
    "for data modelling/model development, im using the same algorithm as before, lightGBM as it can use categorical features and can easily get SHAP values for the trained model."
   ]
  },
  {
   "cell_type": "code",
   "execution_count": 43,
   "metadata": {},
   "outputs": [
    {
     "name": "stdout",
     "output_type": "stream",
     "text": [
      "[LightGBM] [Warning] Unknown parameter: colsample_by_tree\n",
      "[LightGBM] [Warning] Unknown parameter: colsample_by_tree\n",
      "[LightGBM] [Info] Number of positive: 11240, number of negative: 17629\n",
      "[LightGBM] [Info] Auto-choosing col-wise multi-threading, the overhead of testing was 0.000807 seconds.\n",
      "You can set `force_col_wise=true` to remove the overhead.\n",
      "[LightGBM] [Info] Total Bins 764\n",
      "[LightGBM] [Info] Number of data points in the train set: 28869, number of used features: 9\n",
      "[LightGBM] [Info] [binary:BoostFromScore]: pavg=0.389345 -> initscore=-0.450066\n",
      "[LightGBM] [Info] Start training from score -0.450066\n"
     ]
    },
    {
     "data": {
      "text/html": [
       "<style>#sk-container-id-2 {color: black;}#sk-container-id-2 pre{padding: 0;}#sk-container-id-2 div.sk-toggleable {background-color: white;}#sk-container-id-2 label.sk-toggleable__label {cursor: pointer;display: block;width: 100%;margin-bottom: 0;padding: 0.3em;box-sizing: border-box;text-align: center;}#sk-container-id-2 label.sk-toggleable__label-arrow:before {content: \"▸\";float: left;margin-right: 0.25em;color: #696969;}#sk-container-id-2 label.sk-toggleable__label-arrow:hover:before {color: black;}#sk-container-id-2 div.sk-estimator:hover label.sk-toggleable__label-arrow:before {color: black;}#sk-container-id-2 div.sk-toggleable__content {max-height: 0;max-width: 0;overflow: hidden;text-align: left;background-color: #f0f8ff;}#sk-container-id-2 div.sk-toggleable__content pre {margin: 0.2em;color: black;border-radius: 0.25em;background-color: #f0f8ff;}#sk-container-id-2 input.sk-toggleable__control:checked~div.sk-toggleable__content {max-height: 200px;max-width: 100%;overflow: auto;}#sk-container-id-2 input.sk-toggleable__control:checked~label.sk-toggleable__label-arrow:before {content: \"▾\";}#sk-container-id-2 div.sk-estimator input.sk-toggleable__control:checked~label.sk-toggleable__label {background-color: #d4ebff;}#sk-container-id-2 div.sk-label input.sk-toggleable__control:checked~label.sk-toggleable__label {background-color: #d4ebff;}#sk-container-id-2 input.sk-hidden--visually {border: 0;clip: rect(1px 1px 1px 1px);clip: rect(1px, 1px, 1px, 1px);height: 1px;margin: -1px;overflow: hidden;padding: 0;position: absolute;width: 1px;}#sk-container-id-2 div.sk-estimator {font-family: monospace;background-color: #f0f8ff;border: 1px dotted black;border-radius: 0.25em;box-sizing: border-box;margin-bottom: 0.5em;}#sk-container-id-2 div.sk-estimator:hover {background-color: #d4ebff;}#sk-container-id-2 div.sk-parallel-item::after {content: \"\";width: 100%;border-bottom: 1px solid gray;flex-grow: 1;}#sk-container-id-2 div.sk-label:hover label.sk-toggleable__label {background-color: #d4ebff;}#sk-container-id-2 div.sk-serial::before {content: \"\";position: absolute;border-left: 1px solid gray;box-sizing: border-box;top: 0;bottom: 0;left: 50%;z-index: 0;}#sk-container-id-2 div.sk-serial {display: flex;flex-direction: column;align-items: center;background-color: white;padding-right: 0.2em;padding-left: 0.2em;position: relative;}#sk-container-id-2 div.sk-item {position: relative;z-index: 1;}#sk-container-id-2 div.sk-parallel {display: flex;align-items: stretch;justify-content: center;background-color: white;position: relative;}#sk-container-id-2 div.sk-item::before, #sk-container-id-2 div.sk-parallel-item::before {content: \"\";position: absolute;border-left: 1px solid gray;box-sizing: border-box;top: 0;bottom: 0;left: 50%;z-index: -1;}#sk-container-id-2 div.sk-parallel-item {display: flex;flex-direction: column;z-index: 1;position: relative;background-color: white;}#sk-container-id-2 div.sk-parallel-item:first-child::after {align-self: flex-end;width: 50%;}#sk-container-id-2 div.sk-parallel-item:last-child::after {align-self: flex-start;width: 50%;}#sk-container-id-2 div.sk-parallel-item:only-child::after {width: 0;}#sk-container-id-2 div.sk-dashed-wrapped {border: 1px dashed gray;margin: 0 0.4em 0.5em 0.4em;box-sizing: border-box;padding-bottom: 0.4em;background-color: white;}#sk-container-id-2 div.sk-label label {font-family: monospace;font-weight: bold;display: inline-block;line-height: 1.2em;}#sk-container-id-2 div.sk-label-container {text-align: center;}#sk-container-id-2 div.sk-container {/* jupyter's `normalize.less` sets `[hidden] { display: none; }` but bootstrap.min.css set `[hidden] { display: none !important; }` so we also need the `!important` here to be able to override the default hidden behavior on the sphinx rendered scikit-learn.org. See: https://github.com/scikit-learn/scikit-learn/issues/21755 */display: inline-block !important;position: relative;}#sk-container-id-2 div.sk-text-repr-fallback {display: none;}</style><div id=\"sk-container-id-2\" class=\"sk-top-container\"><div class=\"sk-text-repr-fallback\"><pre>LGBMClassifier(colsample_by_tree=0.8)</pre><b>In a Jupyter environment, please rerun this cell to show the HTML representation or trust the notebook. <br />On GitHub, the HTML representation is unable to render, please try loading this page with nbviewer.org.</b></div><div class=\"sk-container\" hidden><div class=\"sk-item\"><div class=\"sk-estimator sk-toggleable\"><input class=\"sk-toggleable__control sk-hidden--visually\" id=\"sk-estimator-id-2\" type=\"checkbox\" checked><label for=\"sk-estimator-id-2\" class=\"sk-toggleable__label sk-toggleable__label-arrow\">LGBMClassifier</label><div class=\"sk-toggleable__content\"><pre>LGBMClassifier(colsample_by_tree=0.8)</pre></div></div></div></div></div>"
      ],
      "text/plain": [
       "LGBMClassifier(colsample_by_tree=0.8)"
      ]
     },
     "execution_count": 43,
     "metadata": {},
     "output_type": "execute_result"
    }
   ],
   "source": [
    "clf = lgb.LGBMClassifier(colsample_by_tree=0.8)\n",
    "clf.fit(X_train, y_train)"
   ]
  },
  {
   "cell_type": "markdown",
   "metadata": {},
   "source": [
    "##### Feature Importance"
   ]
  },
  {
   "cell_type": "code",
   "execution_count": 44,
   "metadata": {},
   "outputs": [
    {
     "name": "stderr",
     "output_type": "stream",
     "text": [
      "LightGBM binary classifier with TreeExplainer shap values output has changed to a list of ndarray\n"
     ]
    },
    {
     "data": {
      "image/png": "[encoded data removed]",
      "text/plain": [
       "<Figure size 1000x500 with 1 Axes>"
      ]
     },
     "metadata": {},
     "output_type": "display_data"
    }
   ],
   "source": [
    "explainer_kp = shap.TreeExplainer(clf)\n",
    "shap_values_kp = explainer_kp.shap_values(X_train)\n",
    "shap.summary_plot(shap_values_kp, X_train, plot_type=\"bar\", plot_size=(10, 5))"
   ]
  },
  {
   "cell_type": "markdown",
   "metadata": {},
   "source": [
    "same as before, the loanAmount give the highest inportance to determine the good loan risk or bad loan risk."
   ]
  },
  {
   "cell_type": "markdown",
   "metadata": {},
   "source": [
    "##### Accuracy Metrics"
   ]
  },
  {
   "cell_type": "markdown",
   "metadata": {},
   "source": [
    "now we will do accuracy metrics to knwo how well the trained model works."
   ]
  },
  {
   "cell_type": "code",
   "execution_count": 45,
   "metadata": {},
   "outputs": [
    {
     "name": "stdout",
     "output_type": "stream",
     "text": [
      "[LightGBM] [Warning] Unknown parameter: colsample_by_tree\n",
      "[LightGBM] [Warning] Unknown parameter: colsample_by_tree\n",
      "[LightGBM] [Info] Number of positive: 2253, number of negative: 3521\n",
      "[LightGBM] [Info] Auto-choosing row-wise multi-threading, the overhead of testing was 0.000054 seconds.\n",
      "You can set `force_row_wise=true` to remove the overhead.\n",
      "And if memory is not enough, you can set `force_col_wise=true`.\n",
      "[LightGBM] [Info] Total Bins 690\n",
      "[LightGBM] [Info] Number of data points in the train set: 5774, number of used features: 9\n",
      "[LightGBM] [Info] [binary:BoostFromScore]: pavg=0.390197 -> initscore=-0.446482\n",
      "[LightGBM] [Info] Start training from score -0.446482\n",
      "[LightGBM] [Warning] Unknown parameter: colsample_by_tree\n",
      "[LightGBM] [Warning] Unknown parameter: colsample_by_tree\n",
      "[LightGBM] [Warning] Unknown parameter: colsample_by_tree\n",
      "[LightGBM] [Info] Number of positive: 2253, number of negative: 3521\n",
      "[LightGBM] [Info] Auto-choosing row-wise multi-threading, the overhead of testing was 0.000053 seconds.\n",
      "You can set `force_row_wise=true` to remove the overhead.\n",
      "And if memory is not enough, you can set `force_col_wise=true`.\n",
      "[LightGBM] [Info] Total Bins 693\n",
      "[LightGBM] [Info] Number of data points in the train set: 5774, number of used features: 9\n",
      "[LightGBM] [Info] [binary:BoostFromScore]: pavg=0.390197 -> initscore=-0.446482\n",
      "[LightGBM] [Info] Start training from score -0.446482\n",
      "[LightGBM] [Warning] Unknown parameter: colsample_by_tree\n",
      "[LightGBM] [Warning] Unknown parameter: colsample_by_tree\n",
      "[LightGBM] [Warning] Unknown parameter: colsample_by_tree\n",
      "[LightGBM] [Info] Number of positive: 2252, number of negative: 3522\n",
      "[LightGBM] [Info] Auto-choosing row-wise multi-threading, the overhead of testing was 0.000055 seconds.\n",
      "You can set `force_row_wise=true` to remove the overhead.\n",
      "And if memory is not enough, you can set `force_col_wise=true`.\n",
      "[LightGBM] [Info] Total Bins 692\n",
      "[LightGBM] [Info] Number of data points in the train set: 5774, number of used features: 9\n",
      "[LightGBM] [Info] [binary:BoostFromScore]: pavg=0.390024 -> initscore=-0.447210\n",
      "[LightGBM] [Info] Start training from score -0.447210\n",
      "[LightGBM] [Warning] Unknown parameter: colsample_by_tree\n",
      "[LightGBM] [Warning] Unknown parameter: colsample_by_tree\n",
      "[LightGBM] [Warning] Unknown parameter: colsample_by_tree\n",
      "[LightGBM] [Info] Number of positive: 2253, number of negative: 3522\n",
      "[LightGBM] [Info] Auto-choosing col-wise multi-threading, the overhead of testing was 0.000179 seconds.\n",
      "You can set `force_col_wise=true` to remove the overhead.\n",
      "[LightGBM] [Info] Total Bins 687\n",
      "[LightGBM] [Info] Number of data points in the train set: 5775, number of used features: 9\n",
      "[LightGBM] [Info] [binary:BoostFromScore]: pavg=0.390130 -> initscore=-0.446766\n",
      "[LightGBM] [Info] Start training from score -0.446766\n",
      "[LightGBM] [Warning] Unknown parameter: colsample_by_tree\n",
      "[LightGBM] [Warning] Unknown parameter: colsample_by_tree\n",
      "[LightGBM] [Warning] Unknown parameter: colsample_by_tree\n",
      "[LightGBM] [Info] Number of positive: 2253, number of negative: 3522\n",
      "[LightGBM] [Info] Auto-choosing row-wise multi-threading, the overhead of testing was 0.000049 seconds.\n",
      "You can set `force_row_wise=true` to remove the overhead.\n",
      "And if memory is not enough, you can set `force_col_wise=true`.\n",
      "[LightGBM] [Info] Total Bins 689\n",
      "[LightGBM] [Info] Number of data points in the train set: 5775, number of used features: 9\n",
      "[LightGBM] [Info] [binary:BoostFromScore]: pavg=0.390130 -> initscore=-0.446766\n",
      "[LightGBM] [Info] Start training from score -0.446766\n",
      "[LightGBM] [Warning] Unknown parameter: colsample_by_tree\n"
     ]
    }
   ],
   "source": [
    "cv_scores = cross_val_score(clf, X_test, y_test, scoring='f1_weighted')"
   ]
  },
  {
   "cell_type": "code",
   "execution_count": 46,
   "metadata": {},
   "outputs": [
    {
     "name": "stdout",
     "output_type": "stream",
     "text": [
      "0.9876716660486862\n"
     ]
    }
   ],
   "source": [
    "print(np.mean(cv_scores))"
   ]
  },
  {
   "cell_type": "markdown",
   "metadata": {},
   "source": [
    "for the accuracy model, I using F1 score, and the trained model got **98%** accuracy score. Which shows that the model can easily predict the cluster classes."
   ]
  },
  {
   "cell_type": "markdown",
   "metadata": {},
   "source": [
    "##### Save model"
   ]
  },
  {
   "cell_type": "code",
   "execution_count": 47,
   "metadata": {},
   "outputs": [
    {
     "data": {
      "text/plain": [
       "['classification_model.pkl']"
      ]
     },
     "execution_count": 47,
     "metadata": {},
     "output_type": "execute_result"
    }
   ],
   "source": [
    "filename = 'classification_model.pkl'\n",
    "joblib.dump(clf, filename)"
   ]
  },
  {
   "cell_type": "markdown",
   "metadata": {},
   "source": [
    "##### Test the model with new untrained data"
   ]
  },
  {
   "cell_type": "markdown",
   "metadata": {},
   "source": [
    "now we will be testing the model with new, unseen data that we slice earlier."
   ]
  },
  {
   "cell_type": "code",
   "execution_count": 48,
   "metadata": {},
   "outputs": [],
   "source": [
    "data_test_x = data_test.drop(columns=['approved', 'Cluster'])\n"
   ]
  },
  {
   "cell_type": "code",
   "execution_count": 49,
   "metadata": {},
   "outputs": [],
   "source": [
    "data_test_y = data_test['Cluster']"
   ]
  },
  {
   "cell_type": "code",
   "execution_count": 50,
   "metadata": {},
   "outputs": [
    {
     "name": "stdout",
     "output_type": "stream",
     "text": [
      "[LightGBM] [Warning] Unknown parameter: colsample_by_tree\n",
      "1.0\n"
     ]
    }
   ],
   "source": [
    "# load the model from disk\n",
    "loaded_model = joblib.load(filename)\n",
    "result = loaded_model.score(data_test_x, data_test_y)\n",
    "print(result)"
   ]
  },
  {
   "cell_type": "code",
   "execution_count": 51,
   "metadata": {},
   "outputs": [
    {
     "name": "stdout",
     "output_type": "stream",
     "text": [
      "[LightGBM] [Warning] Unknown parameter: colsample_by_tree\n"
     ]
    }
   ],
   "source": [
    "y_test_pred = clf.predict(data_test_x)"
   ]
  },
  {
   "cell_type": "code",
   "execution_count": 52,
   "metadata": {},
   "outputs": [
    {
     "data": {
      "text/html": [
       "<div>\n",
       "<style scoped>\n",
       "    .dataframe tbody tr th:only-of-type {\n",
       "        vertical-align: middle;\n",
       "    }\n",
       "\n",
       "    .dataframe tbody tr th {\n",
       "        vertical-align: top;\n",
       "    }\n",
       "\n",
       "    .dataframe thead th {\n",
       "        text-align: right;\n",
       "    }\n",
       "</style>\n",
       "<table border=\"1\" class=\"dataframe\">\n",
       "  <thead>\n",
       "    <tr style=\"text-align: right;\">\n",
       "      <th></th>\n",
       "      <th>Predicted</th>\n",
       "    </tr>\n",
       "    <tr>\n",
       "      <th>Cluster</th>\n",
       "      <th></th>\n",
       "    </tr>\n",
       "  </thead>\n",
       "  <tbody>\n",
       "    <tr>\n",
       "      <th>False</th>\n",
       "      <td>False</td>\n",
       "    </tr>\n",
       "    <tr>\n",
       "      <th>False</th>\n",
       "      <td>False</td>\n",
       "    </tr>\n",
       "    <tr>\n",
       "      <th>False</th>\n",
       "      <td>False</td>\n",
       "    </tr>\n",
       "    <tr>\n",
       "      <th>True</th>\n",
       "      <td>True</td>\n",
       "    </tr>\n",
       "    <tr>\n",
       "      <th>False</th>\n",
       "      <td>False</td>\n",
       "    </tr>\n",
       "  </tbody>\n",
       "</table>\n",
       "</div>"
      ],
      "text/plain": [
       "         Predicted\n",
       "Cluster           \n",
       "False        False\n",
       "False        False\n",
       "False        False\n",
       "True          True\n",
       "False        False"
      ]
     },
     "execution_count": 52,
     "metadata": {},
     "output_type": "execute_result"
    }
   ],
   "source": [
    "concat = pd.DataFrame(y_test_pred, data_test_y, columns=['Predicted'])\n",
    "concat"
   ]
  },
  {
   "cell_type": "markdown",
   "metadata": {},
   "source": [
    "We get to see that the model correctly predict the 5 rows classes. \n",
    "\n",
    "in conclusion, I manage to build a prediction model for predicting good or bad loan risk based on input features during loan application."
   ]
  }
 ],
 "metadata": {
  "kernelspec": {
   "display_name": "python_work",
   "language": "python",
   "name": "python3"
  },
  "language_info": {
   "codemirror_mode": {
    "name": "ipython",
    "version": 3
   },
   "file_extension": ".py",
   "mimetype": "text/x-python",
   "name": "python",
   "nbconvert_exporter": "python",
   "pygments_lexer": "ipython3",
   "version": "3.11.5"
  }
 },
 "nbformat": 4,
 "nbformat_minor": 2
}
